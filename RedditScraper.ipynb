{
  "nbformat": 4,
  "nbformat_minor": 0,
  "metadata": {
    "colab": {
      "provenance": [],
      "collapsed_sections": []
    },
    "kernelspec": {
      "name": "python3",
      "display_name": "Python 3"
    },
    "language_info": {
      "name": "python"
    }
  },
  "cells": [
    {
      "cell_type": "code",
      "execution_count": null,
      "metadata": {
        "colab": {
          "base_uri": "https://localhost:8080/"
        },
        "id": "Fx7tMCsRKyvl",
        "outputId": "d0cda3b0-0ab9-4d1b-ac25-ae495e255925"
      },
      "outputs": [
        {
          "output_type": "stream",
          "name": "stdout",
          "text": [
            "Looking in indexes: https://pypi.org/simple, https://us-python.pkg.dev/colab-wheels/public/simple/\n",
            "Collecting praw\n",
            "  Downloading praw-7.6.0-py3-none-any.whl (188 kB)\n",
            "\u001b[K     |████████████████████████████████| 188 kB 4.2 MB/s \n",
            "\u001b[?25hCollecting asyncpraw\n",
            "  Downloading asyncpraw-7.5.0-py3-none-any.whl (183 kB)\n",
            "\u001b[K     |████████████████████████████████| 183 kB 51.1 MB/s \n",
            "\u001b[?25hCollecting psaw\n",
            "  Downloading psaw-0.1.0-py3-none-any.whl (15 kB)\n",
            "Collecting pmaw\n",
            "  Downloading pmaw-2.1.3-py3-none-any.whl (25 kB)\n",
            "Requirement already satisfied: textblob in /usr/local/lib/python3.7/dist-packages (0.15.3)\n",
            "Collecting emoji\n",
            "  Downloading emoji-2.1.0.tar.gz (216 kB)\n",
            "\u001b[K     |████████████████████████████████| 216 kB 64.8 MB/s \n",
            "\u001b[?25hCollecting langdetect\n",
            "  Downloading langdetect-1.0.9.tar.gz (981 kB)\n",
            "\u001b[K     |████████████████████████████████| 981 kB 42.8 MB/s \n",
            "\u001b[?25hCollecting websocket-client>=0.54.0\n",
            "  Downloading websocket_client-1.4.1-py3-none-any.whl (55 kB)\n",
            "\u001b[K     |████████████████████████████████| 55 kB 1.8 MB/s \n",
            "\u001b[?25hCollecting update-checker>=0.18\n",
            "  Downloading update_checker-0.18.0-py3-none-any.whl (7.0 kB)\n",
            "Collecting prawcore<3,>=2.1\n",
            "  Downloading prawcore-2.3.0-py3-none-any.whl (16 kB)\n",
            "Requirement already satisfied: requests<3.0,>=2.6.0 in /usr/local/lib/python3.7/dist-packages (from prawcore<3,>=2.1->praw) (2.23.0)\n",
            "Requirement already satisfied: urllib3!=1.25.0,!=1.25.1,<1.26,>=1.21.1 in /usr/local/lib/python3.7/dist-packages (from requests<3.0,>=2.6.0->prawcore<3,>=2.1->praw) (1.24.3)\n",
            "Requirement already satisfied: chardet<4,>=3.0.2 in /usr/local/lib/python3.7/dist-packages (from requests<3.0,>=2.6.0->prawcore<3,>=2.1->praw) (3.0.4)\n",
            "Requirement already satisfied: certifi>=2017.4.17 in /usr/local/lib/python3.7/dist-packages (from requests<3.0,>=2.6.0->prawcore<3,>=2.1->praw) (2022.9.24)\n",
            "Requirement already satisfied: idna<3,>=2.5 in /usr/local/lib/python3.7/dist-packages (from requests<3.0,>=2.6.0->prawcore<3,>=2.1->praw) (2.10)\n",
            "Collecting asyncio-extras<=1.3.2\n",
            "  Downloading asyncio_extras-1.3.2-py3-none-any.whl (8.4 kB)\n",
            "Collecting asyncprawcore<3,>=2.1\n",
            "  Downloading asyncprawcore-2.3.0-py3-none-any.whl (18 kB)\n",
            "Collecting aiosqlite<=0.17.0\n",
            "  Downloading aiosqlite-0.17.0-py3-none-any.whl (15 kB)\n",
            "Collecting aiofiles<=0.6.0\n",
            "  Downloading aiofiles-0.6.0-py3-none-any.whl (11 kB)\n",
            "Requirement already satisfied: typing_extensions>=3.7.2 in /usr/local/lib/python3.7/dist-packages (from aiosqlite<=0.17.0->asyncpraw) (4.1.1)\n",
            "Collecting async-generator>=1.3\n",
            "  Downloading async_generator-1.10-py3-none-any.whl (18 kB)\n",
            "Requirement already satisfied: yarl in /usr/local/lib/python3.7/dist-packages (from asyncprawcore<3,>=2.1->asyncpraw) (1.8.1)\n",
            "Requirement already satisfied: aiohttp in /usr/local/lib/python3.7/dist-packages (from asyncprawcore<3,>=2.1->asyncpraw) (3.8.3)\n",
            "Requirement already satisfied: Click in /usr/local/lib/python3.7/dist-packages (from psaw) (7.1.2)\n",
            "Requirement already satisfied: nltk>=3.1 in /usr/local/lib/python3.7/dist-packages (from textblob) (3.7)\n",
            "Requirement already satisfied: regex>=2021.8.3 in /usr/local/lib/python3.7/dist-packages (from nltk>=3.1->textblob) (2022.6.2)\n",
            "Requirement already satisfied: joblib in /usr/local/lib/python3.7/dist-packages (from nltk>=3.1->textblob) (1.2.0)\n",
            "Requirement already satisfied: tqdm in /usr/local/lib/python3.7/dist-packages (from nltk>=3.1->textblob) (4.64.1)\n",
            "Requirement already satisfied: six in /usr/local/lib/python3.7/dist-packages (from langdetect) (1.15.0)\n",
            "Requirement already satisfied: charset-normalizer<3.0,>=2.0 in /usr/local/lib/python3.7/dist-packages (from aiohttp->asyncprawcore<3,>=2.1->asyncpraw) (2.1.1)\n",
            "Requirement already satisfied: frozenlist>=1.1.1 in /usr/local/lib/python3.7/dist-packages (from aiohttp->asyncprawcore<3,>=2.1->asyncpraw) (1.3.1)\n",
            "Requirement already satisfied: multidict<7.0,>=4.5 in /usr/local/lib/python3.7/dist-packages (from aiohttp->asyncprawcore<3,>=2.1->asyncpraw) (6.0.2)\n",
            "Requirement already satisfied: aiosignal>=1.1.2 in /usr/local/lib/python3.7/dist-packages (from aiohttp->asyncprawcore<3,>=2.1->asyncpraw) (1.2.0)\n",
            "Requirement already satisfied: attrs>=17.3.0 in /usr/local/lib/python3.7/dist-packages (from aiohttp->asyncprawcore<3,>=2.1->asyncpraw) (22.1.0)\n",
            "Requirement already satisfied: async-timeout<5.0,>=4.0.0a3 in /usr/local/lib/python3.7/dist-packages (from aiohttp->asyncprawcore<3,>=2.1->asyncpraw) (4.0.2)\n",
            "Requirement already satisfied: asynctest==0.13.0 in /usr/local/lib/python3.7/dist-packages (from aiohttp->asyncprawcore<3,>=2.1->asyncpraw) (0.13.0)\n",
            "Building wheels for collected packages: emoji, langdetect\n",
            "  Building wheel for emoji (setup.py) ... \u001b[?25l\u001b[?25hdone\n",
            "  Created wheel for emoji: filename=emoji-2.1.0-py3-none-any.whl size=212392 sha256=ecd06134611f13a224c8feff29c622806fa466d53b68c95c42564d70326d13fa\n",
            "  Stored in directory: /root/.cache/pip/wheels/77/75/99/51c2a119f4cfd3af7b49cc57e4f737bed7e40b348a85d82804\n",
            "  Building wheel for langdetect (setup.py) ... \u001b[?25l\u001b[?25hdone\n",
            "  Created wheel for langdetect: filename=langdetect-1.0.9-py3-none-any.whl size=993242 sha256=56b0541cd2fc5644e5647454ef294cb1a7e3fd7cc076cd119f9e84f695cb37a5\n",
            "  Stored in directory: /root/.cache/pip/wheels/c5/96/8a/f90c59ed25d75e50a8c10a1b1c2d4c402e4dacfa87f3aff36a\n",
            "Successfully built emoji langdetect\n",
            "Installing collected packages: websocket-client, update-checker, prawcore, async-generator, praw, asyncprawcore, asyncio-extras, aiosqlite, aiofiles, psaw, pmaw, langdetect, emoji, asyncpraw\n",
            "Successfully installed aiofiles-0.6.0 aiosqlite-0.17.0 async-generator-1.10 asyncio-extras-1.3.2 asyncpraw-7.5.0 asyncprawcore-2.3.0 emoji-2.1.0 langdetect-1.0.9 pmaw-2.1.3 praw-7.6.0 prawcore-2.3.0 psaw-0.1.0 update-checker-0.18.0 websocket-client-1.4.1\n"
          ]
        }
      ],
      "source": [
        "!pip install praw psaw pmaw textblob emoji langdetect"
      ]
    },
    {
      "cell_type": "code",
      "source": [
        "import praw\n",
        "import pandas as pd\n",
        "from psaw import PushshiftAPI\n",
        "import math\n",
        "import json\n",
        "import requests\n",
        "import itertools\n",
        "import numpy as np\n",
        "import time\n",
        "import datetime as dt\n",
        "import regex\n",
        "from textblob import TextBlob\n",
        "import langdetect\n",
        "from langdetect import detect, DetectorFactory\n",
        "import emoji\n",
        "import warnings\n",
        "warnings.filterwarnings('ignore')\n",
        "DetectorFactory.seed = 0"
      ],
      "metadata": {
        "id": "vMN3jKCyK00n"
      },
      "execution_count": null,
      "outputs": []
    },
    {
      "cell_type": "markdown",
      "source": [
        "# Crawl data from r/finance"
      ],
      "metadata": {
        "id": "_R3PG-OYQvW1"
      }
    },
    {
      "cell_type": "code",
      "source": [
        "def is_english(text: str) -> bool:\n",
        "    '''\n",
        "    Tries to recognize language of a string. If it's english, retruns True, otherwise False.\n",
        "    '''\n",
        "    try:\n",
        "        if detect(text) == \"en\":\n",
        "            return True\n",
        "    except langdetect.lang_detect_exception.LangDetectException:\n",
        "        # print(\"Language detection failed, skipping\")\n",
        "        pass\n",
        "    return False\n",
        "\n",
        "\n",
        "def contains_emoji(text: str) -> bool:\n",
        "    '''\n",
        "    Returns true if string contains an emoji\n",
        "    '''\n",
        "    data = regex.findall(r'\\X', text)\n",
        "    for word in data:\n",
        "        if any(emoji.is_emoji(char) for char in word):\n",
        "            return True\n",
        "\n",
        "    return False"
      ],
      "metadata": {
        "id": "Ja0n5pjZLv1O"
      },
      "execution_count": null,
      "outputs": []
    },
    {
      "cell_type": "code",
      "source": [
        "def scrape(api, subreddits, start_time, end_time):\n",
        "  results = list(api.search_submissions(after=start_time, before=end_time, subreddit=subreddits, num_comments=\">1\"))\n",
        "  submissions = []\n",
        "  for res in results:\n",
        "    try:\n",
        "      if \"Weekly Questions Thread\" in res.title or res.selftext or res.selftext == \"[removed]\":\n",
        "        continue\n",
        "      # Filter out titles with emojis as that is probably a spam\n",
        "      elif contains_emoji(res.title) or not is_english(res.title):\n",
        "            continue\n",
        "      elif hasattr(res, 'removed_by_category'):\n",
        "        continue\n",
        "      else:\n",
        "          temp = {\n",
        "              'id': res.id,\n",
        "              'title': res.title,\n",
        "              'score': res.score,\n",
        "              'external_url': res.url,\n",
        "              'author': res.author,\n",
        "              'submitted_time': res.created_utc,\n",
        "              # 'post_url': 'reddit.com/' + res.id\n",
        "          }\n",
        "          submissions.append(temp)\n",
        "    except Exception as e:\n",
        "      print(e)\n",
        "      print(res)\n",
        "  return submissions"
      ],
      "metadata": {
        "id": "KuIiNEpWMIXY"
      },
      "execution_count": null,
      "outputs": []
    },
    {
      "cell_type": "code",
      "source": [
        "api = PushshiftAPI()\n",
        "subreddits = ['FinanceNews', 'Economics', 'SecurityAnalysis', 'finance', 'business', 'econmonitor']\n",
        "\n",
        "start_time = int(dt.datetime(2019, 1, 1).timestamp())\n",
        "end_time = int(dt.datetime(2022, 10, 14).timestamp())\n"
      ],
      "metadata": {
        "id": "XGxi6A8sNRc3"
      },
      "execution_count": null,
      "outputs": []
    },
    {
      "cell_type": "code",
      "source": [
        "submissions = scrape(api, subreddits, start_time, end_time)"
      ],
      "metadata": {
        "id": "3rlxNlKnOcup",
        "colab": {
          "base_uri": "https://localhost:8080/"
        },
        "outputId": "73e492a2-fdba-432b-e015-6fdbe4d67bc9"
      },
      "execution_count": null,
      "outputs": [
        {
          "output_type": "stream",
          "name": "stdout",
          "text": [
            "'submission' object has no attribute 'selftext'\n",
            "submission(all_awardings=[], allow_live_comments=False, author='[deleted]', author_flair_background_color='', author_flair_css_class=None, author_flair_text=None, author_flair_text_color='dark', awarders=[], banned_by='moderators', can_mod_post=False, contest_mode=False, created_utc=1624077284, domain='self.business', full_link='https://www.reddit.com/r/business/comments/o3881i/welcome_to_broperty_indonesian_property_trading/', gildings={}, id='o3881i', is_created_from_ads_ui=False, is_crosspostable=False, is_meta=False, is_original_content=False, is_reddit_media_domain=False, is_robot_indexable=False, is_self=True, is_video=False, link_flair_background_color='', link_flair_richtext=[], link_flair_text_color='dark', link_flair_type='text', locked=False, media_only=False, no_follow=True, num_comments=2, num_crossposts=0, over_18=False, parent_whitelist_status='all_ads', permalink='/r/business/comments/o3881i/welcome_to_broperty_indonesian_property_trading/', pinned=False, pwls=6, removed_by_category='deleted', retrieved_on=1624086322, score=1, send_replies=True, spoiler=False, stickied=False, subreddit='business', subreddit_id='t5_2qgzg', subreddit_subscribers=632835, subreddit_type='public', thumbnail='default', title='Welcome to Broperty - Indonesian Property Trading Platform', total_awards_received=0, treatment_tags=[], upvote_ratio=1.0, url='https://www.reddit.com/r/business/comments/o3881i/welcome_to_broperty_indonesian_property_trading/', whitelist_status='all_ads', wls=6, created=1624077284.0, d_={'all_awardings': [], 'allow_live_comments': False, 'author': '[deleted]', 'author_flair_background_color': '', 'author_flair_css_class': None, 'author_flair_text': None, 'author_flair_text_color': 'dark', 'awarders': [], 'banned_by': 'moderators', 'can_mod_post': False, 'contest_mode': False, 'created_utc': 1624077284, 'domain': 'self.business', 'full_link': 'https://www.reddit.com/r/business/comments/o3881i/welcome_to_broperty_indonesian_property_trading/', 'gildings': {}, 'id': 'o3881i', 'is_created_from_ads_ui': False, 'is_crosspostable': False, 'is_meta': False, 'is_original_content': False, 'is_reddit_media_domain': False, 'is_robot_indexable': False, 'is_self': True, 'is_video': False, 'link_flair_background_color': '', 'link_flair_richtext': [], 'link_flair_text_color': 'dark', 'link_flair_type': 'text', 'locked': False, 'media_only': False, 'no_follow': True, 'num_comments': 2, 'num_crossposts': 0, 'over_18': False, 'parent_whitelist_status': 'all_ads', 'permalink': '/r/business/comments/o3881i/welcome_to_broperty_indonesian_property_trading/', 'pinned': False, 'pwls': 6, 'removed_by_category': 'deleted', 'retrieved_on': 1624086322, 'score': 1, 'send_replies': True, 'spoiler': False, 'stickied': False, 'subreddit': 'business', 'subreddit_id': 't5_2qgzg', 'subreddit_subscribers': 632835, 'subreddit_type': 'public', 'thumbnail': 'default', 'title': 'Welcome to Broperty - Indonesian Property Trading Platform', 'total_awards_received': 0, 'treatment_tags': [], 'upvote_ratio': 1.0, 'url': 'https://www.reddit.com/r/business/comments/o3881i/welcome_to_broperty_indonesian_property_trading/', 'whitelist_status': 'all_ads', 'wls': 6, 'created': 1624077284.0})\n",
            "'submission' object has no attribute 'selftext'\n",
            "submission(all_awardings=[], allow_live_comments=False, author='[deleted]', author_flair_background_color='', author_flair_css_class=None, author_flair_text=None, author_flair_text_color='dark', awarders=[], banned_by='moderators', can_mod_post=False, contest_mode=False, created_utc=1623935849, domain='self.business', full_link='https://www.reddit.com/r/business/comments/o1x0zq/how_i_accidentally_built_an_mvp_that_received/', gildings={}, id='o1x0zq', is_created_from_ads_ui=False, is_crosspostable=False, is_meta=False, is_original_content=False, is_reddit_media_domain=False, is_robot_indexable=False, is_self=True, is_video=False, link_flair_background_color='', link_flair_richtext=[], link_flair_text_color='dark', link_flair_type='text', locked=False, media_only=False, no_follow=True, num_comments=4, num_crossposts=0, over_18=False, parent_whitelist_status='all_ads', permalink='/r/business/comments/o1x0zq/how_i_accidentally_built_an_mvp_that_received/', pinned=False, pwls=6, removed_by_category='deleted', retrieved_on=1623950898, score=1, send_replies=True, spoiler=False, stickied=False, subreddit='business', subreddit_id='t5_2qgzg', subreddit_subscribers=632586, subreddit_type='public', thumbnail='default', title='How I Accidentally Built an MVP That Received Over 25,000 Upvotes Across Reddit!', total_awards_received=0, treatment_tags=[], upvote_ratio=0.6, url='https://www.reddit.com/r/business/comments/o1x0zq/how_i_accidentally_built_an_mvp_that_received/', whitelist_status='all_ads', wls=6, created=1623935849.0, d_={'all_awardings': [], 'allow_live_comments': False, 'author': '[deleted]', 'author_flair_background_color': '', 'author_flair_css_class': None, 'author_flair_text': None, 'author_flair_text_color': 'dark', 'awarders': [], 'banned_by': 'moderators', 'can_mod_post': False, 'contest_mode': False, 'created_utc': 1623935849, 'domain': 'self.business', 'full_link': 'https://www.reddit.com/r/business/comments/o1x0zq/how_i_accidentally_built_an_mvp_that_received/', 'gildings': {}, 'id': 'o1x0zq', 'is_created_from_ads_ui': False, 'is_crosspostable': False, 'is_meta': False, 'is_original_content': False, 'is_reddit_media_domain': False, 'is_robot_indexable': False, 'is_self': True, 'is_video': False, 'link_flair_background_color': '', 'link_flair_richtext': [], 'link_flair_text_color': 'dark', 'link_flair_type': 'text', 'locked': False, 'media_only': False, 'no_follow': True, 'num_comments': 4, 'num_crossposts': 0, 'over_18': False, 'parent_whitelist_status': 'all_ads', 'permalink': '/r/business/comments/o1x0zq/how_i_accidentally_built_an_mvp_that_received/', 'pinned': False, 'pwls': 6, 'removed_by_category': 'deleted', 'retrieved_on': 1623950898, 'score': 1, 'send_replies': True, 'spoiler': False, 'stickied': False, 'subreddit': 'business', 'subreddit_id': 't5_2qgzg', 'subreddit_subscribers': 632586, 'subreddit_type': 'public', 'thumbnail': 'default', 'title': 'How I Accidentally Built an MVP That Received Over 25,000 Upvotes Across Reddit!', 'total_awards_received': 0, 'treatment_tags': [], 'upvote_ratio': 0.6, 'url': 'https://www.reddit.com/r/business/comments/o1x0zq/how_i_accidentally_built_an_mvp_that_received/', 'whitelist_status': 'all_ads', 'wls': 6, 'created': 1623935849.0})\n",
            "'submission' object has no attribute 'selftext'\n",
            "submission(all_awardings=[], allow_live_comments=False, author='[deleted]', author_flair_background_color='', author_flair_css_class=None, author_flair_text=None, author_flair_text_color='dark', awarders=[], banned_by='moderators', can_mod_post=False, contest_mode=False, created_utc=1623806368, domain='self.business', full_link='https://www.reddit.com/r/business/comments/o0tf1a/why_clne_should_be_in_every_portfolio/', gildings={}, id='o0tf1a', is_created_from_ads_ui=False, is_crosspostable=False, is_meta=False, is_original_content=False, is_reddit_media_domain=False, is_robot_indexable=False, is_self=True, is_video=False, link_flair_background_color='', link_flair_richtext=[], link_flair_text_color='dark', link_flair_type='text', locked=False, media_only=False, no_follow=True, num_comments=2, num_crossposts=0, over_18=False, parent_whitelist_status='all_ads', permalink='/r/business/comments/o0tf1a/why_clne_should_be_in_every_portfolio/', pinned=False, pwls=6, removed_by_category='deleted', retrieved_on=1623835328, score=5, send_replies=True, spoiler=False, stickied=False, subreddit='business', subreddit_id='t5_2qgzg', subreddit_subscribers=632346, subreddit_type='public', thumbnail='default', title='Why CLNE should be in every portfolio', total_awards_received=0, treatment_tags=[], upvote_ratio=0.65, url='https://www.reddit.com/r/business/comments/o0tf1a/why_clne_should_be_in_every_portfolio/', whitelist_status='all_ads', wls=6, created=1623806368.0, d_={'all_awardings': [], 'allow_live_comments': False, 'author': '[deleted]', 'author_flair_background_color': '', 'author_flair_css_class': None, 'author_flair_text': None, 'author_flair_text_color': 'dark', 'awarders': [], 'banned_by': 'moderators', 'can_mod_post': False, 'contest_mode': False, 'created_utc': 1623806368, 'domain': 'self.business', 'full_link': 'https://www.reddit.com/r/business/comments/o0tf1a/why_clne_should_be_in_every_portfolio/', 'gildings': {}, 'id': 'o0tf1a', 'is_created_from_ads_ui': False, 'is_crosspostable': False, 'is_meta': False, 'is_original_content': False, 'is_reddit_media_domain': False, 'is_robot_indexable': False, 'is_self': True, 'is_video': False, 'link_flair_background_color': '', 'link_flair_richtext': [], 'link_flair_text_color': 'dark', 'link_flair_type': 'text', 'locked': False, 'media_only': False, 'no_follow': True, 'num_comments': 2, 'num_crossposts': 0, 'over_18': False, 'parent_whitelist_status': 'all_ads', 'permalink': '/r/business/comments/o0tf1a/why_clne_should_be_in_every_portfolio/', 'pinned': False, 'pwls': 6, 'removed_by_category': 'deleted', 'retrieved_on': 1623835328, 'score': 5, 'send_replies': True, 'spoiler': False, 'stickied': False, 'subreddit': 'business', 'subreddit_id': 't5_2qgzg', 'subreddit_subscribers': 632346, 'subreddit_type': 'public', 'thumbnail': 'default', 'title': 'Why CLNE should be in every portfolio', 'total_awards_received': 0, 'treatment_tags': [], 'upvote_ratio': 0.65, 'url': 'https://www.reddit.com/r/business/comments/o0tf1a/why_clne_should_be_in_every_portfolio/', 'whitelist_status': 'all_ads', 'wls': 6, 'created': 1623806368.0})\n",
            "'submission' object has no attribute 'selftext'\n",
            "submission(all_awardings=[], allow_live_comments=False, author='[deleted]', author_flair_background_color='', author_flair_css_class=None, author_flair_text=None, author_flair_text_color='dark', awarders=[], banned_by='moderators', can_mod_post=False, contest_mode=False, created_utc=1614256984, domain='self.business', full_link='https://www.reddit.com/r/business/comments/ls5r0t/oracle_employees_can_freely_enter_your_server_and/', gildings={}, id='ls5r0t', is_crosspostable=False, is_meta=False, is_original_content=False, is_reddit_media_domain=False, is_robot_indexable=False, is_self=True, is_video=False, link_flair_background_color='', link_flair_richtext=[], link_flair_text_color='dark', link_flair_type='text', locked=False, media_only=False, no_follow=True, num_comments=2, num_crossposts=2, over_18=False, parent_whitelist_status='all_ads', permalink='/r/business/comments/ls5r0t/oracle_employees_can_freely_enter_your_server_and/', pinned=False, pwls=6, removed_by_category='deleted', retrieved_on=1614379761, score=1, send_replies=True, spoiler=False, stickied=False, subreddit='business', subreddit_id='t5_2qgzg', subreddit_subscribers=610475, subreddit_type='public', thumbnail='default', title='Oracle Employees can freely enter your server and databases making Oracle Cloud very insecure for private data. Oracle Cloud Review 2021.', total_awards_received=0, treatment_tags=[], upvote_ratio=1.0, url='https://www.reddit.com/r/business/comments/ls5r0t/oracle_employees_can_freely_enter_your_server_and/', whitelist_status='all_ads', wls=6, created=1614256984.0, d_={'all_awardings': [], 'allow_live_comments': False, 'author': '[deleted]', 'author_flair_background_color': '', 'author_flair_css_class': None, 'author_flair_text': None, 'author_flair_text_color': 'dark', 'awarders': [], 'banned_by': 'moderators', 'can_mod_post': False, 'contest_mode': False, 'created_utc': 1614256984, 'domain': 'self.business', 'full_link': 'https://www.reddit.com/r/business/comments/ls5r0t/oracle_employees_can_freely_enter_your_server_and/', 'gildings': {}, 'id': 'ls5r0t', 'is_crosspostable': False, 'is_meta': False, 'is_original_content': False, 'is_reddit_media_domain': False, 'is_robot_indexable': False, 'is_self': True, 'is_video': False, 'link_flair_background_color': '', 'link_flair_richtext': [], 'link_flair_text_color': 'dark', 'link_flair_type': 'text', 'locked': False, 'media_only': False, 'no_follow': True, 'num_comments': 2, 'num_crossposts': 2, 'over_18': False, 'parent_whitelist_status': 'all_ads', 'permalink': '/r/business/comments/ls5r0t/oracle_employees_can_freely_enter_your_server_and/', 'pinned': False, 'pwls': 6, 'removed_by_category': 'deleted', 'retrieved_on': 1614379761, 'score': 1, 'send_replies': True, 'spoiler': False, 'stickied': False, 'subreddit': 'business', 'subreddit_id': 't5_2qgzg', 'subreddit_subscribers': 610475, 'subreddit_type': 'public', 'thumbnail': 'default', 'title': 'Oracle Employees can freely enter your server and databases making Oracle Cloud very insecure for private data. Oracle Cloud Review 2021.', 'total_awards_received': 0, 'treatment_tags': [], 'upvote_ratio': 1.0, 'url': 'https://www.reddit.com/r/business/comments/ls5r0t/oracle_employees_can_freely_enter_your_server_and/', 'whitelist_status': 'all_ads', 'wls': 6, 'created': 1614256984.0})\n",
            "'submission' object has no attribute 'selftext'\n",
            "submission(all_awardings=[], allow_live_comments=False, author='[deleted]', author_flair_background_color='', author_flair_css_class=None, author_flair_text=None, author_flair_text_color='dark', awarders=[], banned_by='moderators', can_mod_post=False, contest_mode=False, created_utc=1612148560, domain='self.SecurityAnalysis', full_link='https://www.reddit.com/r/SecurityAnalysis/comments/l9t60y/etsy/', gildings={}, id='l9t60y', is_crosspostable=False, is_meta=False, is_original_content=False, is_reddit_media_domain=False, is_robot_indexable=False, is_self=True, is_video=False, link_flair_background_color='', link_flair_richtext=[], link_flair_template_id='0075973c-9127-11e3-82aa-12313d27e9a3', link_flair_text='Discussion', link_flair_text_color='dark', link_flair_type='text', locked=False, media_only=False, no_follow=True, num_comments=4, num_crossposts=0, over_18=False, parent_whitelist_status='all_ads', permalink='/r/SecurityAnalysis/comments/l9t60y/etsy/', pinned=False, pwls=6, removed_by_category='deleted', retrieved_on=1612430106, score=0, send_replies=True, spoiler=False, stickied=False, subreddit='SecurityAnalysis', subreddit_id='t5_2s7v0', subreddit_subscribers=147245, subreddit_type='restricted', thumbnail='default', title='Etsy', total_awards_received=0, treatment_tags=[], upvote_ratio=0.25, url='https://www.reddit.com/r/SecurityAnalysis/comments/l9t60y/etsy/', whitelist_status='all_ads', wls=6, created=1612148560.0, d_={'all_awardings': [], 'allow_live_comments': False, 'author': '[deleted]', 'author_flair_background_color': '', 'author_flair_css_class': None, 'author_flair_text': None, 'author_flair_text_color': 'dark', 'awarders': [], 'banned_by': 'moderators', 'can_mod_post': False, 'contest_mode': False, 'created_utc': 1612148560, 'domain': 'self.SecurityAnalysis', 'full_link': 'https://www.reddit.com/r/SecurityAnalysis/comments/l9t60y/etsy/', 'gildings': {}, 'id': 'l9t60y', 'is_crosspostable': False, 'is_meta': False, 'is_original_content': False, 'is_reddit_media_domain': False, 'is_robot_indexable': False, 'is_self': True, 'is_video': False, 'link_flair_background_color': '', 'link_flair_richtext': [], 'link_flair_template_id': '0075973c-9127-11e3-82aa-12313d27e9a3', 'link_flair_text': 'Discussion', 'link_flair_text_color': 'dark', 'link_flair_type': 'text', 'locked': False, 'media_only': False, 'no_follow': True, 'num_comments': 4, 'num_crossposts': 0, 'over_18': False, 'parent_whitelist_status': 'all_ads', 'permalink': '/r/SecurityAnalysis/comments/l9t60y/etsy/', 'pinned': False, 'pwls': 6, 'removed_by_category': 'deleted', 'retrieved_on': 1612430106, 'score': 0, 'send_replies': True, 'spoiler': False, 'stickied': False, 'subreddit': 'SecurityAnalysis', 'subreddit_id': 't5_2s7v0', 'subreddit_subscribers': 147245, 'subreddit_type': 'restricted', 'thumbnail': 'default', 'title': 'Etsy', 'total_awards_received': 0, 'treatment_tags': [], 'upvote_ratio': 0.25, 'url': 'https://www.reddit.com/r/SecurityAnalysis/comments/l9t60y/etsy/', 'whitelist_status': 'all_ads', 'wls': 6, 'created': 1612148560.0})\n",
            "'submission' object has no attribute 'selftext'\n",
            "submission(all_awardings=[], allow_live_comments=False, author='[deleted]', author_flair_background_color='', author_flair_css_class=None, author_flair_text=None, author_flair_text_color='dark', awarders=[], banned_by='moderators', can_mod_post=False, contest_mode=False, created_utc=1612147518, domain='self.SecurityAnalysis', full_link='https://www.reddit.com/r/SecurityAnalysis/comments/l9suc9/cumulus_media/', gildings={}, id='l9suc9', is_crosspostable=False, is_meta=False, is_original_content=False, is_reddit_media_domain=False, is_robot_indexable=False, is_self=True, is_video=False, link_flair_background_color='', link_flair_richtext=[], link_flair_template_id='234e5e42-9118-11e3-862e-22000ab83216', link_flair_text='Long Thesis', link_flair_text_color='dark', link_flair_type='text', locked=False, media_only=False, no_follow=True, num_comments=2, num_crossposts=0, over_18=False, parent_whitelist_status='all_ads', permalink='/r/SecurityAnalysis/comments/l9suc9/cumulus_media/', pinned=False, pwls=6, removed_by_category='deleted', retrieved_on=1612429312, score=1, send_replies=True, spoiler=False, stickied=False, subreddit='SecurityAnalysis', subreddit_id='t5_2s7v0', subreddit_subscribers=147245, subreddit_type='restricted', thumbnail='default', title='Cumulus Media', total_awards_received=0, treatment_tags=[], upvote_ratio=1.0, url='https://www.reddit.com/r/SecurityAnalysis/comments/l9suc9/cumulus_media/', whitelist_status='all_ads', wls=6, created=1612147518.0, d_={'all_awardings': [], 'allow_live_comments': False, 'author': '[deleted]', 'author_flair_background_color': '', 'author_flair_css_class': None, 'author_flair_text': None, 'author_flair_text_color': 'dark', 'awarders': [], 'banned_by': 'moderators', 'can_mod_post': False, 'contest_mode': False, 'created_utc': 1612147518, 'domain': 'self.SecurityAnalysis', 'full_link': 'https://www.reddit.com/r/SecurityAnalysis/comments/l9suc9/cumulus_media/', 'gildings': {}, 'id': 'l9suc9', 'is_crosspostable': False, 'is_meta': False, 'is_original_content': False, 'is_reddit_media_domain': False, 'is_robot_indexable': False, 'is_self': True, 'is_video': False, 'link_flair_background_color': '', 'link_flair_richtext': [], 'link_flair_template_id': '234e5e42-9118-11e3-862e-22000ab83216', 'link_flair_text': 'Long Thesis', 'link_flair_text_color': 'dark', 'link_flair_type': 'text', 'locked': False, 'media_only': False, 'no_follow': True, 'num_comments': 2, 'num_crossposts': 0, 'over_18': False, 'parent_whitelist_status': 'all_ads', 'permalink': '/r/SecurityAnalysis/comments/l9suc9/cumulus_media/', 'pinned': False, 'pwls': 6, 'removed_by_category': 'deleted', 'retrieved_on': 1612429312, 'score': 1, 'send_replies': True, 'spoiler': False, 'stickied': False, 'subreddit': 'SecurityAnalysis', 'subreddit_id': 't5_2s7v0', 'subreddit_subscribers': 147245, 'subreddit_type': 'restricted', 'thumbnail': 'default', 'title': 'Cumulus Media', 'total_awards_received': 0, 'treatment_tags': [], 'upvote_ratio': 1.0, 'url': 'https://www.reddit.com/r/SecurityAnalysis/comments/l9suc9/cumulus_media/', 'whitelist_status': 'all_ads', 'wls': 6, 'created': 1612147518.0})\n",
            "'submission' object has no attribute 'selftext'\n",
            "submission(all_awardings=[], allow_live_comments=True, author='[deleted]', author_flair_background_color='', author_flair_css_class=None, author_flair_text=None, author_flair_text_color='dark', awarders=[], banned_by='moderators', can_mod_post=False, contest_mode=False, created_utc=1612142021, domain='self.SecurityAnalysis', edited=1612166565, full_link='https://www.reddit.com/r/SecurityAnalysis/comments/l9r3qv/my_thoughts_on_blackberry/', gildings={}, id='l9r3qv', is_crosspostable=False, is_meta=False, is_original_content=False, is_reddit_media_domain=False, is_robot_indexable=False, is_self=True, is_video=False, link_flair_background_color='', link_flair_richtext=[], link_flair_template_id='234e5e42-9118-11e3-862e-22000ab83216', link_flair_text='Long Thesis', link_flair_text_color='dark', link_flair_type='text', locked=False, media_only=False, no_follow=True, num_comments=94, num_crossposts=0, over_18=False, parent_whitelist_status='all_ads', permalink='/r/SecurityAnalysis/comments/l9r3qv/my_thoughts_on_blackberry/', pinned=False, pwls=6, removed_by_category='deleted', retrieved_on=1612425048, score=42, send_replies=True, spoiler=False, stickied=False, subreddit='SecurityAnalysis', subreddit_id='t5_2s7v0', subreddit_subscribers=147233, subreddit_type='restricted', thumbnail='default', title='My thoughts on Blackberry', total_awards_received=0, treatment_tags=[], upvote_ratio=0.68, url='https://www.reddit.com/r/SecurityAnalysis/comments/l9r3qv/my_thoughts_on_blackberry/', whitelist_status='all_ads', wls=6, created=1612142021.0, d_={'all_awardings': [], 'allow_live_comments': True, 'author': '[deleted]', 'author_flair_background_color': '', 'author_flair_css_class': None, 'author_flair_text': None, 'author_flair_text_color': 'dark', 'awarders': [], 'banned_by': 'moderators', 'can_mod_post': False, 'contest_mode': False, 'created_utc': 1612142021, 'domain': 'self.SecurityAnalysis', 'edited': 1612166565, 'full_link': 'https://www.reddit.com/r/SecurityAnalysis/comments/l9r3qv/my_thoughts_on_blackberry/', 'gildings': {}, 'id': 'l9r3qv', 'is_crosspostable': False, 'is_meta': False, 'is_original_content': False, 'is_reddit_media_domain': False, 'is_robot_indexable': False, 'is_self': True, 'is_video': False, 'link_flair_background_color': '', 'link_flair_richtext': [], 'link_flair_template_id': '234e5e42-9118-11e3-862e-22000ab83216', 'link_flair_text': 'Long Thesis', 'link_flair_text_color': 'dark', 'link_flair_type': 'text', 'locked': False, 'media_only': False, 'no_follow': True, 'num_comments': 94, 'num_crossposts': 0, 'over_18': False, 'parent_whitelist_status': 'all_ads', 'permalink': '/r/SecurityAnalysis/comments/l9r3qv/my_thoughts_on_blackberry/', 'pinned': False, 'pwls': 6, 'removed_by_category': 'deleted', 'retrieved_on': 1612425048, 'score': 42, 'send_replies': True, 'spoiler': False, 'stickied': False, 'subreddit': 'SecurityAnalysis', 'subreddit_id': 't5_2s7v0', 'subreddit_subscribers': 147233, 'subreddit_type': 'restricted', 'thumbnail': 'default', 'title': 'My thoughts on Blackberry', 'total_awards_received': 0, 'treatment_tags': [], 'upvote_ratio': 0.68, 'url': 'https://www.reddit.com/r/SecurityAnalysis/comments/l9r3qv/my_thoughts_on_blackberry/', 'whitelist_status': 'all_ads', 'wls': 6, 'created': 1612142021.0})\n",
            "'submission' object has no attribute 'selftext'\n",
            "submission(all_awardings=[], allow_live_comments=False, author='[deleted]', author_flair_background_color='', author_flair_css_class=None, author_flair_text=None, author_flair_text_color='dark', awarders=[], banned_by='moderators', can_mod_post=False, contest_mode=False, created_utc=1612137586, domain='self.SecurityAnalysis', full_link='https://www.reddit.com/r/SecurityAnalysis/comments/l9pn70/reminder_without_short_sellers_frauds_like_luckin/', gildings={}, id='l9pn70', is_crosspostable=False, is_meta=False, is_original_content=False, is_reddit_media_domain=False, is_robot_indexable=False, is_self=True, is_video=False, link_flair_background_color='', link_flair_richtext=[], link_flair_template_id='0075973c-9127-11e3-82aa-12313d27e9a3', link_flair_text='Discussion', link_flair_text_color='dark', link_flair_type='text', locked=False, media_only=False, no_follow=True, num_comments=2, num_crossposts=0, over_18=False, parent_whitelist_status='all_ads', permalink='/r/SecurityAnalysis/comments/l9pn70/reminder_without_short_sellers_frauds_like_luckin/', pinned=False, pwls=6, removed_by_category='deleted', retrieved_on=1612421610, score=1, send_replies=True, spoiler=False, stickied=False, subreddit='SecurityAnalysis', subreddit_id='t5_2s7v0', subreddit_subscribers=147218, subreddit_type='restricted', thumbnail='default', title='Reminder: without short sellers, frauds like Luckin Coffee would never be exposed, since SEC is useless', total_awards_received=0, treatment_tags=[], upvote_ratio=1.0, url='https://www.reddit.com/r/SecurityAnalysis/comments/l9pn70/reminder_without_short_sellers_frauds_like_luckin/', whitelist_status='all_ads', wls=6, created=1612137586.0, d_={'all_awardings': [], 'allow_live_comments': False, 'author': '[deleted]', 'author_flair_background_color': '', 'author_flair_css_class': None, 'author_flair_text': None, 'author_flair_text_color': 'dark', 'awarders': [], 'banned_by': 'moderators', 'can_mod_post': False, 'contest_mode': False, 'created_utc': 1612137586, 'domain': 'self.SecurityAnalysis', 'full_link': 'https://www.reddit.com/r/SecurityAnalysis/comments/l9pn70/reminder_without_short_sellers_frauds_like_luckin/', 'gildings': {}, 'id': 'l9pn70', 'is_crosspostable': False, 'is_meta': False, 'is_original_content': False, 'is_reddit_media_domain': False, 'is_robot_indexable': False, 'is_self': True, 'is_video': False, 'link_flair_background_color': '', 'link_flair_richtext': [], 'link_flair_template_id': '0075973c-9127-11e3-82aa-12313d27e9a3', 'link_flair_text': 'Discussion', 'link_flair_text_color': 'dark', 'link_flair_type': 'text', 'locked': False, 'media_only': False, 'no_follow': True, 'num_comments': 2, 'num_crossposts': 0, 'over_18': False, 'parent_whitelist_status': 'all_ads', 'permalink': '/r/SecurityAnalysis/comments/l9pn70/reminder_without_short_sellers_frauds_like_luckin/', 'pinned': False, 'pwls': 6, 'removed_by_category': 'deleted', 'retrieved_on': 1612421610, 'score': 1, 'send_replies': True, 'spoiler': False, 'stickied': False, 'subreddit': 'SecurityAnalysis', 'subreddit_id': 't5_2s7v0', 'subreddit_subscribers': 147218, 'subreddit_type': 'restricted', 'thumbnail': 'default', 'title': 'Reminder: without short sellers, frauds like Luckin Coffee would never be exposed, since SEC is useless', 'total_awards_received': 0, 'treatment_tags': [], 'upvote_ratio': 1.0, 'url': 'https://www.reddit.com/r/SecurityAnalysis/comments/l9pn70/reminder_without_short_sellers_frauds_like_luckin/', 'whitelist_status': 'all_ads', 'wls': 6, 'created': 1612137586.0})\n",
            "'submission' object has no attribute 'selftext'\n",
            "submission(all_awardings=[], allow_live_comments=False, author='[deleted]', author_flair_background_color='', author_flair_css_class=None, author_flair_text=None, author_flair_text_color='dark', awarders=[], banned_by='moderators', can_mod_post=False, contest_mode=False, created_utc=1612136598, domain='self.SecurityAnalysis', full_link='https://www.reddit.com/r/SecurityAnalysis/comments/l9pbki/what_is_the_name_of_this_type_of_futures_contract/', gildings={}, id='l9pbki', is_crosspostable=False, is_meta=False, is_original_content=False, is_reddit_media_domain=False, is_robot_indexable=False, is_self=True, is_video=False, link_flair_background_color='', link_flair_richtext=[], link_flair_template_id='0075973c-9127-11e3-82aa-12313d27e9a3', link_flair_text='Discussion', link_flair_text_color='dark', link_flair_type='text', locked=False, media_only=False, no_follow=True, num_comments=6, num_crossposts=0, over_18=False, parent_whitelist_status='all_ads', permalink='/r/SecurityAnalysis/comments/l9pbki/what_is_the_name_of_this_type_of_futures_contract/', pinned=False, pwls=6, removed_by_category='deleted', retrieved_on=1612420848, score=0, send_replies=True, spoiler=False, stickied=False, subreddit='SecurityAnalysis', subreddit_id='t5_2s7v0', subreddit_subscribers=147216, subreddit_type='restricted', thumbnail='default', title='What is the name of this type of futures contract? Could it replace short selling?', total_awards_received=0, treatment_tags=[], upvote_ratio=0.27, url='https://www.reddit.com/r/SecurityAnalysis/comments/l9pbki/what_is_the_name_of_this_type_of_futures_contract/', whitelist_status='all_ads', wls=6, created=1612136598.0, d_={'all_awardings': [], 'allow_live_comments': False, 'author': '[deleted]', 'author_flair_background_color': '', 'author_flair_css_class': None, 'author_flair_text': None, 'author_flair_text_color': 'dark', 'awarders': [], 'banned_by': 'moderators', 'can_mod_post': False, 'contest_mode': False, 'created_utc': 1612136598, 'domain': 'self.SecurityAnalysis', 'full_link': 'https://www.reddit.com/r/SecurityAnalysis/comments/l9pbki/what_is_the_name_of_this_type_of_futures_contract/', 'gildings': {}, 'id': 'l9pbki', 'is_crosspostable': False, 'is_meta': False, 'is_original_content': False, 'is_reddit_media_domain': False, 'is_robot_indexable': False, 'is_self': True, 'is_video': False, 'link_flair_background_color': '', 'link_flair_richtext': [], 'link_flair_template_id': '0075973c-9127-11e3-82aa-12313d27e9a3', 'link_flair_text': 'Discussion', 'link_flair_text_color': 'dark', 'link_flair_type': 'text', 'locked': False, 'media_only': False, 'no_follow': True, 'num_comments': 6, 'num_crossposts': 0, 'over_18': False, 'parent_whitelist_status': 'all_ads', 'permalink': '/r/SecurityAnalysis/comments/l9pbki/what_is_the_name_of_this_type_of_futures_contract/', 'pinned': False, 'pwls': 6, 'removed_by_category': 'deleted', 'retrieved_on': 1612420848, 'score': 0, 'send_replies': True, 'spoiler': False, 'stickied': False, 'subreddit': 'SecurityAnalysis', 'subreddit_id': 't5_2s7v0', 'subreddit_subscribers': 147216, 'subreddit_type': 'restricted', 'thumbnail': 'default', 'title': 'What is the name of this type of futures contract? Could it replace short selling?', 'total_awards_received': 0, 'treatment_tags': [], 'upvote_ratio': 0.27, 'url': 'https://www.reddit.com/r/SecurityAnalysis/comments/l9pbki/what_is_the_name_of_this_type_of_futures_contract/', 'whitelist_status': 'all_ads', 'wls': 6, 'created': 1612136598.0})\n",
            "'submission' object has no attribute 'selftext'\n",
            "submission(all_awardings=[], allow_live_comments=False, author='[deleted]', author_flair_background_color='', author_flair_css_class=None, author_flair_text=None, author_flair_text_color='dark', awarders=[], banned_by='moderators', can_mod_post=False, contest_mode=False, created_utc=1612127649, domain='self.SecurityAnalysis', full_link='https://www.reddit.com/r/SecurityAnalysis/comments/l9m6jt/starbucks_actually_operates_an_unregulated_bank/', gildings={}, id='l9m6jt', is_crosspostable=False, is_meta=False, is_original_content=False, is_reddit_media_domain=False, is_robot_indexable=False, is_self=True, is_video=False, link_flair_background_color='', link_flair_richtext=[], link_flair_template_id='0075973c-9127-11e3-82aa-12313d27e9a3', link_flair_text='Discussion', link_flair_text_color='dark', link_flair_type='text', locked=False, media_only=False, no_follow=True, num_comments=2, num_crossposts=0, over_18=False, parent_whitelist_status='all_ads', permalink='/r/SecurityAnalysis/comments/l9m6jt/starbucks_actually_operates_an_unregulated_bank/', pinned=False, pwls=6, removed_by_category='deleted', retrieved_on=1612413893, score=1, send_replies=True, spoiler=False, stickied=False, subreddit='SecurityAnalysis', subreddit_id='t5_2s7v0', subreddit_subscribers=147183, subreddit_type='restricted', thumbnail='default', title='Starbucks actually operates an unregulated bank?', total_awards_received=0, treatment_tags=[], upvote_ratio=0.67, url='https://www.reddit.com/r/SecurityAnalysis/comments/l9m6jt/starbucks_actually_operates_an_unregulated_bank/', whitelist_status='all_ads', wls=6, created=1612127649.0, d_={'all_awardings': [], 'allow_live_comments': False, 'author': '[deleted]', 'author_flair_background_color': '', 'author_flair_css_class': None, 'author_flair_text': None, 'author_flair_text_color': 'dark', 'awarders': [], 'banned_by': 'moderators', 'can_mod_post': False, 'contest_mode': False, 'created_utc': 1612127649, 'domain': 'self.SecurityAnalysis', 'full_link': 'https://www.reddit.com/r/SecurityAnalysis/comments/l9m6jt/starbucks_actually_operates_an_unregulated_bank/', 'gildings': {}, 'id': 'l9m6jt', 'is_crosspostable': False, 'is_meta': False, 'is_original_content': False, 'is_reddit_media_domain': False, 'is_robot_indexable': False, 'is_self': True, 'is_video': False, 'link_flair_background_color': '', 'link_flair_richtext': [], 'link_flair_template_id': '0075973c-9127-11e3-82aa-12313d27e9a3', 'link_flair_text': 'Discussion', 'link_flair_text_color': 'dark', 'link_flair_type': 'text', 'locked': False, 'media_only': False, 'no_follow': True, 'num_comments': 2, 'num_crossposts': 0, 'over_18': False, 'parent_whitelist_status': 'all_ads', 'permalink': '/r/SecurityAnalysis/comments/l9m6jt/starbucks_actually_operates_an_unregulated_bank/', 'pinned': False, 'pwls': 6, 'removed_by_category': 'deleted', 'retrieved_on': 1612413893, 'score': 1, 'send_replies': True, 'spoiler': False, 'stickied': False, 'subreddit': 'SecurityAnalysis', 'subreddit_id': 't5_2s7v0', 'subreddit_subscribers': 147183, 'subreddit_type': 'restricted', 'thumbnail': 'default', 'title': 'Starbucks actually operates an unregulated bank?', 'total_awards_received': 0, 'treatment_tags': [], 'upvote_ratio': 0.67, 'url': 'https://www.reddit.com/r/SecurityAnalysis/comments/l9m6jt/starbucks_actually_operates_an_unregulated_bank/', 'whitelist_status': 'all_ads', 'wls': 6, 'created': 1612127649.0})\n",
            "'submission' object has no attribute 'selftext'\n",
            "submission(all_awardings=[], allow_live_comments=False, author='[deleted]', author_flair_background_color='', author_flair_css_class=None, author_flair_text=None, author_flair_text_color='dark', awarders=[], banned_by='moderators', can_mod_post=False, contest_mode=False, created_utc=1611859811, domain='self.SecurityAnalysis', full_link='https://www.reddit.com/r/SecurityAnalysis/comments/l751tl/anyone_thought_about_cboe/', gildings={}, id='l751tl', is_crosspostable=False, is_meta=False, is_original_content=False, is_reddit_media_domain=False, is_robot_indexable=False, is_self=True, is_video=False, link_flair_background_color='', link_flair_richtext=[], link_flair_text_color='dark', link_flair_type='text', locked=False, media_only=False, no_follow=True, num_comments=2, num_crossposts=0, over_18=False, parent_whitelist_status='all_ads', permalink='/r/SecurityAnalysis/comments/l751tl/anyone_thought_about_cboe/', pinned=False, pwls=6, removed_by_category='deleted', retrieved_on=1611861290, score=1, send_replies=True, spoiler=False, stickied=False, subreddit='SecurityAnalysis', subreddit_id='t5_2s7v0', subreddit_subscribers=125343, subreddit_type='public', thumbnail='default', title='Anyone thought about CBOE?', total_awards_received=0, treatment_tags=[], upvote_ratio=1.0, url='https://www.reddit.com/r/SecurityAnalysis/comments/l751tl/anyone_thought_about_cboe/', whitelist_status='all_ads', wls=6, created=1611859811.0, d_={'all_awardings': [], 'allow_live_comments': False, 'author': '[deleted]', 'author_flair_background_color': '', 'author_flair_css_class': None, 'author_flair_text': None, 'author_flair_text_color': 'dark', 'awarders': [], 'banned_by': 'moderators', 'can_mod_post': False, 'contest_mode': False, 'created_utc': 1611859811, 'domain': 'self.SecurityAnalysis', 'full_link': 'https://www.reddit.com/r/SecurityAnalysis/comments/l751tl/anyone_thought_about_cboe/', 'gildings': {}, 'id': 'l751tl', 'is_crosspostable': False, 'is_meta': False, 'is_original_content': False, 'is_reddit_media_domain': False, 'is_robot_indexable': False, 'is_self': True, 'is_video': False, 'link_flair_background_color': '', 'link_flair_richtext': [], 'link_flair_text_color': 'dark', 'link_flair_type': 'text', 'locked': False, 'media_only': False, 'no_follow': True, 'num_comments': 2, 'num_crossposts': 0, 'over_18': False, 'parent_whitelist_status': 'all_ads', 'permalink': '/r/SecurityAnalysis/comments/l751tl/anyone_thought_about_cboe/', 'pinned': False, 'pwls': 6, 'removed_by_category': 'deleted', 'retrieved_on': 1611861290, 'score': 1, 'send_replies': True, 'spoiler': False, 'stickied': False, 'subreddit': 'SecurityAnalysis', 'subreddit_id': 't5_2s7v0', 'subreddit_subscribers': 125343, 'subreddit_type': 'public', 'thumbnail': 'default', 'title': 'Anyone thought about CBOE?', 'total_awards_received': 0, 'treatment_tags': [], 'upvote_ratio': 1.0, 'url': 'https://www.reddit.com/r/SecurityAnalysis/comments/l751tl/anyone_thought_about_cboe/', 'whitelist_status': 'all_ads', 'wls': 6, 'created': 1611859811.0})\n",
            "'submission' object has no attribute 'selftext'\n",
            "submission(all_awardings=[], allow_live_comments=False, author='[deleted]', author_flair_background_color='', author_flair_css_class=None, author_flair_text=None, author_flair_text_color='dark', awarders=[], banned_by='moderators', can_mod_post=False, contest_mode=False, created_utc=1611789370, domain='self.SecurityAnalysis', full_link='https://www.reddit.com/r/SecurityAnalysis/comments/l6hbx4/wsb_has_become_nothing_but_a_giant_pump_and_dump/', gildings={}, id='l6hbx4', is_crosspostable=False, is_meta=False, is_original_content=False, is_reddit_media_domain=False, is_robot_indexable=False, is_self=True, is_video=False, link_flair_background_color='', link_flair_richtext=[], link_flair_template_id='8f0266cc-9282-11e3-a547-12313d01b5d1', link_flair_text='Commentary', link_flair_text_color='dark', link_flair_type='text', locked=False, media_only=False, no_follow=True, num_comments=2, num_crossposts=0, over_18=False, parent_whitelist_status='all_ads', permalink='/r/SecurityAnalysis/comments/l6hbx4/wsb_has_become_nothing_but_a_giant_pump_and_dump/', pinned=False, pwls=6, removed_by_category='deleted', retrieved_on=1611796454, score=0, send_replies=True, spoiler=False, stickied=False, subreddit='SecurityAnalysis', subreddit_id='t5_2s7v0', subreddit_subscribers=120049, subreddit_type='public', thumbnail='default', title='WSB has become nothing but a giant pump and dump discord server, and the mods there are criminals. DOJ need to investigate and put them behind bars', total_awards_received=0, treatment_tags=[], upvote_ratio=0.33, url='https://www.reddit.com/r/SecurityAnalysis/comments/l6hbx4/wsb_has_become_nothing_but_a_giant_pump_and_dump/', whitelist_status='all_ads', wls=6, created=1611789370.0, d_={'all_awardings': [], 'allow_live_comments': False, 'author': '[deleted]', 'author_flair_background_color': '', 'author_flair_css_class': None, 'author_flair_text': None, 'author_flair_text_color': 'dark', 'awarders': [], 'banned_by': 'moderators', 'can_mod_post': False, 'contest_mode': False, 'created_utc': 1611789370, 'domain': 'self.SecurityAnalysis', 'full_link': 'https://www.reddit.com/r/SecurityAnalysis/comments/l6hbx4/wsb_has_become_nothing_but_a_giant_pump_and_dump/', 'gildings': {}, 'id': 'l6hbx4', 'is_crosspostable': False, 'is_meta': False, 'is_original_content': False, 'is_reddit_media_domain': False, 'is_robot_indexable': False, 'is_self': True, 'is_video': False, 'link_flair_background_color': '', 'link_flair_richtext': [], 'link_flair_template_id': '8f0266cc-9282-11e3-a547-12313d01b5d1', 'link_flair_text': 'Commentary', 'link_flair_text_color': 'dark', 'link_flair_type': 'text', 'locked': False, 'media_only': False, 'no_follow': True, 'num_comments': 2, 'num_crossposts': 0, 'over_18': False, 'parent_whitelist_status': 'all_ads', 'permalink': '/r/SecurityAnalysis/comments/l6hbx4/wsb_has_become_nothing_but_a_giant_pump_and_dump/', 'pinned': False, 'pwls': 6, 'removed_by_category': 'deleted', 'retrieved_on': 1611796454, 'score': 0, 'send_replies': True, 'spoiler': False, 'stickied': False, 'subreddit': 'SecurityAnalysis', 'subreddit_id': 't5_2s7v0', 'subreddit_subscribers': 120049, 'subreddit_type': 'public', 'thumbnail': 'default', 'title': 'WSB has become nothing but a giant pump and dump discord server, and the mods there are criminals. DOJ need to investigate and put them behind bars', 'total_awards_received': 0, 'treatment_tags': [], 'upvote_ratio': 0.33, 'url': 'https://www.reddit.com/r/SecurityAnalysis/comments/l6hbx4/wsb_has_become_nothing_but_a_giant_pump_and_dump/', 'whitelist_status': 'all_ads', 'wls': 6, 'created': 1611789370.0})\n",
            "'submission' object has no attribute 'selftext'\n",
            "submission(all_awardings=[], allow_live_comments=False, author='[deleted]', author_flair_background_color='', author_flair_css_class=None, author_flair_text=None, author_flair_text_color='dark', awarders=[], banned_by='moderators', can_mod_post=False, contest_mode=False, created_utc=1611256367, domain='self.SecurityAnalysis', full_link='https://www.reddit.com/r/SecurityAnalysis/comments/l25cf4/thoughts_on_using_alternative_data_to_guide/', gildings={}, id='l25cf4', is_crosspostable=False, is_meta=False, is_original_content=False, is_reddit_media_domain=False, is_robot_indexable=False, is_self=True, is_video=False, link_flair_background_color='', link_flair_richtext=[], link_flair_text_color='dark', link_flair_type='text', locked=False, media_only=False, no_follow=True, num_comments=2, num_crossposts=0, over_18=False, parent_whitelist_status='all_ads', permalink='/r/SecurityAnalysis/comments/l25cf4/thoughts_on_using_alternative_data_to_guide/', pinned=False, pwls=6, removed_by_category='deleted', retrieved_on=1611256538, score=1, send_replies=True, spoiler=False, stickied=False, subreddit='SecurityAnalysis', subreddit_id='t5_2s7v0', subreddit_subscribers=109500, subreddit_type='public', thumbnail='default', title='Thoughts on using alternative data to guide decisions?', total_awards_received=0, treatment_tags=[], upvote_ratio=1.0, url='https://www.reddit.com/r/SecurityAnalysis/comments/l25cf4/thoughts_on_using_alternative_data_to_guide/', whitelist_status='all_ads', wls=6, created=1611256367.0, d_={'all_awardings': [], 'allow_live_comments': False, 'author': '[deleted]', 'author_flair_background_color': '', 'author_flair_css_class': None, 'author_flair_text': None, 'author_flair_text_color': 'dark', 'awarders': [], 'banned_by': 'moderators', 'can_mod_post': False, 'contest_mode': False, 'created_utc': 1611256367, 'domain': 'self.SecurityAnalysis', 'full_link': 'https://www.reddit.com/r/SecurityAnalysis/comments/l25cf4/thoughts_on_using_alternative_data_to_guide/', 'gildings': {}, 'id': 'l25cf4', 'is_crosspostable': False, 'is_meta': False, 'is_original_content': False, 'is_reddit_media_domain': False, 'is_robot_indexable': False, 'is_self': True, 'is_video': False, 'link_flair_background_color': '', 'link_flair_richtext': [], 'link_flair_text_color': 'dark', 'link_flair_type': 'text', 'locked': False, 'media_only': False, 'no_follow': True, 'num_comments': 2, 'num_crossposts': 0, 'over_18': False, 'parent_whitelist_status': 'all_ads', 'permalink': '/r/SecurityAnalysis/comments/l25cf4/thoughts_on_using_alternative_data_to_guide/', 'pinned': False, 'pwls': 6, 'removed_by_category': 'deleted', 'retrieved_on': 1611256538, 'score': 1, 'send_replies': True, 'spoiler': False, 'stickied': False, 'subreddit': 'SecurityAnalysis', 'subreddit_id': 't5_2s7v0', 'subreddit_subscribers': 109500, 'subreddit_type': 'public', 'thumbnail': 'default', 'title': 'Thoughts on using alternative data to guide decisions?', 'total_awards_received': 0, 'treatment_tags': [], 'upvote_ratio': 1.0, 'url': 'https://www.reddit.com/r/SecurityAnalysis/comments/l25cf4/thoughts_on_using_alternative_data_to_guide/', 'whitelist_status': 'all_ads', 'wls': 6, 'created': 1611256367.0})\n",
            "'submission' object has no attribute 'selftext'\n",
            "submission(all_awardings=[], allow_live_comments=False, author='[deleted]', author_flair_background_color='', author_flair_css_class=None, author_flair_text=None, author_flair_text_color='dark', awarders=[], banned_by='moderators', can_mod_post=False, contest_mode=False, created_utc=1609800031, domain='self.SecurityAnalysis', full_link='https://www.reddit.com/r/SecurityAnalysis/comments/kqjxvp/test/', gildings={}, id='kqjxvp', is_crosspostable=False, is_meta=False, is_original_content=False, is_reddit_media_domain=False, is_robot_indexable=False, is_self=True, is_video=False, link_flair_background_color='', link_flair_richtext=[], link_flair_template_id='27050504-9118-11e3-8129-12313b076551', link_flair_text='Short Thesis', link_flair_text_color='dark', link_flair_type='text', locked=False, media_only=False, no_follow=True, num_comments=2, num_crossposts=0, over_18=False, parent_whitelist_status='all_ads', permalink='/r/SecurityAnalysis/comments/kqjxvp/test/', pinned=False, pwls=6, removed_by_category='deleted', retrieved_on=1609800042, score=1, send_replies=True, spoiler=False, stickied=False, subreddit='SecurityAnalysis', subreddit_id='t5_2s7v0', subreddit_subscribers=105697, subreddit_type='public', thumbnail='default', title='Test', total_awards_received=0, treatment_tags=[], upvote_ratio=1.0, url='https://www.reddit.com/r/SecurityAnalysis/comments/kqjxvp/test/', whitelist_status='all_ads', wls=6, created=1609800031.0, d_={'all_awardings': [], 'allow_live_comments': False, 'author': '[deleted]', 'author_flair_background_color': '', 'author_flair_css_class': None, 'author_flair_text': None, 'author_flair_text_color': 'dark', 'awarders': [], 'banned_by': 'moderators', 'can_mod_post': False, 'contest_mode': False, 'created_utc': 1609800031, 'domain': 'self.SecurityAnalysis', 'full_link': 'https://www.reddit.com/r/SecurityAnalysis/comments/kqjxvp/test/', 'gildings': {}, 'id': 'kqjxvp', 'is_crosspostable': False, 'is_meta': False, 'is_original_content': False, 'is_reddit_media_domain': False, 'is_robot_indexable': False, 'is_self': True, 'is_video': False, 'link_flair_background_color': '', 'link_flair_richtext': [], 'link_flair_template_id': '27050504-9118-11e3-8129-12313b076551', 'link_flair_text': 'Short Thesis', 'link_flair_text_color': 'dark', 'link_flair_type': 'text', 'locked': False, 'media_only': False, 'no_follow': True, 'num_comments': 2, 'num_crossposts': 0, 'over_18': False, 'parent_whitelist_status': 'all_ads', 'permalink': '/r/SecurityAnalysis/comments/kqjxvp/test/', 'pinned': False, 'pwls': 6, 'removed_by_category': 'deleted', 'retrieved_on': 1609800042, 'score': 1, 'send_replies': True, 'spoiler': False, 'stickied': False, 'subreddit': 'SecurityAnalysis', 'subreddit_id': 't5_2s7v0', 'subreddit_subscribers': 105697, 'subreddit_type': 'public', 'thumbnail': 'default', 'title': 'Test', 'total_awards_received': 0, 'treatment_tags': [], 'upvote_ratio': 1.0, 'url': 'https://www.reddit.com/r/SecurityAnalysis/comments/kqjxvp/test/', 'whitelist_status': 'all_ads', 'wls': 6, 'created': 1609800031.0})\n",
            "'submission' object has no attribute 'selftext'\n",
            "submission(all_awardings=[], allow_live_comments=False, author='[deleted]', author_flair_background_color='', author_flair_css_class=None, author_flair_text=None, author_flair_text_color='dark', awarders=[], banned_by='moderators', can_mod_post=False, contest_mode=False, created_utc=1608304678, domain='self.SecurityAnalysis', full_link='https://www.reddit.com/r/SecurityAnalysis/comments/kfmz27/data_or_talking_points_that_suggest_a_looming/', gildings={}, id='kfmz27', is_crosspostable=False, is_meta=False, is_original_content=False, is_reddit_media_domain=False, is_robot_indexable=False, is_self=True, is_video=False, link_flair_background_color='', link_flair_richtext=[], link_flair_template_id='470116ea-a53b-11e3-b850-12313d08facc', link_flair_text='Distressed', link_flair_text_color='dark', link_flair_type='text', locked=False, media_only=False, no_follow=True, num_comments=10, num_crossposts=0, over_18=False, parent_whitelist_status='all_ads', permalink='/r/SecurityAnalysis/comments/kfmz27/data_or_talking_points_that_suggest_a_looming/', pinned=False, pwls=6, removed_by_category='deleted', retrieved_on=1608325064, score=1, send_replies=True, spoiler=False, stickied=False, subreddit='SecurityAnalysis', subreddit_id='t5_2s7v0', subreddit_subscribers=103518, subreddit_type='public', thumbnail='default', title='Data or talking points that suggest a looming distressed credit opportunity in 2021?', total_awards_received=0, treatment_tags=[], upvote_ratio=1.0, url='https://www.reddit.com/r/SecurityAnalysis/comments/kfmz27/data_or_talking_points_that_suggest_a_looming/', whitelist_status='all_ads', wls=6, created=1608304678.0, d_={'all_awardings': [], 'allow_live_comments': False, 'author': '[deleted]', 'author_flair_background_color': '', 'author_flair_css_class': None, 'author_flair_text': None, 'author_flair_text_color': 'dark', 'awarders': [], 'banned_by': 'moderators', 'can_mod_post': False, 'contest_mode': False, 'created_utc': 1608304678, 'domain': 'self.SecurityAnalysis', 'full_link': 'https://www.reddit.com/r/SecurityAnalysis/comments/kfmz27/data_or_talking_points_that_suggest_a_looming/', 'gildings': {}, 'id': 'kfmz27', 'is_crosspostable': False, 'is_meta': False, 'is_original_content': False, 'is_reddit_media_domain': False, 'is_robot_indexable': False, 'is_self': True, 'is_video': False, 'link_flair_background_color': '', 'link_flair_richtext': [], 'link_flair_template_id': '470116ea-a53b-11e3-b850-12313d08facc', 'link_flair_text': 'Distressed', 'link_flair_text_color': 'dark', 'link_flair_type': 'text', 'locked': False, 'media_only': False, 'no_follow': True, 'num_comments': 10, 'num_crossposts': 0, 'over_18': False, 'parent_whitelist_status': 'all_ads', 'permalink': '/r/SecurityAnalysis/comments/kfmz27/data_or_talking_points_that_suggest_a_looming/', 'pinned': False, 'pwls': 6, 'removed_by_category': 'deleted', 'retrieved_on': 1608325064, 'score': 1, 'send_replies': True, 'spoiler': False, 'stickied': False, 'subreddit': 'SecurityAnalysis', 'subreddit_id': 't5_2s7v0', 'subreddit_subscribers': 103518, 'subreddit_type': 'public', 'thumbnail': 'default', 'title': 'Data or talking points that suggest a looming distressed credit opportunity in 2021?', 'total_awards_received': 0, 'treatment_tags': [], 'upvote_ratio': 1.0, 'url': 'https://www.reddit.com/r/SecurityAnalysis/comments/kfmz27/data_or_talking_points_that_suggest_a_looming/', 'whitelist_status': 'all_ads', 'wls': 6, 'created': 1608304678.0})\n",
            "'submission' object has no attribute 'selftext'\n",
            "submission(all_awardings=[], allow_live_comments=False, author='[deleted]', author_flair_background_color='', author_flair_css_class=None, author_flair_text=None, author_flair_text_color='dark', awarders=[], banned_by='moderators', can_mod_post=False, contest_mode=False, created_utc=1608233394, domain='self.SecurityAnalysis', full_link='https://www.reddit.com/r/SecurityAnalysis/comments/kf4boh/tesla_flying_too_close_to_the_sun/', gildings={}, id='kf4boh', is_crosspostable=False, is_meta=False, is_original_content=False, is_reddit_media_domain=False, is_robot_indexable=False, is_self=True, is_video=False, link_flair_background_color='', link_flair_richtext=[], link_flair_template_id='27050504-9118-11e3-8129-12313b076551', link_flair_text='Short Thesis', link_flair_text_color='dark', link_flair_type='text', locked=False, media_only=False, no_follow=True, num_comments=9, num_crossposts=0, over_18=False, parent_whitelist_status='all_ads', permalink='/r/SecurityAnalysis/comments/kf4boh/tesla_flying_too_close_to_the_sun/', pinned=False, pwls=6, removed_by_category='deleted', retrieved_on=1608235987, score=0, send_replies=True, spoiler=False, stickied=False, subreddit='SecurityAnalysis', subreddit_id='t5_2s7v0', subreddit_subscribers=103428, subreddit_type='public', thumbnail='default', title='Tesla: Flying too close to the sun:', total_awards_received=0, treatment_tags=[], upvote_ratio=0.5, url='https://www.reddit.com/r/SecurityAnalysis/comments/kf4boh/tesla_flying_too_close_to_the_sun/', whitelist_status='all_ads', wls=6, created=1608233394.0, d_={'all_awardings': [], 'allow_live_comments': False, 'author': '[deleted]', 'author_flair_background_color': '', 'author_flair_css_class': None, 'author_flair_text': None, 'author_flair_text_color': 'dark', 'awarders': [], 'banned_by': 'moderators', 'can_mod_post': False, 'contest_mode': False, 'created_utc': 1608233394, 'domain': 'self.SecurityAnalysis', 'full_link': 'https://www.reddit.com/r/SecurityAnalysis/comments/kf4boh/tesla_flying_too_close_to_the_sun/', 'gildings': {}, 'id': 'kf4boh', 'is_crosspostable': False, 'is_meta': False, 'is_original_content': False, 'is_reddit_media_domain': False, 'is_robot_indexable': False, 'is_self': True, 'is_video': False, 'link_flair_background_color': '', 'link_flair_richtext': [], 'link_flair_template_id': '27050504-9118-11e3-8129-12313b076551', 'link_flair_text': 'Short Thesis', 'link_flair_text_color': 'dark', 'link_flair_type': 'text', 'locked': False, 'media_only': False, 'no_follow': True, 'num_comments': 9, 'num_crossposts': 0, 'over_18': False, 'parent_whitelist_status': 'all_ads', 'permalink': '/r/SecurityAnalysis/comments/kf4boh/tesla_flying_too_close_to_the_sun/', 'pinned': False, 'pwls': 6, 'removed_by_category': 'deleted', 'retrieved_on': 1608235987, 'score': 0, 'send_replies': True, 'spoiler': False, 'stickied': False, 'subreddit': 'SecurityAnalysis', 'subreddit_id': 't5_2s7v0', 'subreddit_subscribers': 103428, 'subreddit_type': 'public', 'thumbnail': 'default', 'title': 'Tesla: Flying too close to the sun:', 'total_awards_received': 0, 'treatment_tags': [], 'upvote_ratio': 0.5, 'url': 'https://www.reddit.com/r/SecurityAnalysis/comments/kf4boh/tesla_flying_too_close_to_the_sun/', 'whitelist_status': 'all_ads', 'wls': 6, 'created': 1608233394.0})\n",
            "'submission' object has no attribute 'selftext'\n",
            "submission(all_awardings=[], allow_live_comments=False, author='[deleted]', author_flair_background_color='', author_flair_css_class=None, author_flair_text=None, author_flair_text_color='dark', awarders=[], banned_by='moderators', can_mod_post=False, contest_mode=False, created_utc=1605717450, domain='self.SecurityAnalysis', full_link='https://www.reddit.com/r/SecurityAnalysis/comments/jwj273/i_built_this_thing_that_analyses_bulk_reddit_data/', gildings={}, id='jwj273', is_crosspostable=False, is_meta=False, is_original_content=False, is_reddit_media_domain=False, is_robot_indexable=False, is_self=True, is_video=False, link_flair_background_color='', link_flair_richtext=[], link_flair_template_id='60108af2-9119-11e3-a4d5-22000aa47206', link_flair_text='Strategy', link_flair_text_color='dark', link_flair_type='text', locked=False, media_only=False, no_follow=True, num_comments=14, num_crossposts=0, over_18=False, parent_whitelist_status='all_ads', permalink='/r/SecurityAnalysis/comments/jwj273/i_built_this_thing_that_analyses_bulk_reddit_data/', pinned=False, pwls=6, removed_by_category='deleted', retrieved_on=1605731482, score=6, send_replies=True, spoiler=False, stickied=False, subreddit='SecurityAnalysis', subreddit_id='t5_2s7v0', subreddit_subscribers=100601, subreddit_type='public', thumbnail='default', title=\"I built this thing that analyses bulk reddit data to extract stock discussion, figure you all might like it, and I'm looking for feedback\", total_awards_received=0, treatment_tags=[], upvote_ratio=0.88, url='https://www.reddit.com/r/SecurityAnalysis/comments/jwj273/i_built_this_thing_that_analyses_bulk_reddit_data/', whitelist_status='all_ads', wls=6, created=1605717450.0, d_={'all_awardings': [], 'allow_live_comments': False, 'author': '[deleted]', 'author_flair_background_color': '', 'author_flair_css_class': None, 'author_flair_text': None, 'author_flair_text_color': 'dark', 'awarders': [], 'banned_by': 'moderators', 'can_mod_post': False, 'contest_mode': False, 'created_utc': 1605717450, 'domain': 'self.SecurityAnalysis', 'full_link': 'https://www.reddit.com/r/SecurityAnalysis/comments/jwj273/i_built_this_thing_that_analyses_bulk_reddit_data/', 'gildings': {}, 'id': 'jwj273', 'is_crosspostable': False, 'is_meta': False, 'is_original_content': False, 'is_reddit_media_domain': False, 'is_robot_indexable': False, 'is_self': True, 'is_video': False, 'link_flair_background_color': '', 'link_flair_richtext': [], 'link_flair_template_id': '60108af2-9119-11e3-a4d5-22000aa47206', 'link_flair_text': 'Strategy', 'link_flair_text_color': 'dark', 'link_flair_type': 'text', 'locked': False, 'media_only': False, 'no_follow': True, 'num_comments': 14, 'num_crossposts': 0, 'over_18': False, 'parent_whitelist_status': 'all_ads', 'permalink': '/r/SecurityAnalysis/comments/jwj273/i_built_this_thing_that_analyses_bulk_reddit_data/', 'pinned': False, 'pwls': 6, 'removed_by_category': 'deleted', 'retrieved_on': 1605731482, 'score': 6, 'send_replies': True, 'spoiler': False, 'stickied': False, 'subreddit': 'SecurityAnalysis', 'subreddit_id': 't5_2s7v0', 'subreddit_subscribers': 100601, 'subreddit_type': 'public', 'thumbnail': 'default', 'title': \"I built this thing that analyses bulk reddit data to extract stock discussion, figure you all might like it, and I'm looking for feedback\", 'total_awards_received': 0, 'treatment_tags': [], 'upvote_ratio': 0.88, 'url': 'https://www.reddit.com/r/SecurityAnalysis/comments/jwj273/i_built_this_thing_that_analyses_bulk_reddit_data/', 'whitelist_status': 'all_ads', 'wls': 6, 'created': 1605717450.0})\n",
            "'submission' object has no attribute 'selftext'\n",
            "submission(all_awardings=[], allow_live_comments=False, author='[deleted]', author_flair_background_color='', author_flair_css_class=None, author_flair_text=None, author_flair_text_color='dark', awarders=[], banned_by='moderators', can_mod_post=False, contest_mode=False, created_utc=1605548633, domain='self.business', full_link='https://www.reddit.com/r/business/comments/jvb6yr/tshirt_printing/', gildings={}, id='jvb6yr', is_crosspostable=False, is_meta=False, is_original_content=False, is_reddit_media_domain=False, is_robot_indexable=False, is_self=True, is_video=False, link_flair_background_color='', link_flair_richtext=[], link_flair_text_color='dark', link_flair_type='text', locked=False, media_only=False, no_follow=True, num_comments=2, num_crossposts=0, over_18=False, parent_whitelist_status='all_ads', permalink='/r/business/comments/jvb6yr/tshirt_printing/', pinned=False, pwls=6, removed_by_category='deleted', retrieved_on=1605594502, score=1, send_replies=True, spoiler=False, stickied=False, subreddit='business', subreddit_id='t5_2qgzg', subreddit_subscribers=580009, subreddit_type='public', thumbnail='default', title='Tshirt printing', total_awards_received=0, treatment_tags=[], upvote_ratio=0.67, url='https://www.reddit.com/r/business/comments/jvb6yr/tshirt_printing/', whitelist_status='all_ads', wls=6, created=1605548633.0, d_={'all_awardings': [], 'allow_live_comments': False, 'author': '[deleted]', 'author_flair_background_color': '', 'author_flair_css_class': None, 'author_flair_text': None, 'author_flair_text_color': 'dark', 'awarders': [], 'banned_by': 'moderators', 'can_mod_post': False, 'contest_mode': False, 'created_utc': 1605548633, 'domain': 'self.business', 'full_link': 'https://www.reddit.com/r/business/comments/jvb6yr/tshirt_printing/', 'gildings': {}, 'id': 'jvb6yr', 'is_crosspostable': False, 'is_meta': False, 'is_original_content': False, 'is_reddit_media_domain': False, 'is_robot_indexable': False, 'is_self': True, 'is_video': False, 'link_flair_background_color': '', 'link_flair_richtext': [], 'link_flair_text_color': 'dark', 'link_flair_type': 'text', 'locked': False, 'media_only': False, 'no_follow': True, 'num_comments': 2, 'num_crossposts': 0, 'over_18': False, 'parent_whitelist_status': 'all_ads', 'permalink': '/r/business/comments/jvb6yr/tshirt_printing/', 'pinned': False, 'pwls': 6, 'removed_by_category': 'deleted', 'retrieved_on': 1605594502, 'score': 1, 'send_replies': True, 'spoiler': False, 'stickied': False, 'subreddit': 'business', 'subreddit_id': 't5_2qgzg', 'subreddit_subscribers': 580009, 'subreddit_type': 'public', 'thumbnail': 'default', 'title': 'Tshirt printing', 'total_awards_received': 0, 'treatment_tags': [], 'upvote_ratio': 0.67, 'url': 'https://www.reddit.com/r/business/comments/jvb6yr/tshirt_printing/', 'whitelist_status': 'all_ads', 'wls': 6, 'created': 1605548633.0})\n",
            "'submission' object has no attribute 'selftext'\n",
            "submission(all_awardings=[], allow_live_comments=False, author='[deleted]', author_flair_background_color='', author_flair_css_class=None, author_flair_text=None, author_flair_text_color='dark', awarders=[], banned_by='moderators', can_mod_post=False, contest_mode=False, created_utc=1605447765, domain='self.SecurityAnalysis', full_link='https://www.reddit.com/r/SecurityAnalysis/comments/jum1rp/what_impact_will_bidens_victory_have_on_ma_in/', gildings={}, id='jum1rp', is_crosspostable=False, is_meta=False, is_original_content=False, is_reddit_media_domain=False, is_robot_indexable=False, is_self=True, is_video=False, link_flair_background_color='', link_flair_richtext=[], link_flair_template_id='42233598-9197-11e3-a343-22000aa47206', link_flair_text='M&amp;A', link_flair_text_color='dark', link_flair_type='text', locked=False, media_only=False, no_follow=True, num_comments=2, num_crossposts=0, over_18=False, parent_whitelist_status='all_ads', permalink='/r/SecurityAnalysis/comments/jum1rp/what_impact_will_bidens_victory_have_on_ma_in/', pinned=False, pwls=6, removed_by_category='deleted', retrieved_on=1605509530, score=0, send_replies=True, spoiler=False, stickied=False, subreddit='SecurityAnalysis', subreddit_id='t5_2s7v0', subreddit_subscribers=100433, subreddit_type='public', thumbnail='default', title=\"What impact will biden's victory have on m&amp;a in north america?\", total_awards_received=0, treatment_tags=[], upvote_ratio=0.25, url='https://www.reddit.com/r/SecurityAnalysis/comments/jum1rp/what_impact_will_bidens_victory_have_on_ma_in/', whitelist_status='all_ads', wls=6, created=1605447765.0, d_={'all_awardings': [], 'allow_live_comments': False, 'author': '[deleted]', 'author_flair_background_color': '', 'author_flair_css_class': None, 'author_flair_text': None, 'author_flair_text_color': 'dark', 'awarders': [], 'banned_by': 'moderators', 'can_mod_post': False, 'contest_mode': False, 'created_utc': 1605447765, 'domain': 'self.SecurityAnalysis', 'full_link': 'https://www.reddit.com/r/SecurityAnalysis/comments/jum1rp/what_impact_will_bidens_victory_have_on_ma_in/', 'gildings': {}, 'id': 'jum1rp', 'is_crosspostable': False, 'is_meta': False, 'is_original_content': False, 'is_reddit_media_domain': False, 'is_robot_indexable': False, 'is_self': True, 'is_video': False, 'link_flair_background_color': '', 'link_flair_richtext': [], 'link_flair_template_id': '42233598-9197-11e3-a343-22000aa47206', 'link_flair_text': 'M&amp;A', 'link_flair_text_color': 'dark', 'link_flair_type': 'text', 'locked': False, 'media_only': False, 'no_follow': True, 'num_comments': 2, 'num_crossposts': 0, 'over_18': False, 'parent_whitelist_status': 'all_ads', 'permalink': '/r/SecurityAnalysis/comments/jum1rp/what_impact_will_bidens_victory_have_on_ma_in/', 'pinned': False, 'pwls': 6, 'removed_by_category': 'deleted', 'retrieved_on': 1605509530, 'score': 0, 'send_replies': True, 'spoiler': False, 'stickied': False, 'subreddit': 'SecurityAnalysis', 'subreddit_id': 't5_2s7v0', 'subreddit_subscribers': 100433, 'subreddit_type': 'public', 'thumbnail': 'default', 'title': \"What impact will biden's victory have on m&amp;a in north america?\", 'total_awards_received': 0, 'treatment_tags': [], 'upvote_ratio': 0.25, 'url': 'https://www.reddit.com/r/SecurityAnalysis/comments/jum1rp/what_impact_will_bidens_victory_have_on_ma_in/', 'whitelist_status': 'all_ads', 'wls': 6, 'created': 1605447765.0})\n",
            "'submission' object has no attribute 'selftext'\n",
            "submission(all_awardings=[], allow_live_comments=False, author='[deleted]', author_flair_background_color='', author_flair_css_class=None, author_flair_text=None, author_flair_text_color='dark', awarders=[], banned_by='moderators', can_mod_post=False, contest_mode=False, created_utc=1595520319, domain='self.SecurityAnalysis', full_link='https://www.reddit.com/r/SecurityAnalysis/comments/hwib0x/market_cap/', gildings={}, id='hwib0x', is_crosspostable=False, is_meta=False, is_original_content=False, is_reddit_media_domain=False, is_robot_indexable=False, is_self=True, is_video=False, link_flair_background_color='', link_flair_richtext=[], link_flair_template_id='0075973c-9127-11e3-82aa-12313d27e9a3', link_flair_text='Discussion', link_flair_text_color='dark', link_flair_type='text', locked=False, media_only=False, no_follow=True, num_comments=2, num_crossposts=0, over_18=False, parent_whitelist_status='all_ads', permalink='/r/SecurityAnalysis/comments/hwib0x/market_cap/', pinned=False, pwls=6, removed_by_category='deleted', retrieved_on=1595552372, score=1, send_replies=True, spoiler=False, stickied=False, subreddit='SecurityAnalysis', subreddit_id='t5_2s7v0', subreddit_subscribers=88079, subreddit_type='public', thumbnail='default', title='Market Cap', total_awards_received=0, treatment_tags=[], upvote_ratio=1.0, url='https://www.reddit.com/r/SecurityAnalysis/comments/hwib0x/market_cap/', whitelist_status='all_ads', wls=6, created=1595520319.0, d_={'all_awardings': [], 'allow_live_comments': False, 'author': '[deleted]', 'author_flair_background_color': '', 'author_flair_css_class': None, 'author_flair_text': None, 'author_flair_text_color': 'dark', 'awarders': [], 'banned_by': 'moderators', 'can_mod_post': False, 'contest_mode': False, 'created_utc': 1595520319, 'domain': 'self.SecurityAnalysis', 'full_link': 'https://www.reddit.com/r/SecurityAnalysis/comments/hwib0x/market_cap/', 'gildings': {}, 'id': 'hwib0x', 'is_crosspostable': False, 'is_meta': False, 'is_original_content': False, 'is_reddit_media_domain': False, 'is_robot_indexable': False, 'is_self': True, 'is_video': False, 'link_flair_background_color': '', 'link_flair_richtext': [], 'link_flair_template_id': '0075973c-9127-11e3-82aa-12313d27e9a3', 'link_flair_text': 'Discussion', 'link_flair_text_color': 'dark', 'link_flair_type': 'text', 'locked': False, 'media_only': False, 'no_follow': True, 'num_comments': 2, 'num_crossposts': 0, 'over_18': False, 'parent_whitelist_status': 'all_ads', 'permalink': '/r/SecurityAnalysis/comments/hwib0x/market_cap/', 'pinned': False, 'pwls': 6, 'removed_by_category': 'deleted', 'retrieved_on': 1595552372, 'score': 1, 'send_replies': True, 'spoiler': False, 'stickied': False, 'subreddit': 'SecurityAnalysis', 'subreddit_id': 't5_2s7v0', 'subreddit_subscribers': 88079, 'subreddit_type': 'public', 'thumbnail': 'default', 'title': 'Market Cap', 'total_awards_received': 0, 'treatment_tags': [], 'upvote_ratio': 1.0, 'url': 'https://www.reddit.com/r/SecurityAnalysis/comments/hwib0x/market_cap/', 'whitelist_status': 'all_ads', 'wls': 6, 'created': 1595520319.0})\n",
            "'submission' object has no attribute 'selftext'\n",
            "submission(all_awardings=[], allow_live_comments=False, author='[deleted]', author_flair_background_color='', author_flair_css_class=None, author_flair_text=None, author_flair_text_color='dark', awarders=[], banned_by='moderators', can_mod_post=False, contest_mode=False, created_utc=1595342725, domain='self.SecurityAnalysis', full_link='https://www.reddit.com/r/SecurityAnalysis/comments/hv8ko3/are_financial_articles_aimed_at_retail_investors/', gildings={}, id='hv8ko3', is_crosspostable=False, is_meta=False, is_original_content=False, is_reddit_media_domain=False, is_robot_indexable=False, is_self=True, is_video=False, link_flair_background_color='', link_flair_richtext=[], link_flair_template_id='0075973c-9127-11e3-82aa-12313d27e9a3', link_flair_text='Discussion', link_flair_text_color='dark', link_flair_type='text', locked=False, media_only=False, no_follow=True, num_comments=2, num_crossposts=0, over_18=False, parent_whitelist_status='all_ads', permalink='/r/SecurityAnalysis/comments/hv8ko3/are_financial_articles_aimed_at_retail_investors/', pinned=False, pwls=6, removed_by_category='deleted', retrieved_on=1595404023, score=1, send_replies=True, spoiler=False, stickied=False, subreddit='SecurityAnalysis', subreddit_id='t5_2s7v0', subreddit_subscribers=87938, subreddit_type='public', thumbnail='default', title='Are financial articles aimed at retail investors?', total_awards_received=0, treatment_tags=[], upvote_ratio=1.0, url='https://www.reddit.com/r/SecurityAnalysis/comments/hv8ko3/are_financial_articles_aimed_at_retail_investors/', whitelist_status='all_ads', wls=6, created=1595342725.0, d_={'all_awardings': [], 'allow_live_comments': False, 'author': '[deleted]', 'author_flair_background_color': '', 'author_flair_css_class': None, 'author_flair_text': None, 'author_flair_text_color': 'dark', 'awarders': [], 'banned_by': 'moderators', 'can_mod_post': False, 'contest_mode': False, 'created_utc': 1595342725, 'domain': 'self.SecurityAnalysis', 'full_link': 'https://www.reddit.com/r/SecurityAnalysis/comments/hv8ko3/are_financial_articles_aimed_at_retail_investors/', 'gildings': {}, 'id': 'hv8ko3', 'is_crosspostable': False, 'is_meta': False, 'is_original_content': False, 'is_reddit_media_domain': False, 'is_robot_indexable': False, 'is_self': True, 'is_video': False, 'link_flair_background_color': '', 'link_flair_richtext': [], 'link_flair_template_id': '0075973c-9127-11e3-82aa-12313d27e9a3', 'link_flair_text': 'Discussion', 'link_flair_text_color': 'dark', 'link_flair_type': 'text', 'locked': False, 'media_only': False, 'no_follow': True, 'num_comments': 2, 'num_crossposts': 0, 'over_18': False, 'parent_whitelist_status': 'all_ads', 'permalink': '/r/SecurityAnalysis/comments/hv8ko3/are_financial_articles_aimed_at_retail_investors/', 'pinned': False, 'pwls': 6, 'removed_by_category': 'deleted', 'retrieved_on': 1595404023, 'score': 1, 'send_replies': True, 'spoiler': False, 'stickied': False, 'subreddit': 'SecurityAnalysis', 'subreddit_id': 't5_2s7v0', 'subreddit_subscribers': 87938, 'subreddit_type': 'public', 'thumbnail': 'default', 'title': 'Are financial articles aimed at retail investors?', 'total_awards_received': 0, 'treatment_tags': [], 'upvote_ratio': 1.0, 'url': 'https://www.reddit.com/r/SecurityAnalysis/comments/hv8ko3/are_financial_articles_aimed_at_retail_investors/', 'whitelist_status': 'all_ads', 'wls': 6, 'created': 1595342725.0})\n",
            "'submission' object has no attribute 'selftext'\n",
            "submission(all_awardings=[], allow_live_comments=False, author='[deleted]', author_flair_background_color='', author_flair_css_class=None, author_flair_text=None, author_flair_text_color='dark', awarders=[], banned_by='moderators', can_mod_post=False, contest_mode=False, created_utc=1589213894, domain='self.SecurityAnalysis', edited=1589214226, full_link='https://www.reddit.com/r/SecurityAnalysis/comments/ghqnh4/confusion_over_price_discrepancy_between_class_a/', gildings={}, id='ghqnh4', is_crosspostable=False, is_meta=False, is_original_content=False, is_reddit_media_domain=False, is_robot_indexable=False, is_self=True, is_video=False, link_flair_background_color='', link_flair_richtext=[], link_flair_template_id='0075973c-9127-11e3-82aa-12313d27e9a3', link_flair_text='Discussion', link_flair_text_color='dark', link_flair_type='text', locked=False, media_only=False, no_follow=True, num_comments=3, num_crossposts=0, over_18=False, parent_whitelist_status='all_ads', permalink='/r/SecurityAnalysis/comments/ghqnh4/confusion_over_price_discrepancy_between_class_a/', pinned=False, pwls=6, removed_by_category='deleted', retrieved_on=1589217421, score=1, send_replies=True, spoiler=False, stickied=False, subreddit='SecurityAnalysis', subreddit_id='t5_2s7v0', subreddit_subscribers=80873, subreddit_type='public', thumbnail='default', title='Confusion over price discrepancy between Class A shares and Class C shares of $GOOGL and $GOOG, where Class C shares with no voting rights are more expensive than Class A shares with voting rights', total_awards_received=0, treatment_tags=[], upvote_ratio=1.0, url='https://www.reddit.com/r/SecurityAnalysis/comments/ghqnh4/confusion_over_price_discrepancy_between_class_a/', whitelist_status='all_ads', wls=6, created=1589213894.0, d_={'all_awardings': [], 'allow_live_comments': False, 'author': '[deleted]', 'author_flair_background_color': '', 'author_flair_css_class': None, 'author_flair_text': None, 'author_flair_text_color': 'dark', 'awarders': [], 'banned_by': 'moderators', 'can_mod_post': False, 'contest_mode': False, 'created_utc': 1589213894, 'domain': 'self.SecurityAnalysis', 'edited': 1589214226, 'full_link': 'https://www.reddit.com/r/SecurityAnalysis/comments/ghqnh4/confusion_over_price_discrepancy_between_class_a/', 'gildings': {}, 'id': 'ghqnh4', 'is_crosspostable': False, 'is_meta': False, 'is_original_content': False, 'is_reddit_media_domain': False, 'is_robot_indexable': False, 'is_self': True, 'is_video': False, 'link_flair_background_color': '', 'link_flair_richtext': [], 'link_flair_template_id': '0075973c-9127-11e3-82aa-12313d27e9a3', 'link_flair_text': 'Discussion', 'link_flair_text_color': 'dark', 'link_flair_type': 'text', 'locked': False, 'media_only': False, 'no_follow': True, 'num_comments': 3, 'num_crossposts': 0, 'over_18': False, 'parent_whitelist_status': 'all_ads', 'permalink': '/r/SecurityAnalysis/comments/ghqnh4/confusion_over_price_discrepancy_between_class_a/', 'pinned': False, 'pwls': 6, 'removed_by_category': 'deleted', 'retrieved_on': 1589217421, 'score': 1, 'send_replies': True, 'spoiler': False, 'stickied': False, 'subreddit': 'SecurityAnalysis', 'subreddit_id': 't5_2s7v0', 'subreddit_subscribers': 80873, 'subreddit_type': 'public', 'thumbnail': 'default', 'title': 'Confusion over price discrepancy between Class A shares and Class C shares of $GOOGL and $GOOG, where Class C shares with no voting rights are more expensive than Class A shares with voting rights', 'total_awards_received': 0, 'treatment_tags': [], 'upvote_ratio': 1.0, 'url': 'https://www.reddit.com/r/SecurityAnalysis/comments/ghqnh4/confusion_over_price_discrepancy_between_class_a/', 'whitelist_status': 'all_ads', 'wls': 6, 'created': 1589213894.0})\n",
            "'submission' object has no attribute 'selftext'\n",
            "submission(all_awardings=[], allow_live_comments=False, author='[deleted]', author_flair_background_color='', author_flair_css_class=None, author_flair_text=None, author_flair_text_color='dark', awarders=[], banned_by='moderators', can_mod_post=False, contest_mode=False, created_utc=1588780340, domain='self.SecurityAnalysis', full_link='https://www.reddit.com/r/SecurityAnalysis/comments/gemkxb/how_do_you_assess_figs/', gildings={}, id='gemkxb', is_crosspostable=False, is_meta=False, is_original_content=False, is_reddit_media_domain=False, is_robot_indexable=False, is_self=True, is_video=False, link_flair_background_color='', link_flair_richtext=[], link_flair_template_id='0075973c-9127-11e3-82aa-12313d27e9a3', link_flair_text='Discussion', link_flair_text_color='dark', link_flair_type='text', locked=False, media_only=False, no_follow=True, num_comments=4, num_crossposts=0, over_18=False, parent_whitelist_status='all_ads', permalink='/r/SecurityAnalysis/comments/gemkxb/how_do_you_assess_figs/', pinned=False, pwls=6, removed_by_category='deleted', retrieved_on=1588780692, score=1, send_replies=True, spoiler=False, stickied=False, subreddit='SecurityAnalysis', subreddit_id='t5_2s7v0', subreddit_subscribers=80325, subreddit_type='public', thumbnail='default', title='How Do You Assess FIGs?', total_awards_received=0, treatment_tags=[], upvote_ratio=0.99, url='https://www.reddit.com/r/SecurityAnalysis/comments/gemkxb/how_do_you_assess_figs/', whitelist_status='all_ads', wls=6, created=1588780340.0, d_={'all_awardings': [], 'allow_live_comments': False, 'author': '[deleted]', 'author_flair_background_color': '', 'author_flair_css_class': None, 'author_flair_text': None, 'author_flair_text_color': 'dark', 'awarders': [], 'banned_by': 'moderators', 'can_mod_post': False, 'contest_mode': False, 'created_utc': 1588780340, 'domain': 'self.SecurityAnalysis', 'full_link': 'https://www.reddit.com/r/SecurityAnalysis/comments/gemkxb/how_do_you_assess_figs/', 'gildings': {}, 'id': 'gemkxb', 'is_crosspostable': False, 'is_meta': False, 'is_original_content': False, 'is_reddit_media_domain': False, 'is_robot_indexable': False, 'is_self': True, 'is_video': False, 'link_flair_background_color': '', 'link_flair_richtext': [], 'link_flair_template_id': '0075973c-9127-11e3-82aa-12313d27e9a3', 'link_flair_text': 'Discussion', 'link_flair_text_color': 'dark', 'link_flair_type': 'text', 'locked': False, 'media_only': False, 'no_follow': True, 'num_comments': 4, 'num_crossposts': 0, 'over_18': False, 'parent_whitelist_status': 'all_ads', 'permalink': '/r/SecurityAnalysis/comments/gemkxb/how_do_you_assess_figs/', 'pinned': False, 'pwls': 6, 'removed_by_category': 'deleted', 'retrieved_on': 1588780692, 'score': 1, 'send_replies': True, 'spoiler': False, 'stickied': False, 'subreddit': 'SecurityAnalysis', 'subreddit_id': 't5_2s7v0', 'subreddit_subscribers': 80325, 'subreddit_type': 'public', 'thumbnail': 'default', 'title': 'How Do You Assess FIGs?', 'total_awards_received': 0, 'treatment_tags': [], 'upvote_ratio': 0.99, 'url': 'https://www.reddit.com/r/SecurityAnalysis/comments/gemkxb/how_do_you_assess_figs/', 'whitelist_status': 'all_ads', 'wls': 6, 'created': 1588780340.0})\n",
            "'submission' object has no attribute 'selftext'\n",
            "submission(all_awardings=[], allow_live_comments=False, author='[deleted]', author_flair_background_color='', author_flair_css_class=None, author_flair_text=None, author_flair_text_color='dark', awarders=[], banned_by='moderators', can_mod_post=False, contest_mode=False, created_utc=1586787358, domain='self.SecurityAnalysis', edited=1586788275, full_link='https://www.reddit.com/r/SecurityAnalysis/comments/g0jr67/what_indepth_book_should_i_read_after_security/', gildings={}, id='g0jr67', is_crosspostable=False, is_meta=False, is_original_content=False, is_reddit_media_domain=False, is_robot_indexable=False, is_self=True, is_video=False, link_flair_background_color='', link_flair_richtext=[], link_flair_template_id='0075973c-9127-11e3-82aa-12313d27e9a3', link_flair_text='Discussion', link_flair_text_color='dark', link_flair_type='text', locked=False, media_only=False, no_follow=True, num_comments=4, num_crossposts=0, over_18=False, parent_whitelist_status='all_ads', permalink='/r/SecurityAnalysis/comments/g0jr67/what_indepth_book_should_i_read_after_security/', pinned=False, pwls=6, removed_by_category='deleted', retrieved_on=1586868121, score=0, send_replies=True, spoiler=False, stickied=False, subreddit='SecurityAnalysis', subreddit_id='t5_2s7v0', subreddit_subscribers=76495, subreddit_type='public', thumbnail='default', title='What in-depth book should I read after Security Analysis?', total_awards_received=0, treatment_tags=[], url='https://www.reddit.com/r/SecurityAnalysis/comments/g0jr67/what_indepth_book_should_i_read_after_security/', whitelist_status='all_ads', wls=6, created=1586787358.0, d_={'all_awardings': [], 'allow_live_comments': False, 'author': '[deleted]', 'author_flair_background_color': '', 'author_flair_css_class': None, 'author_flair_text': None, 'author_flair_text_color': 'dark', 'awarders': [], 'banned_by': 'moderators', 'can_mod_post': False, 'contest_mode': False, 'created_utc': 1586787358, 'domain': 'self.SecurityAnalysis', 'edited': 1586788275, 'full_link': 'https://www.reddit.com/r/SecurityAnalysis/comments/g0jr67/what_indepth_book_should_i_read_after_security/', 'gildings': {}, 'id': 'g0jr67', 'is_crosspostable': False, 'is_meta': False, 'is_original_content': False, 'is_reddit_media_domain': False, 'is_robot_indexable': False, 'is_self': True, 'is_video': False, 'link_flair_background_color': '', 'link_flair_richtext': [], 'link_flair_template_id': '0075973c-9127-11e3-82aa-12313d27e9a3', 'link_flair_text': 'Discussion', 'link_flair_text_color': 'dark', 'link_flair_type': 'text', 'locked': False, 'media_only': False, 'no_follow': True, 'num_comments': 4, 'num_crossposts': 0, 'over_18': False, 'parent_whitelist_status': 'all_ads', 'permalink': '/r/SecurityAnalysis/comments/g0jr67/what_indepth_book_should_i_read_after_security/', 'pinned': False, 'pwls': 6, 'removed_by_category': 'deleted', 'retrieved_on': 1586868121, 'score': 0, 'send_replies': True, 'spoiler': False, 'stickied': False, 'subreddit': 'SecurityAnalysis', 'subreddit_id': 't5_2s7v0', 'subreddit_subscribers': 76495, 'subreddit_type': 'public', 'thumbnail': 'default', 'title': 'What in-depth book should I read after Security Analysis?', 'total_awards_received': 0, 'treatment_tags': [], 'url': 'https://www.reddit.com/r/SecurityAnalysis/comments/g0jr67/what_indepth_book_should_i_read_after_security/', 'whitelist_status': 'all_ads', 'wls': 6, 'created': 1586787358.0})\n",
            "'submission' object has no attribute 'selftext'\n",
            "submission(all_awardings=[], allow_live_comments=False, author='[deleted]', author_flair_background_color='', author_flair_css_class=None, author_flair_text=None, author_flair_text_color='dark', awarders=[], banned_by='moderators', can_mod_post=False, contest_mode=False, created_utc=1578162600, domain='self.SecurityAnalysis', full_link='https://www.reddit.com/r/SecurityAnalysis/comments/ek0cl1/energy_primers_and_outlook/', gildings={}, id='ek0cl1', is_crosspostable=False, is_meta=False, is_original_content=False, is_reddit_media_domain=False, is_robot_indexable=False, is_self=True, is_video=False, link_flair_background_color='', link_flair_richtext=[], link_flair_text_color='dark', link_flair_type='text', locked=False, media_only=False, no_follow=True, num_comments=4, num_crossposts=0, over_18=False, parent_whitelist_status='all_ads', permalink='/r/SecurityAnalysis/comments/ek0cl1/energy_primers_and_outlook/', pinned=False, pwls=6, removed_by_category='deleted', retrieved_on=1578197861, score=1, send_replies=True, spoiler=False, steward_reports=[], stickied=False, subreddit='SecurityAnalysis', subreddit_id='t5_2s7v0', subreddit_subscribers=63122, subreddit_type='public', thumbnail='default', title='Energy Primers and Outlook?', total_awards_received=0, url='https://www.reddit.com/r/SecurityAnalysis/comments/ek0cl1/energy_primers_and_outlook/', whitelist_status='all_ads', wls=6, created=1578162600.0, d_={'all_awardings': [], 'allow_live_comments': False, 'author': '[deleted]', 'author_flair_background_color': '', 'author_flair_css_class': None, 'author_flair_text': None, 'author_flair_text_color': 'dark', 'awarders': [], 'banned_by': 'moderators', 'can_mod_post': False, 'contest_mode': False, 'created_utc': 1578162600, 'domain': 'self.SecurityAnalysis', 'full_link': 'https://www.reddit.com/r/SecurityAnalysis/comments/ek0cl1/energy_primers_and_outlook/', 'gildings': {}, 'id': 'ek0cl1', 'is_crosspostable': False, 'is_meta': False, 'is_original_content': False, 'is_reddit_media_domain': False, 'is_robot_indexable': False, 'is_self': True, 'is_video': False, 'link_flair_background_color': '', 'link_flair_richtext': [], 'link_flair_text_color': 'dark', 'link_flair_type': 'text', 'locked': False, 'media_only': False, 'no_follow': True, 'num_comments': 4, 'num_crossposts': 0, 'over_18': False, 'parent_whitelist_status': 'all_ads', 'permalink': '/r/SecurityAnalysis/comments/ek0cl1/energy_primers_and_outlook/', 'pinned': False, 'pwls': 6, 'removed_by_category': 'deleted', 'retrieved_on': 1578197861, 'score': 1, 'send_replies': True, 'spoiler': False, 'steward_reports': [], 'stickied': False, 'subreddit': 'SecurityAnalysis', 'subreddit_id': 't5_2s7v0', 'subreddit_subscribers': 63122, 'subreddit_type': 'public', 'thumbnail': 'default', 'title': 'Energy Primers and Outlook?', 'total_awards_received': 0, 'url': 'https://www.reddit.com/r/SecurityAnalysis/comments/ek0cl1/energy_primers_and_outlook/', 'whitelist_status': 'all_ads', 'wls': 6, 'created': 1578162600.0})\n",
            "'submission' object has no attribute 'selftext'\n",
            "submission(all_awardings=[], allow_live_comments=False, author='[deleted]', author_flair_background_color='', author_flair_css_class=None, author_flair_text=None, author_flair_text_color='dark', awarders=[], banned_by='moderators', can_mod_post=False, contest_mode=False, created_utc=1569724722, domain='self.finance', full_link='https://www.reddit.com/r/finance/comments/dapji9/i_need_help_on_how_to_prove_income/', gildings={}, id='dapji9', is_crosspostable=False, is_meta=False, is_original_content=False, is_reddit_media_domain=False, is_robot_indexable=False, is_self=True, is_video=False, link_flair_background_color='', link_flair_richtext=[], link_flair_text_color='dark', link_flair_type='text', locked=False, media_only=False, no_follow=True, num_comments=2, num_crossposts=0, over_18=False, parent_whitelist_status='all_ads', permalink='/r/finance/comments/dapji9/i_need_help_on_how_to_prove_income/', pinned=False, pwls=6, retrieved_on=1569724850, score=1, send_replies=True, spoiler=False, steward_reports=[], stickied=False, subreddit='finance', subreddit_id='t5_2qhfj', subreddit_subscribers=288682, subreddit_type='public', thumbnail='default', title='I need help on how to prove income', total_awards_received=0, updated_utc=1569811107, url='https://www.reddit.com/r/finance/comments/dapji9/i_need_help_on_how_to_prove_income/', whitelist_status='all_ads', wls=6, created=1569724722.0, d_={'all_awardings': [], 'allow_live_comments': False, 'author': '[deleted]', 'author_flair_background_color': '', 'author_flair_css_class': None, 'author_flair_text': None, 'author_flair_text_color': 'dark', 'awarders': [], 'banned_by': 'moderators', 'can_mod_post': False, 'contest_mode': False, 'created_utc': 1569724722, 'domain': 'self.finance', 'full_link': 'https://www.reddit.com/r/finance/comments/dapji9/i_need_help_on_how_to_prove_income/', 'gildings': {}, 'id': 'dapji9', 'is_crosspostable': False, 'is_meta': False, 'is_original_content': False, 'is_reddit_media_domain': False, 'is_robot_indexable': False, 'is_self': True, 'is_video': False, 'link_flair_background_color': '', 'link_flair_richtext': [], 'link_flair_text_color': 'dark', 'link_flair_type': 'text', 'locked': False, 'media_only': False, 'no_follow': True, 'num_comments': 2, 'num_crossposts': 0, 'over_18': False, 'parent_whitelist_status': 'all_ads', 'permalink': '/r/finance/comments/dapji9/i_need_help_on_how_to_prove_income/', 'pinned': False, 'pwls': 6, 'retrieved_on': 1569724850, 'score': 1, 'send_replies': True, 'spoiler': False, 'steward_reports': [], 'stickied': False, 'subreddit': 'finance', 'subreddit_id': 't5_2qhfj', 'subreddit_subscribers': 288682, 'subreddit_type': 'public', 'thumbnail': 'default', 'title': 'I need help on how to prove income', 'total_awards_received': 0, 'updated_utc': 1569811107, 'url': 'https://www.reddit.com/r/finance/comments/dapji9/i_need_help_on_how_to_prove_income/', 'whitelist_status': 'all_ads', 'wls': 6, 'created': 1569724722.0})\n",
            "'submission' object has no attribute 'selftext'\n",
            "submission(all_awardings=[], allow_live_comments=False, author='[deleted]', author_flair_background_color='', author_flair_css_class=None, author_flair_text=None, author_flair_text_color='dark', awarders=[], banned_by='moderators', can_mod_post=False, contest_mode=False, created_utc=1569706772, domain='self.Economics', full_link='https://www.reddit.com/r/Economics/comments/dam9sc/what_is_the_real_reason_rates_affect_markets_so/', gildings={}, id='dam9sc', is_crosspostable=False, is_meta=False, is_original_content=False, is_reddit_media_domain=False, is_robot_indexable=False, is_self=True, is_video=False, link_flair_background_color='', link_flair_richtext=[], link_flair_text_color='dark', link_flair_type='text', locked=False, media_only=False, no_follow=True, num_comments=2, num_crossposts=0, over_18=False, parent_whitelist_status='all_ads', permalink='/r/Economics/comments/dam9sc/what_is_the_real_reason_rates_affect_markets_so/', pinned=False, pwls=6, retrieved_on=1569706856, score=1, send_replies=True, spoiler=False, steward_reports=[], stickied=False, subreddit='Economics', subreddit_id='t5_2qh1s', subreddit_subscribers=678407, subreddit_type='public', thumbnail='default', title='What is the real reason rates affect markets so much?', total_awards_received=0, updated_utc=1569793158, url='https://www.reddit.com/r/Economics/comments/dam9sc/what_is_the_real_reason_rates_affect_markets_so/', whitelist_status='all_ads', wls=6, created=1569706772.0, d_={'all_awardings': [], 'allow_live_comments': False, 'author': '[deleted]', 'author_flair_background_color': '', 'author_flair_css_class': None, 'author_flair_text': None, 'author_flair_text_color': 'dark', 'awarders': [], 'banned_by': 'moderators', 'can_mod_post': False, 'contest_mode': False, 'created_utc': 1569706772, 'domain': 'self.Economics', 'full_link': 'https://www.reddit.com/r/Economics/comments/dam9sc/what_is_the_real_reason_rates_affect_markets_so/', 'gildings': {}, 'id': 'dam9sc', 'is_crosspostable': False, 'is_meta': False, 'is_original_content': False, 'is_reddit_media_domain': False, 'is_robot_indexable': False, 'is_self': True, 'is_video': False, 'link_flair_background_color': '', 'link_flair_richtext': [], 'link_flair_text_color': 'dark', 'link_flair_type': 'text', 'locked': False, 'media_only': False, 'no_follow': True, 'num_comments': 2, 'num_crossposts': 0, 'over_18': False, 'parent_whitelist_status': 'all_ads', 'permalink': '/r/Economics/comments/dam9sc/what_is_the_real_reason_rates_affect_markets_so/', 'pinned': False, 'pwls': 6, 'retrieved_on': 1569706856, 'score': 1, 'send_replies': True, 'spoiler': False, 'steward_reports': [], 'stickied': False, 'subreddit': 'Economics', 'subreddit_id': 't5_2qh1s', 'subreddit_subscribers': 678407, 'subreddit_type': 'public', 'thumbnail': 'default', 'title': 'What is the real reason rates affect markets so much?', 'total_awards_received': 0, 'updated_utc': 1569793158, 'url': 'https://www.reddit.com/r/Economics/comments/dam9sc/what_is_the_real_reason_rates_affect_markets_so/', 'whitelist_status': 'all_ads', 'wls': 6, 'created': 1569706772.0})\n",
            "'submission' object has no attribute 'selftext'\n",
            "submission(all_awardings=[], author='[deleted]', author_flair_background_color='', author_flair_css_class=None, author_flair_text=None, author_flair_text_color='dark', banned_by='moderators', can_mod_post=False, contest_mode=False, created_utc=1557675694, domain='self.Economics', full_link='https://www.reddit.com/r/Economics/comments/bnqaod/would_an_electric_bill_be_defined_as_a_fixed_or/', gildings={}, id='bnqaod', is_crosspostable=False, is_meta=False, is_original_content=False, is_reddit_media_domain=False, is_robot_indexable=False, is_self=True, is_video=False, link_flair_background_color='', link_flair_richtext=[], link_flair_text_color='dark', link_flair_type='text', locked=False, media_only=False, no_follow=True, num_comments=2, num_crossposts=0, over_18=False, parent_whitelist_status='all_ads', permalink='/r/Economics/comments/bnqaod/would_an_electric_bill_be_defined_as_a_fixed_or/', pinned=False, pwls=6, retrieved_on=1557675741, score=1, send_replies=True, spoiler=False, stickied=False, subreddit='Economics', subreddit_id='t5_2qh1s', subreddit_subscribers=620796, subreddit_type='public', thumbnail='default', title='Would an electric bill be defined as a fixed or variable cost?', total_awards_received=0, updated_utc=1557762071, url='https://www.reddit.com/r/Economics/comments/bnqaod/would_an_electric_bill_be_defined_as_a_fixed_or/', whitelist_status='all_ads', wls=6, created=1557675694.0, d_={'all_awardings': [], 'author': '[deleted]', 'author_flair_background_color': '', 'author_flair_css_class': None, 'author_flair_text': None, 'author_flair_text_color': 'dark', 'banned_by': 'moderators', 'can_mod_post': False, 'contest_mode': False, 'created_utc': 1557675694, 'domain': 'self.Economics', 'full_link': 'https://www.reddit.com/r/Economics/comments/bnqaod/would_an_electric_bill_be_defined_as_a_fixed_or/', 'gildings': {}, 'id': 'bnqaod', 'is_crosspostable': False, 'is_meta': False, 'is_original_content': False, 'is_reddit_media_domain': False, 'is_robot_indexable': False, 'is_self': True, 'is_video': False, 'link_flair_background_color': '', 'link_flair_richtext': [], 'link_flair_text_color': 'dark', 'link_flair_type': 'text', 'locked': False, 'media_only': False, 'no_follow': True, 'num_comments': 2, 'num_crossposts': 0, 'over_18': False, 'parent_whitelist_status': 'all_ads', 'permalink': '/r/Economics/comments/bnqaod/would_an_electric_bill_be_defined_as_a_fixed_or/', 'pinned': False, 'pwls': 6, 'retrieved_on': 1557675741, 'score': 1, 'send_replies': True, 'spoiler': False, 'stickied': False, 'subreddit': 'Economics', 'subreddit_id': 't5_2qh1s', 'subreddit_subscribers': 620796, 'subreddit_type': 'public', 'thumbnail': 'default', 'title': 'Would an electric bill be defined as a fixed or variable cost?', 'total_awards_received': 0, 'updated_utc': 1557762071, 'url': 'https://www.reddit.com/r/Economics/comments/bnqaod/would_an_electric_bill_be_defined_as_a_fixed_or/', 'whitelist_status': 'all_ads', 'wls': 6, 'created': 1557675694.0})\n",
            "'submission' object has no attribute 'selftext'\n",
            "submission(author='[deleted]', author_flair_background_color='', author_flair_css_class=None, author_flair_text=None, author_flair_text_color='dark', banned_by='moderators', can_mod_post=False, contest_mode=False, created_utc=1547131250, domain='self.finance', full_link='https://www.reddit.com/r/finance/comments/aejp60/career_paths_within_the_field_of_finance/', gildings={'gid_1': 0, 'gid_2': 0, 'gid_3': 0}, id='aejp60', is_crosspostable=False, is_meta=False, is_original_content=False, is_reddit_media_domain=False, is_robot_indexable=False, is_self=True, is_video=False, link_flair_background_color='', link_flair_richtext=[], link_flair_text_color='dark', link_flair_type='text', locked=False, media_only=False, no_follow=True, num_comments=2, num_crossposts=0, over_18=False, parent_whitelist_status='all_ads', permalink='/r/finance/comments/aejp60/career_paths_within_the_field_of_finance/', pinned=False, pwls=6, retrieved_on=1547131811, score=1, send_replies=True, spoiler=False, stickied=False, subreddit='finance', subreddit_id='t5_2qhfj', subreddit_subscribers=210325, subreddit_type='public', thumbnail='default', title='Career paths within the field of finance', url='https://www.reddit.com/r/finance/comments/aejp60/career_paths_within_the_field_of_finance/', whitelist_status='all_ads', wls=6, created=1547131250.0, d_={'author': '[deleted]', 'author_flair_background_color': '', 'author_flair_css_class': None, 'author_flair_text': None, 'author_flair_text_color': 'dark', 'banned_by': 'moderators', 'can_mod_post': False, 'contest_mode': False, 'created_utc': 1547131250, 'domain': 'self.finance', 'full_link': 'https://www.reddit.com/r/finance/comments/aejp60/career_paths_within_the_field_of_finance/', 'gildings': {'gid_1': 0, 'gid_2': 0, 'gid_3': 0}, 'id': 'aejp60', 'is_crosspostable': False, 'is_meta': False, 'is_original_content': False, 'is_reddit_media_domain': False, 'is_robot_indexable': False, 'is_self': True, 'is_video': False, 'link_flair_background_color': '', 'link_flair_richtext': [], 'link_flair_text_color': 'dark', 'link_flair_type': 'text', 'locked': False, 'media_only': False, 'no_follow': True, 'num_comments': 2, 'num_crossposts': 0, 'over_18': False, 'parent_whitelist_status': 'all_ads', 'permalink': '/r/finance/comments/aejp60/career_paths_within_the_field_of_finance/', 'pinned': False, 'pwls': 6, 'retrieved_on': 1547131811, 'score': 1, 'send_replies': True, 'spoiler': False, 'stickied': False, 'subreddit': 'finance', 'subreddit_id': 't5_2qhfj', 'subreddit_subscribers': 210325, 'subreddit_type': 'public', 'thumbnail': 'default', 'title': 'Career paths within the field of finance', 'url': 'https://www.reddit.com/r/finance/comments/aejp60/career_paths_within_the_field_of_finance/', 'whitelist_status': 'all_ads', 'wls': 6, 'created': 1547131250.0})\n"
          ]
        }
      ]
    },
    {
      "cell_type": "code",
      "source": [
        "\n",
        "finances_submissions = pd.DataFrame(submissions)\n",
        "finances_submissions.head()"
      ],
      "metadata": {
        "id": "LElEVRsRKvOT",
        "colab": {
          "base_uri": "https://localhost:8080/",
          "height": 206
        },
        "outputId": "f42cd6a5-c64a-470b-d115-46c833afeb64"
      },
      "execution_count": null,
      "outputs": [
        {
          "output_type": "execute_result",
          "data": {
            "text/plain": [
              "       id                                              title  score  \\\n",
              "0  y1bzjo  A New Silicon Valley Emerges at the Arctic Circle      1   \n",
              "1  xy7uim  US to boost gas exports to Germany under deal ...      1   \n",
              "2  xx3ryr  ‘Uninvestable’ UK Market Lost £300 Billion in ...      1   \n",
              "3  xw9y55  German exports beat expectations despite cooli...      1   \n",
              "4  xviszy  French start-ups to become ‘European champions...      1   \n",
              "\n",
              "                                        external_url    author  submitted_time  \n",
              "0  https://www.bloomberg.com/news/articles/2022-1...  Soupjoe5      1665502151  \n",
              "1  https://www.ft.com/content/064437a4-2c60-4962-...  Soupjoe5      1665170730  \n",
              "2  https://www.bloomberg.com/news/articles/2022-1...  Soupjoe5      1665058536  \n",
              "3  https://www.reuters.com/markets/europe/german-...  Soupjoe5      1664974592  \n",
              "4  https://www.euractiv.com/section/digital/news/...  Soupjoe5      1664899124  "
            ],
            "text/html": [
              "\n",
              "  <div id=\"df-56c8ebd8-e508-42e5-a4fc-33cd869c4d35\">\n",
              "    <div class=\"colab-df-container\">\n",
              "      <div>\n",
              "<style scoped>\n",
              "    .dataframe tbody tr th:only-of-type {\n",
              "        vertical-align: middle;\n",
              "    }\n",
              "\n",
              "    .dataframe tbody tr th {\n",
              "        vertical-align: top;\n",
              "    }\n",
              "\n",
              "    .dataframe thead th {\n",
              "        text-align: right;\n",
              "    }\n",
              "</style>\n",
              "<table border=\"1\" class=\"dataframe\">\n",
              "  <thead>\n",
              "    <tr style=\"text-align: right;\">\n",
              "      <th></th>\n",
              "      <th>id</th>\n",
              "      <th>title</th>\n",
              "      <th>score</th>\n",
              "      <th>external_url</th>\n",
              "      <th>author</th>\n",
              "      <th>submitted_time</th>\n",
              "    </tr>\n",
              "  </thead>\n",
              "  <tbody>\n",
              "    <tr>\n",
              "      <th>0</th>\n",
              "      <td>y1bzjo</td>\n",
              "      <td>A New Silicon Valley Emerges at the Arctic Circle</td>\n",
              "      <td>1</td>\n",
              "      <td>https://www.bloomberg.com/news/articles/2022-1...</td>\n",
              "      <td>Soupjoe5</td>\n",
              "      <td>1665502151</td>\n",
              "    </tr>\n",
              "    <tr>\n",
              "      <th>1</th>\n",
              "      <td>xy7uim</td>\n",
              "      <td>US to boost gas exports to Germany under deal ...</td>\n",
              "      <td>1</td>\n",
              "      <td>https://www.ft.com/content/064437a4-2c60-4962-...</td>\n",
              "      <td>Soupjoe5</td>\n",
              "      <td>1665170730</td>\n",
              "    </tr>\n",
              "    <tr>\n",
              "      <th>2</th>\n",
              "      <td>xx3ryr</td>\n",
              "      <td>‘Uninvestable’ UK Market Lost £300 Billion in ...</td>\n",
              "      <td>1</td>\n",
              "      <td>https://www.bloomberg.com/news/articles/2022-1...</td>\n",
              "      <td>Soupjoe5</td>\n",
              "      <td>1665058536</td>\n",
              "    </tr>\n",
              "    <tr>\n",
              "      <th>3</th>\n",
              "      <td>xw9y55</td>\n",
              "      <td>German exports beat expectations despite cooli...</td>\n",
              "      <td>1</td>\n",
              "      <td>https://www.reuters.com/markets/europe/german-...</td>\n",
              "      <td>Soupjoe5</td>\n",
              "      <td>1664974592</td>\n",
              "    </tr>\n",
              "    <tr>\n",
              "      <th>4</th>\n",
              "      <td>xviszy</td>\n",
              "      <td>French start-ups to become ‘European champions...</td>\n",
              "      <td>1</td>\n",
              "      <td>https://www.euractiv.com/section/digital/news/...</td>\n",
              "      <td>Soupjoe5</td>\n",
              "      <td>1664899124</td>\n",
              "    </tr>\n",
              "  </tbody>\n",
              "</table>\n",
              "</div>\n",
              "      <button class=\"colab-df-convert\" onclick=\"convertToInteractive('df-56c8ebd8-e508-42e5-a4fc-33cd869c4d35')\"\n",
              "              title=\"Convert this dataframe to an interactive table.\"\n",
              "              style=\"display:none;\">\n",
              "        \n",
              "  <svg xmlns=\"http://www.w3.org/2000/svg\" height=\"24px\"viewBox=\"0 0 24 24\"\n",
              "       width=\"24px\">\n",
              "    <path d=\"M0 0h24v24H0V0z\" fill=\"none\"/>\n",
              "    <path d=\"M18.56 5.44l.94 2.06.94-2.06 2.06-.94-2.06-.94-.94-2.06-.94 2.06-2.06.94zm-11 1L8.5 8.5l.94-2.06 2.06-.94-2.06-.94L8.5 2.5l-.94 2.06-2.06.94zm10 10l.94 2.06.94-2.06 2.06-.94-2.06-.94-.94-2.06-.94 2.06-2.06.94z\"/><path d=\"M17.41 7.96l-1.37-1.37c-.4-.4-.92-.59-1.43-.59-.52 0-1.04.2-1.43.59L10.3 9.45l-7.72 7.72c-.78.78-.78 2.05 0 2.83L4 21.41c.39.39.9.59 1.41.59.51 0 1.02-.2 1.41-.59l7.78-7.78 2.81-2.81c.8-.78.8-2.07 0-2.86zM5.41 20L4 18.59l7.72-7.72 1.47 1.35L5.41 20z\"/>\n",
              "  </svg>\n",
              "      </button>\n",
              "      \n",
              "  <style>\n",
              "    .colab-df-container {\n",
              "      display:flex;\n",
              "      flex-wrap:wrap;\n",
              "      gap: 12px;\n",
              "    }\n",
              "\n",
              "    .colab-df-convert {\n",
              "      background-color: #E8F0FE;\n",
              "      border: none;\n",
              "      border-radius: 50%;\n",
              "      cursor: pointer;\n",
              "      display: none;\n",
              "      fill: #1967D2;\n",
              "      height: 32px;\n",
              "      padding: 0 0 0 0;\n",
              "      width: 32px;\n",
              "    }\n",
              "\n",
              "    .colab-df-convert:hover {\n",
              "      background-color: #E2EBFA;\n",
              "      box-shadow: 0px 1px 2px rgba(60, 64, 67, 0.3), 0px 1px 3px 1px rgba(60, 64, 67, 0.15);\n",
              "      fill: #174EA6;\n",
              "    }\n",
              "\n",
              "    [theme=dark] .colab-df-convert {\n",
              "      background-color: #3B4455;\n",
              "      fill: #D2E3FC;\n",
              "    }\n",
              "\n",
              "    [theme=dark] .colab-df-convert:hover {\n",
              "      background-color: #434B5C;\n",
              "      box-shadow: 0px 1px 3px 1px rgba(0, 0, 0, 0.15);\n",
              "      filter: drop-shadow(0px 1px 2px rgba(0, 0, 0, 0.3));\n",
              "      fill: #FFFFFF;\n",
              "    }\n",
              "  </style>\n",
              "\n",
              "      <script>\n",
              "        const buttonEl =\n",
              "          document.querySelector('#df-56c8ebd8-e508-42e5-a4fc-33cd869c4d35 button.colab-df-convert');\n",
              "        buttonEl.style.display =\n",
              "          google.colab.kernel.accessAllowed ? 'block' : 'none';\n",
              "\n",
              "        async function convertToInteractive(key) {\n",
              "          const element = document.querySelector('#df-56c8ebd8-e508-42e5-a4fc-33cd869c4d35');\n",
              "          const dataTable =\n",
              "            await google.colab.kernel.invokeFunction('convertToInteractive',\n",
              "                                                     [key], {});\n",
              "          if (!dataTable) return;\n",
              "\n",
              "          const docLinkHtml = 'Like what you see? Visit the ' +\n",
              "            '<a target=\"_blank\" href=https://colab.research.google.com/notebooks/data_table.ipynb>data table notebook</a>'\n",
              "            + ' to learn more about interactive tables.';\n",
              "          element.innerHTML = '';\n",
              "          dataTable['output_type'] = 'display_data';\n",
              "          await google.colab.output.renderOutput(dataTable, element);\n",
              "          const docLink = document.createElement('div');\n",
              "          docLink.innerHTML = docLinkHtml;\n",
              "          element.appendChild(docLink);\n",
              "        }\n",
              "      </script>\n",
              "    </div>\n",
              "  </div>\n",
              "  "
            ]
          },
          "metadata": {},
          "execution_count": 53
        }
      ]
    },
    {
      "cell_type": "code",
      "source": [
        "finances_submissions.info()"
      ],
      "metadata": {
        "id": "2u436vR0LIrv",
        "colab": {
          "base_uri": "https://localhost:8080/"
        },
        "outputId": "c6bb412c-e33a-4d6e-bdf7-a712dc5f9b35"
      },
      "execution_count": null,
      "outputs": [
        {
          "output_type": "stream",
          "name": "stdout",
          "text": [
            "<class 'pandas.core.frame.DataFrame'>\n",
            "RangeIndex: 28599 entries, 0 to 28598\n",
            "Data columns (total 6 columns):\n",
            " #   Column          Non-Null Count  Dtype \n",
            "---  ------          --------------  ----- \n",
            " 0   id              28599 non-null  object\n",
            " 1   title           28599 non-null  object\n",
            " 2   score           28599 non-null  int64 \n",
            " 3   external_url    28599 non-null  object\n",
            " 4   author          28599 non-null  object\n",
            " 5   submitted_time  28599 non-null  int64 \n",
            "dtypes: int64(2), object(4)\n",
            "memory usage: 1.3+ MB\n"
          ]
        }
      ]
    },
    {
      "cell_type": "code",
      "source": [
        "name = '_'.join(subreddits)\n",
        "finances_submissions.to_csv(f'finances_submissions{name}.csv', index=False)  "
      ],
      "metadata": {
        "id": "z720mRRMMV98"
      },
      "execution_count": null,
      "outputs": []
    },
    {
      "cell_type": "markdown",
      "source": [
        "# Data preprocessing"
      ],
      "metadata": {
        "id": "NbvazbMVLit5"
      }
    },
    {
      "cell_type": "code",
      "source": [
        "finances_submissions.iloc[0]"
      ],
      "metadata": {
        "id": "l8_t1q2qLlxf",
        "colab": {
          "base_uri": "https://localhost:8080/"
        },
        "outputId": "0c1aa0d3-c001-4bb0-cc0d-d1c60bd5b824"
      },
      "execution_count": null,
      "outputs": [
        {
          "output_type": "execute_result",
          "data": {
            "text/plain": [
              "id                                                           qksikv\n",
              "title             EV startup Rivian could be worth nearly as muc...\n",
              "score                                                             2\n",
              "external_url      https://finance.yahoo.com/news/ev-startup-rivi...\n",
              "author                                                    Albythere\n",
              "submitted_time                                           1635814605\n",
              "Name: 0, dtype: object"
            ]
          },
          "metadata": {},
          "execution_count": 10
        }
      ]
    },
    {
      "cell_type": "code",
      "source": [
        "# remove duplicated url \n",
        "no_dup_df = finances_submissions.drop_duplicates(subset=['external_url'], keep=False)\n",
        "no_dup_df.head()"
      ],
      "metadata": {
        "id": "bOF-y1zlVOt_",
        "colab": {
          "base_uri": "https://localhost:8080/",
          "height": 206
        },
        "outputId": "ca3e881c-de43-4006-a6a7-6bfb1b3f0ab3"
      },
      "execution_count": null,
      "outputs": [
        {
          "output_type": "execute_result",
          "data": {
            "text/plain": [
              "       id                                              title  score  \\\n",
              "0  y1bzjo  A New Silicon Valley Emerges at the Arctic Circle      1   \n",
              "1  xy7uim  US to boost gas exports to Germany under deal ...      1   \n",
              "2  xx3ryr  ‘Uninvestable’ UK Market Lost £300 Billion in ...      1   \n",
              "3  xw9y55  German exports beat expectations despite cooli...      1   \n",
              "4  xviszy  French start-ups to become ‘European champions...      1   \n",
              "\n",
              "                                        external_url    author  submitted_time  \n",
              "0  https://www.bloomberg.com/news/articles/2022-1...  Soupjoe5      1665502151  \n",
              "1  https://www.ft.com/content/064437a4-2c60-4962-...  Soupjoe5      1665170730  \n",
              "2  https://www.bloomberg.com/news/articles/2022-1...  Soupjoe5      1665058536  \n",
              "3  https://www.reuters.com/markets/europe/german-...  Soupjoe5      1664974592  \n",
              "4  https://www.euractiv.com/section/digital/news/...  Soupjoe5      1664899124  "
            ],
            "text/html": [
              "\n",
              "  <div id=\"df-68ed03be-9a90-47b4-8a55-2abc46e8c12d\">\n",
              "    <div class=\"colab-df-container\">\n",
              "      <div>\n",
              "<style scoped>\n",
              "    .dataframe tbody tr th:only-of-type {\n",
              "        vertical-align: middle;\n",
              "    }\n",
              "\n",
              "    .dataframe tbody tr th {\n",
              "        vertical-align: top;\n",
              "    }\n",
              "\n",
              "    .dataframe thead th {\n",
              "        text-align: right;\n",
              "    }\n",
              "</style>\n",
              "<table border=\"1\" class=\"dataframe\">\n",
              "  <thead>\n",
              "    <tr style=\"text-align: right;\">\n",
              "      <th></th>\n",
              "      <th>id</th>\n",
              "      <th>title</th>\n",
              "      <th>score</th>\n",
              "      <th>external_url</th>\n",
              "      <th>author</th>\n",
              "      <th>submitted_time</th>\n",
              "    </tr>\n",
              "  </thead>\n",
              "  <tbody>\n",
              "    <tr>\n",
              "      <th>0</th>\n",
              "      <td>y1bzjo</td>\n",
              "      <td>A New Silicon Valley Emerges at the Arctic Circle</td>\n",
              "      <td>1</td>\n",
              "      <td>https://www.bloomberg.com/news/articles/2022-1...</td>\n",
              "      <td>Soupjoe5</td>\n",
              "      <td>1665502151</td>\n",
              "    </tr>\n",
              "    <tr>\n",
              "      <th>1</th>\n",
              "      <td>xy7uim</td>\n",
              "      <td>US to boost gas exports to Germany under deal ...</td>\n",
              "      <td>1</td>\n",
              "      <td>https://www.ft.com/content/064437a4-2c60-4962-...</td>\n",
              "      <td>Soupjoe5</td>\n",
              "      <td>1665170730</td>\n",
              "    </tr>\n",
              "    <tr>\n",
              "      <th>2</th>\n",
              "      <td>xx3ryr</td>\n",
              "      <td>‘Uninvestable’ UK Market Lost £300 Billion in ...</td>\n",
              "      <td>1</td>\n",
              "      <td>https://www.bloomberg.com/news/articles/2022-1...</td>\n",
              "      <td>Soupjoe5</td>\n",
              "      <td>1665058536</td>\n",
              "    </tr>\n",
              "    <tr>\n",
              "      <th>3</th>\n",
              "      <td>xw9y55</td>\n",
              "      <td>German exports beat expectations despite cooli...</td>\n",
              "      <td>1</td>\n",
              "      <td>https://www.reuters.com/markets/europe/german-...</td>\n",
              "      <td>Soupjoe5</td>\n",
              "      <td>1664974592</td>\n",
              "    </tr>\n",
              "    <tr>\n",
              "      <th>4</th>\n",
              "      <td>xviszy</td>\n",
              "      <td>French start-ups to become ‘European champions...</td>\n",
              "      <td>1</td>\n",
              "      <td>https://www.euractiv.com/section/digital/news/...</td>\n",
              "      <td>Soupjoe5</td>\n",
              "      <td>1664899124</td>\n",
              "    </tr>\n",
              "  </tbody>\n",
              "</table>\n",
              "</div>\n",
              "      <button class=\"colab-df-convert\" onclick=\"convertToInteractive('df-68ed03be-9a90-47b4-8a55-2abc46e8c12d')\"\n",
              "              title=\"Convert this dataframe to an interactive table.\"\n",
              "              style=\"display:none;\">\n",
              "        \n",
              "  <svg xmlns=\"http://www.w3.org/2000/svg\" height=\"24px\"viewBox=\"0 0 24 24\"\n",
              "       width=\"24px\">\n",
              "    <path d=\"M0 0h24v24H0V0z\" fill=\"none\"/>\n",
              "    <path d=\"M18.56 5.44l.94 2.06.94-2.06 2.06-.94-2.06-.94-.94-2.06-.94 2.06-2.06.94zm-11 1L8.5 8.5l.94-2.06 2.06-.94-2.06-.94L8.5 2.5l-.94 2.06-2.06.94zm10 10l.94 2.06.94-2.06 2.06-.94-2.06-.94-.94-2.06-.94 2.06-2.06.94z\"/><path d=\"M17.41 7.96l-1.37-1.37c-.4-.4-.92-.59-1.43-.59-.52 0-1.04.2-1.43.59L10.3 9.45l-7.72 7.72c-.78.78-.78 2.05 0 2.83L4 21.41c.39.39.9.59 1.41.59.51 0 1.02-.2 1.41-.59l7.78-7.78 2.81-2.81c.8-.78.8-2.07 0-2.86zM5.41 20L4 18.59l7.72-7.72 1.47 1.35L5.41 20z\"/>\n",
              "  </svg>\n",
              "      </button>\n",
              "      \n",
              "  <style>\n",
              "    .colab-df-container {\n",
              "      display:flex;\n",
              "      flex-wrap:wrap;\n",
              "      gap: 12px;\n",
              "    }\n",
              "\n",
              "    .colab-df-convert {\n",
              "      background-color: #E8F0FE;\n",
              "      border: none;\n",
              "      border-radius: 50%;\n",
              "      cursor: pointer;\n",
              "      display: none;\n",
              "      fill: #1967D2;\n",
              "      height: 32px;\n",
              "      padding: 0 0 0 0;\n",
              "      width: 32px;\n",
              "    }\n",
              "\n",
              "    .colab-df-convert:hover {\n",
              "      background-color: #E2EBFA;\n",
              "      box-shadow: 0px 1px 2px rgba(60, 64, 67, 0.3), 0px 1px 3px 1px rgba(60, 64, 67, 0.15);\n",
              "      fill: #174EA6;\n",
              "    }\n",
              "\n",
              "    [theme=dark] .colab-df-convert {\n",
              "      background-color: #3B4455;\n",
              "      fill: #D2E3FC;\n",
              "    }\n",
              "\n",
              "    [theme=dark] .colab-df-convert:hover {\n",
              "      background-color: #434B5C;\n",
              "      box-shadow: 0px 1px 3px 1px rgba(0, 0, 0, 0.15);\n",
              "      filter: drop-shadow(0px 1px 2px rgba(0, 0, 0, 0.3));\n",
              "      fill: #FFFFFF;\n",
              "    }\n",
              "  </style>\n",
              "\n",
              "      <script>\n",
              "        const buttonEl =\n",
              "          document.querySelector('#df-68ed03be-9a90-47b4-8a55-2abc46e8c12d button.colab-df-convert');\n",
              "        buttonEl.style.display =\n",
              "          google.colab.kernel.accessAllowed ? 'block' : 'none';\n",
              "\n",
              "        async function convertToInteractive(key) {\n",
              "          const element = document.querySelector('#df-68ed03be-9a90-47b4-8a55-2abc46e8c12d');\n",
              "          const dataTable =\n",
              "            await google.colab.kernel.invokeFunction('convertToInteractive',\n",
              "                                                     [key], {});\n",
              "          if (!dataTable) return;\n",
              "\n",
              "          const docLinkHtml = 'Like what you see? Visit the ' +\n",
              "            '<a target=\"_blank\" href=https://colab.research.google.com/notebooks/data_table.ipynb>data table notebook</a>'\n",
              "            + ' to learn more about interactive tables.';\n",
              "          element.innerHTML = '';\n",
              "          dataTable['output_type'] = 'display_data';\n",
              "          await google.colab.output.renderOutput(dataTable, element);\n",
              "          const docLink = document.createElement('div');\n",
              "          docLink.innerHTML = docLinkHtml;\n",
              "          element.appendChild(docLink);\n",
              "        }\n",
              "      </script>\n",
              "    </div>\n",
              "  </div>\n",
              "  "
            ]
          },
          "metadata": {},
          "execution_count": 58
        }
      ]
    },
    {
      "cell_type": "code",
      "source": [
        "no_dup_df.info()"
      ],
      "metadata": {
        "colab": {
          "base_uri": "https://localhost:8080/"
        },
        "id": "mtAge0O--IqU",
        "outputId": "bdf06123-6814-443b-de3b-bf52e72b282b"
      },
      "execution_count": null,
      "outputs": [
        {
          "output_type": "stream",
          "name": "stdout",
          "text": [
            "<class 'pandas.core.frame.DataFrame'>\n",
            "Int64Index: 26926 entries, 0 to 28598\n",
            "Data columns (total 6 columns):\n",
            " #   Column          Non-Null Count  Dtype \n",
            "---  ------          --------------  ----- \n",
            " 0   id              26926 non-null  object\n",
            " 1   title           26926 non-null  object\n",
            " 2   score           26926 non-null  int64 \n",
            " 3   external_url    26926 non-null  object\n",
            " 4   author          26926 non-null  object\n",
            " 5   submitted_time  26926 non-null  int64 \n",
            "dtypes: int64(2), object(4)\n",
            "memory usage: 1.4+ MB\n"
          ]
        }
      ]
    },
    {
      "cell_type": "code",
      "source": [
        "no_dup_df[no_dup_df['score']>1].info()"
      ],
      "metadata": {
        "colab": {
          "base_uri": "https://localhost:8080/"
        },
        "id": "Kx3muut1-SzV",
        "outputId": "710cebb2-2f4d-40df-f521-220a131f799a"
      },
      "execution_count": null,
      "outputs": [
        {
          "output_type": "stream",
          "name": "stdout",
          "text": [
            "<class 'pandas.core.frame.DataFrame'>\n",
            "Int64Index: 7068 entries, 41 to 28115\n",
            "Data columns (total 6 columns):\n",
            " #   Column          Non-Null Count  Dtype \n",
            "---  ------          --------------  ----- \n",
            " 0   id              7068 non-null   object\n",
            " 1   title           7068 non-null   object\n",
            " 2   score           7068 non-null   int64 \n",
            " 3   external_url    7068 non-null   object\n",
            " 4   author          7068 non-null   object\n",
            " 5   submitted_time  7068 non-null   int64 \n",
            "dtypes: int64(2), object(4)\n",
            "memory usage: 386.5+ KB\n"
          ]
        }
      ]
    },
    {
      "cell_type": "code",
      "source": [],
      "metadata": {
        "id": "nR3-KVFk-ZhX"
      },
      "execution_count": null,
      "outputs": []
    }
  ]
}