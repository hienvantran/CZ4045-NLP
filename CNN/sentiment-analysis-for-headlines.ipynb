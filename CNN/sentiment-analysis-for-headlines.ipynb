{
 "cells": [
  {
   "cell_type": "code",
   "execution_count": 1,
   "id": "2c045ce7",
   "metadata": {
    "execution": {
     "iopub.execute_input": "2022-10-30T06:56:11.062842Z",
     "iopub.status.busy": "2022-10-30T06:56:11.061545Z",
     "iopub.status.idle": "2022-10-30T06:56:24.962162Z",
     "shell.execute_reply": "2022-10-30T06:56:24.961341Z",
     "shell.execute_reply.started": "2022-10-22T07:48:28.770315Z"
    },
    "papermill": {
     "duration": 13.930046,
     "end_time": "2022-10-30T06:56:24.962376",
     "exception": false,
     "start_time": "2022-10-30T06:56:11.032330",
     "status": "completed"
    },
    "tags": []
   },
   "outputs": [
    {
     "name": "stdout",
     "output_type": "stream",
     "text": [
      "Collecting pydotplus\r\n",
      "  Downloading pydotplus-2.0.2.tar.gz (278 kB)\r\n",
      "     |████████████████████████████████| 278 kB 910 kB/s            \r\n",
      "\u001b[?25h  Preparing metadata (setup.py) ... \u001b[?25l-\b \bdone\r\n",
      "\u001b[?25hRequirement already satisfied: pyparsing>=2.0.1 in /opt/conda/lib/python3.7/site-packages (from pydotplus) (3.0.6)\r\n",
      "Building wheels for collected packages: pydotplus\r\n",
      "  Building wheel for pydotplus (setup.py) ... \u001b[?25l-\b \b\\\b \bdone\r\n",
      "\u001b[?25h  Created wheel for pydotplus: filename=pydotplus-2.0.2-py3-none-any.whl size=24575 sha256=98ed81471856d6acd900527c558593ce9c545dcdf69235a9d8e4e65e07a7953c\r\n",
      "  Stored in directory: /root/.cache/pip/wheels/1e/7b/04/7387cf6cc9e48b4a96e361b0be812f0708b394b821bf8c9c50\r\n",
      "Successfully built pydotplus\r\n",
      "Installing collected packages: pydotplus\r\n",
      "Successfully installed pydotplus-2.0.2\r\n",
      "\u001b[33mWARNING: Running pip as the 'root' user can result in broken permissions and conflicting behaviour with the system package manager. It is recommended to use a virtual environment instead: https://pip.pypa.io/warnings/venv\u001b[0m\r\n",
      "Note: you may need to restart the kernel to use updated packages.\n"
     ]
    }
   ],
   "source": [
    "pip install pydotplus"
   ]
  },
  {
   "cell_type": "code",
   "execution_count": 2,
   "id": "1e90939c",
   "metadata": {
    "_cell_guid": "b1076dfc-b9ad-4769-8c92-a6c4dae69d19",
    "_uuid": "8f2839f25d086af736a60e9eeb907d3b93b6e0e5",
    "execution": {
     "iopub.execute_input": "2022-10-30T06:56:25.024673Z",
     "iopub.status.busy": "2022-10-30T06:56:25.023983Z",
     "iopub.status.idle": "2022-10-30T06:56:33.255542Z",
     "shell.execute_reply": "2022-10-30T06:56:33.254658Z",
     "shell.execute_reply.started": "2022-10-22T07:48:40.311188Z"
    },
    "papermill": {
     "duration": 8.262916,
     "end_time": "2022-10-30T06:56:33.255712",
     "exception": false,
     "start_time": "2022-10-30T06:56:24.992796",
     "status": "completed"
    },
    "tags": []
   },
   "outputs": [],
   "source": [
    "#Others required libraries \n",
    "import re\n",
    "import emoji\n",
    "import numpy as np\n",
    "import pandas as pd\n",
    "import seaborn as sns\n",
    "import pydotplus as pyd\n",
    "import matplotlib.pyplot as plt\n",
    "from prettytable import PrettyTable\n",
    "\n",
    "#Sklearn \n",
    "from sklearn.metrics import confusion_matrix\n",
    "from sklearn.model_selection import train_test_split\n",
    "\n",
    "#tensorflow\n",
    "import keras\n",
    "import tensorflow as tf\n",
    "from keras import backend as K\n",
    "from tensorflow.keras import optimizers\n",
    "from keras.models import Model, load_model\n",
    "from keras.preprocessing.text import Tokenizer\n",
    "from keras.preprocessing.sequence import pad_sequences\n",
    "from tensorflow.keras.utils import to_categorical,plot_model\n",
    "from keras.layers import Dense, Input, Flatten, Embedding, Conv1D, MaxPooling1D, concatenate\n",
    "from keras.callbacks import ModelCheckpoint, TensorBoard, EarlyStopping, ReduceLROnPlateau\n",
    "\n",
    "\n",
    "#Gensim for word2vec\n",
    "import gensim\n",
    "from gensim.models import Word2Vec\n",
    "from gensim.models import KeyedVectors"
   ]
  },
  {
   "cell_type": "code",
   "execution_count": 3,
   "id": "fb2d7ced",
   "metadata": {
    "execution": {
     "iopub.execute_input": "2022-10-30T06:56:33.317692Z",
     "iopub.status.busy": "2022-10-30T06:56:33.316938Z",
     "iopub.status.idle": "2022-10-30T06:56:33.366418Z",
     "shell.execute_reply": "2022-10-30T06:56:33.365806Z",
     "shell.execute_reply.started": "2022-10-22T07:49:04.277523Z"
    },
    "papermill": {
     "duration": 0.082913,
     "end_time": "2022-10-30T06:56:33.366571",
     "exception": false,
     "start_time": "2022-10-30T06:56:33.283658",
     "status": "completed"
    },
    "tags": []
   },
   "outputs": [],
   "source": [
    "headline_df = pd.read_csv('../input/sentiment-analysis-for-financial-news/all-data.csv', sep=',', encoding='latin-1',names = [\"category\",\"comment\"])"
   ]
  },
  {
   "cell_type": "code",
   "execution_count": 4,
   "id": "43d4963c",
   "metadata": {
    "execution": {
     "iopub.execute_input": "2022-10-30T06:56:33.435125Z",
     "iopub.status.busy": "2022-10-30T06:56:33.426053Z",
     "iopub.status.idle": "2022-10-30T06:56:33.447967Z",
     "shell.execute_reply": "2022-10-30T06:56:33.448508Z",
     "shell.execute_reply.started": "2022-10-22T07:49:16.712132Z"
    },
    "papermill": {
     "duration": 0.053332,
     "end_time": "2022-10-30T06:56:33.448705",
     "exception": false,
     "start_time": "2022-10-30T06:56:33.395373",
     "status": "completed"
    },
    "tags": []
   },
   "outputs": [
    {
     "data": {
      "text/html": [
       "<div>\n",
       "<style scoped>\n",
       "    .dataframe tbody tr th:only-of-type {\n",
       "        vertical-align: middle;\n",
       "    }\n",
       "\n",
       "    .dataframe tbody tr th {\n",
       "        vertical-align: top;\n",
       "    }\n",
       "\n",
       "    .dataframe thead th {\n",
       "        text-align: right;\n",
       "    }\n",
       "</style>\n",
       "<table border=\"1\" class=\"dataframe\">\n",
       "  <thead>\n",
       "    <tr style=\"text-align: right;\">\n",
       "      <th></th>\n",
       "      <th>category</th>\n",
       "      <th>comment</th>\n",
       "    </tr>\n",
       "  </thead>\n",
       "  <tbody>\n",
       "    <tr>\n",
       "      <th>0</th>\n",
       "      <td>neutral</td>\n",
       "      <td>According to Gran , the company has no plans t...</td>\n",
       "    </tr>\n",
       "    <tr>\n",
       "      <th>1</th>\n",
       "      <td>neutral</td>\n",
       "      <td>Technopolis plans to develop in stages an area...</td>\n",
       "    </tr>\n",
       "    <tr>\n",
       "      <th>2</th>\n",
       "      <td>negative</td>\n",
       "      <td>The international electronic industry company ...</td>\n",
       "    </tr>\n",
       "    <tr>\n",
       "      <th>3</th>\n",
       "      <td>positive</td>\n",
       "      <td>With the new production plant the company woul...</td>\n",
       "    </tr>\n",
       "    <tr>\n",
       "      <th>4</th>\n",
       "      <td>positive</td>\n",
       "      <td>According to the company 's updated strategy f...</td>\n",
       "    </tr>\n",
       "  </tbody>\n",
       "</table>\n",
       "</div>"
      ],
      "text/plain": [
       "   category                                            comment\n",
       "0   neutral  According to Gran , the company has no plans t...\n",
       "1   neutral  Technopolis plans to develop in stages an area...\n",
       "2  negative  The international electronic industry company ...\n",
       "3  positive  With the new production plant the company woul...\n",
       "4  positive  According to the company 's updated strategy f..."
      ]
     },
     "execution_count": 4,
     "metadata": {},
     "output_type": "execute_result"
    }
   ],
   "source": [
    "headline_df.head()"
   ]
  },
  {
   "cell_type": "code",
   "execution_count": 5,
   "id": "529b45e8",
   "metadata": {
    "execution": {
     "iopub.execute_input": "2022-10-30T06:56:33.510194Z",
     "iopub.status.busy": "2022-10-30T06:56:33.509482Z",
     "iopub.status.idle": "2022-10-30T06:56:34.056640Z",
     "shell.execute_reply": "2022-10-30T06:56:34.055912Z",
     "shell.execute_reply.started": "2022-10-22T07:49:28.216522Z"
    },
    "papermill": {
     "duration": 0.579848,
     "end_time": "2022-10-30T06:56:34.056807",
     "exception": false,
     "start_time": "2022-10-30T06:56:33.476959",
     "status": "completed"
    },
    "tags": []
   },
   "outputs": [
    {
     "data": {
      "image/png": "[encoded data removed]",
      "text/plain": [
       "<Figure size 432x288 with 1 Axes>"
      ]
     },
     "metadata": {
      "needs_background": "light"
     },
     "output_type": "display_data"
    }
   ],
   "source": [
    "sns.countplot(x = 'category', data = headline_df)\n",
    "plt.title('Balanced Dataset')\n",
    "plt.savefig('Balanced_Sarcasm_Label_To_Count.png' , dpi = 300 , transparent = 'true')\n",
    "plt.show()"
   ]
  },
  {
   "cell_type": "code",
   "execution_count": 6,
   "id": "0430ec35",
   "metadata": {
    "execution": {
     "iopub.execute_input": "2022-10-30T06:56:34.125983Z",
     "iopub.status.busy": "2022-10-30T06:56:34.124950Z",
     "iopub.status.idle": "2022-10-30T06:56:34.828522Z",
     "shell.execute_reply": "2022-10-30T06:56:34.829078Z",
     "shell.execute_reply.started": "2022-10-22T07:52:14.123654Z"
    },
    "papermill": {
     "duration": 0.743892,
     "end_time": "2022-10-30T06:56:34.829269",
     "exception": false,
     "start_time": "2022-10-30T06:56:34.085377",
     "status": "completed"
    },
    "tags": []
   },
   "outputs": [
    {
     "data": {
      "image/png": "[encoded data removed]",
      "text/plain": [
       "<Figure size 432x288 with 1 Axes>"
      ]
     },
     "metadata": {
      "needs_background": "light"
     },
     "output_type": "display_data"
    }
   ],
   "source": [
    "headline_df.loc[headline_df['category'] == 'negative', 'comment'].str.len().hist(label = 'negative', alpha=0.5)\n",
    "headline_df.loc[headline_df['category'] == 'neutral', 'comment'].str.len().hist(label = 'neutral', alpha=0.5)\n",
    "headline_df.loc[headline_df['category'] == 'positive', 'comment'].str.len().hist(label = 'positive', alpha=0.5)\n",
    "plt.title('Balanced Dataset')\n",
    "plt.ylabel('Count')\n",
    "plt.xlabel('Sentences Length')\n",
    "plt.legend()\n",
    "plt.savefig('Balanced_Sarcasm_Label_By_Sentences_Length.png' , dpi = 300 , transparent = 'true')"
   ]
  },
  {
   "cell_type": "code",
   "execution_count": 7,
   "id": "121f4b79",
   "metadata": {
    "execution": {
     "iopub.execute_input": "2022-10-30T06:56:34.897881Z",
     "iopub.status.busy": "2022-10-30T06:56:34.896709Z",
     "iopub.status.idle": "2022-10-30T06:56:34.898855Z",
     "shell.execute_reply": "2022-10-30T06:56:34.899378Z",
     "shell.execute_reply.started": "2022-10-22T07:53:08.168489Z"
    },
    "papermill": {
     "duration": 0.038444,
     "end_time": "2022-10-30T06:56:34.899559",
     "exception": false,
     "start_time": "2022-10-30T06:56:34.861115",
     "status": "completed"
    },
    "tags": []
   },
   "outputs": [],
   "source": [
    "headline_df['comment'] = headline_df['comment'].astype(str)"
   ]
  },
  {
   "cell_type": "code",
   "execution_count": 8,
   "id": "0eaf4b5c",
   "metadata": {
    "execution": {
     "iopub.execute_input": "2022-10-30T06:56:34.963341Z",
     "iopub.status.busy": "2022-10-30T06:56:34.962340Z",
     "iopub.status.idle": "2022-10-30T06:56:35.112953Z",
     "shell.execute_reply": "2022-10-30T06:56:35.114048Z",
     "shell.execute_reply.started": "2022-10-22T07:53:15.431389Z"
    },
    "papermill": {
     "duration": 0.185282,
     "end_time": "2022-10-30T06:56:35.114395",
     "exception": false,
     "start_time": "2022-10-30T06:56:34.929113",
     "status": "completed"
    },
    "tags": []
   },
   "outputs": [
    {
     "name": "stdout",
     "output_type": "stream",
     "text": [
      "10124\n"
     ]
    }
   ],
   "source": [
    "tokens = Tokenizer(oov_token = '<OOV>')\n",
    "tokens.fit_on_texts(headline_df['comment'].values)\n",
    "vocab_size = len(tokens.word_index) + 1\n",
    "print(vocab_size)"
   ]
  },
  {
   "cell_type": "code",
   "execution_count": 9,
   "id": "67be96aa",
   "metadata": {
    "execution": {
     "iopub.execute_input": "2022-10-30T06:56:35.180510Z",
     "iopub.status.busy": "2022-10-30T06:56:35.179459Z",
     "iopub.status.idle": "2022-10-30T06:56:35.285389Z",
     "shell.execute_reply": "2022-10-30T06:56:35.285931Z",
     "shell.execute_reply.started": "2022-10-22T07:53:29.953022Z"
    },
    "papermill": {
     "duration": 0.140839,
     "end_time": "2022-10-30T06:56:35.286144",
     "exception": false,
     "start_time": "2022-10-30T06:56:35.145305",
     "status": "completed"
    },
    "tags": []
   },
   "outputs": [],
   "source": [
    "encoded_train = tokens.texts_to_sequences(headline_df['comment'])"
   ]
  },
  {
   "cell_type": "code",
   "execution_count": 10,
   "id": "2730f202",
   "metadata": {
    "execution": {
     "iopub.execute_input": "2022-10-30T06:56:35.351455Z",
     "iopub.status.busy": "2022-10-30T06:56:35.350411Z",
     "iopub.status.idle": "2022-10-30T06:56:35.377656Z",
     "shell.execute_reply": "2022-10-30T06:56:35.377091Z",
     "shell.execute_reply.started": "2022-10-22T07:53:30.338256Z"
    },
    "papermill": {
     "duration": 0.061504,
     "end_time": "2022-10-30T06:56:35.377833",
     "exception": false,
     "start_time": "2022-10-30T06:56:35.316329",
     "status": "completed"
    },
    "tags": []
   },
   "outputs": [],
   "source": [
    "max_length   = 200\n",
    "padded_train = pad_sequences(encoded_train, maxlen=max_length, padding='post', truncating='post')"
   ]
  },
  {
   "cell_type": "code",
   "execution_count": 11,
   "id": "a9ce6c04",
   "metadata": {
    "execution": {
     "iopub.execute_input": "2022-10-30T06:56:35.445519Z",
     "iopub.status.busy": "2022-10-30T06:56:35.444760Z",
     "iopub.status.idle": "2022-10-30T06:56:35.451717Z",
     "shell.execute_reply": "2022-10-30T06:56:35.452307Z",
     "shell.execute_reply.started": "2022-10-22T07:53:35.893901Z"
    },
    "papermill": {
     "duration": 0.044134,
     "end_time": "2022-10-30T06:56:35.452493",
     "exception": false,
     "start_time": "2022-10-30T06:56:35.408359",
     "status": "completed"
    },
    "tags": []
   },
   "outputs": [
    {
     "name": "stdout",
     "output_type": "stream",
     "text": [
      "Both operating profit and turnover for the three-month period increased , respectively from EUR0 .9 m and EUR8 .3 m , as compared to the corresponding period in 2005 .\n",
      "[193, 43, 32, 5, 355, 8, 2, 265, 263, 51, 110, 612, 14, 209, 61, 35, 5, 2382, 39, 35, 21, 78, 6, 2, 100, 51, 4, 112]\n",
      "[ 193   43   32    5  355    8    2  265  263   51  110  612   14  209\n",
      "   61   35    5 2382   39   35   21   78    6    2  100   51    4  112\n",
      "    0    0    0    0    0    0    0    0    0    0    0    0    0    0\n",
      "    0    0    0    0    0    0    0    0    0    0    0    0    0    0\n",
      "    0    0    0    0    0    0    0    0    0    0    0    0    0    0\n",
      "    0    0    0    0    0    0    0    0    0    0    0    0    0    0\n",
      "    0    0    0    0    0    0    0    0    0    0    0    0    0    0\n",
      "    0    0    0    0    0    0    0    0    0    0    0    0    0    0\n",
      "    0    0    0    0    0    0    0    0    0    0    0    0    0    0\n",
      "    0    0    0    0    0    0    0    0    0    0    0    0    0    0\n",
      "    0    0    0    0    0    0    0    0    0    0    0    0    0    0\n",
      "    0    0    0    0    0    0    0    0    0    0    0    0    0    0\n",
      "    0    0    0    0    0    0    0    0    0    0    0    0    0    0\n",
      "    0    0    0    0    0    0    0    0    0    0    0    0    0    0\n",
      "    0    0    0    0]\n"
     ]
    }
   ],
   "source": [
    "print(headline_df['comment'].iloc[100])\n",
    "print(encoded_train[100])\n",
    "print(padded_train[100])"
   ]
  },
  {
   "cell_type": "code",
   "execution_count": 12,
   "id": "85e23959",
   "metadata": {
    "execution": {
     "iopub.execute_input": "2022-10-30T06:56:35.517587Z",
     "iopub.status.busy": "2022-10-30T06:56:35.516372Z",
     "iopub.status.idle": "2022-10-30T06:56:35.532849Z",
     "shell.execute_reply": "2022-10-30T06:56:35.533328Z",
     "shell.execute_reply.started": "2022-10-22T08:00:36.252927Z"
    },
    "papermill": {
     "duration": 0.050659,
     "end_time": "2022-10-30T06:56:35.533517",
     "exception": false,
     "start_time": "2022-10-30T06:56:35.482858",
     "status": "completed"
    },
    "tags": []
   },
   "outputs": [
    {
     "data": {
      "text/html": [
       "<div>\n",
       "<style scoped>\n",
       "    .dataframe tbody tr th:only-of-type {\n",
       "        vertical-align: middle;\n",
       "    }\n",
       "\n",
       "    .dataframe tbody tr th {\n",
       "        vertical-align: top;\n",
       "    }\n",
       "\n",
       "    .dataframe thead th {\n",
       "        text-align: right;\n",
       "    }\n",
       "</style>\n",
       "<table border=\"1\" class=\"dataframe\">\n",
       "  <thead>\n",
       "    <tr style=\"text-align: right;\">\n",
       "      <th></th>\n",
       "      <th>category</th>\n",
       "      <th>encoded_category</th>\n",
       "    </tr>\n",
       "  </thead>\n",
       "  <tbody>\n",
       "    <tr>\n",
       "      <th>0</th>\n",
       "      <td>neutral</td>\n",
       "      <td>1</td>\n",
       "    </tr>\n",
       "    <tr>\n",
       "      <th>1</th>\n",
       "      <td>neutral</td>\n",
       "      <td>1</td>\n",
       "    </tr>\n",
       "    <tr>\n",
       "      <th>2</th>\n",
       "      <td>negative</td>\n",
       "      <td>0</td>\n",
       "    </tr>\n",
       "    <tr>\n",
       "      <th>3</th>\n",
       "      <td>positive</td>\n",
       "      <td>2</td>\n",
       "    </tr>\n",
       "    <tr>\n",
       "      <th>4</th>\n",
       "      <td>positive</td>\n",
       "      <td>2</td>\n",
       "    </tr>\n",
       "    <tr>\n",
       "      <th>...</th>\n",
       "      <td>...</td>\n",
       "      <td>...</td>\n",
       "    </tr>\n",
       "    <tr>\n",
       "      <th>4841</th>\n",
       "      <td>negative</td>\n",
       "      <td>0</td>\n",
       "    </tr>\n",
       "    <tr>\n",
       "      <th>4842</th>\n",
       "      <td>neutral</td>\n",
       "      <td>1</td>\n",
       "    </tr>\n",
       "    <tr>\n",
       "      <th>4843</th>\n",
       "      <td>negative</td>\n",
       "      <td>0</td>\n",
       "    </tr>\n",
       "    <tr>\n",
       "      <th>4844</th>\n",
       "      <td>negative</td>\n",
       "      <td>0</td>\n",
       "    </tr>\n",
       "    <tr>\n",
       "      <th>4845</th>\n",
       "      <td>negative</td>\n",
       "      <td>0</td>\n",
       "    </tr>\n",
       "  </tbody>\n",
       "</table>\n",
       "<p>4846 rows × 2 columns</p>\n",
       "</div>"
      ],
      "text/plain": [
       "      category  encoded_category\n",
       "0      neutral                 1\n",
       "1      neutral                 1\n",
       "2     negative                 0\n",
       "3     positive                 2\n",
       "4     positive                 2\n",
       "...        ...               ...\n",
       "4841  negative                 0\n",
       "4842   neutral                 1\n",
       "4843  negative                 0\n",
       "4844  negative                 0\n",
       "4845  negative                 0\n",
       "\n",
       "[4846 rows x 2 columns]"
      ]
     },
     "execution_count": 12,
     "metadata": {},
     "output_type": "execute_result"
    }
   ],
   "source": [
    "#label encoding\n",
    "from sklearn.preprocessing import LabelEncoder\n",
    "headline_df['encoded_category'] = LabelEncoder().fit_transform(headline_df['category'])\n",
    "headline_df[[\"category\", \"encoded_category\"]] "
   ]
  },
  {
   "cell_type": "code",
   "execution_count": 13,
   "id": "57ac667d",
   "metadata": {
    "execution": {
     "iopub.execute_input": "2022-10-30T06:56:35.606610Z",
     "iopub.status.busy": "2022-10-30T06:56:35.605770Z",
     "iopub.status.idle": "2022-10-30T06:56:35.609391Z",
     "shell.execute_reply": "2022-10-30T06:56:35.608859Z",
     "shell.execute_reply.started": "2022-10-22T08:00:54.301126Z"
    },
    "papermill": {
     "duration": 0.044093,
     "end_time": "2022-10-30T06:56:35.609541",
     "exception": false,
     "start_time": "2022-10-30T06:56:35.565448",
     "status": "completed"
    },
    "tags": []
   },
   "outputs": [],
   "source": [
    "headline_df[\"encoded_category\"] = headline_df[\"encoded_category\"].astype(str)"
   ]
  },
  {
   "cell_type": "code",
   "execution_count": 14,
   "id": "ac6ff151",
   "metadata": {
    "execution": {
     "iopub.execute_input": "2022-10-30T06:56:35.680230Z",
     "iopub.status.busy": "2022-10-30T06:56:35.679262Z",
     "iopub.status.idle": "2022-10-30T06:56:35.683021Z",
     "shell.execute_reply": "2022-10-30T06:56:35.682435Z",
     "shell.execute_reply.started": "2022-10-22T08:00:57.688564Z"
    },
    "papermill": {
     "duration": 0.042263,
     "end_time": "2022-10-30T06:56:35.683185",
     "exception": false,
     "start_time": "2022-10-30T06:56:35.640922",
     "status": "completed"
    },
    "tags": []
   },
   "outputs": [],
   "source": [
    "y = headline_df[\"encoded_category\"].values\n",
    "y = to_categorical(y, num_classes=3)"
   ]
  },
  {
   "cell_type": "code",
   "execution_count": 15,
   "id": "19a00e97",
   "metadata": {
    "execution": {
     "iopub.execute_input": "2022-10-30T06:56:35.751763Z",
     "iopub.status.busy": "2022-10-30T06:56:35.750779Z",
     "iopub.status.idle": "2022-10-30T06:56:35.755507Z",
     "shell.execute_reply": "2022-10-30T06:56:35.754781Z",
     "shell.execute_reply.started": "2022-10-22T08:02:07.157148Z"
    },
    "papermill": {
     "duration": 0.041392,
     "end_time": "2022-10-30T06:56:35.755673",
     "exception": false,
     "start_time": "2022-10-30T06:56:35.714281",
     "status": "completed"
    },
    "tags": []
   },
   "outputs": [],
   "source": [
    "# Splitting into training sets and validation sets\n",
    "from sklearn.model_selection import train_test_split\n",
    "X_train, X_test, y_train, y_test = train_test_split(padded_train, y, test_size = 0.2, random_state = 0)"
   ]
  },
  {
   "cell_type": "code",
   "execution_count": 16,
   "id": "3c3357b5",
   "metadata": {
    "execution": {
     "iopub.execute_input": "2022-10-30T06:56:35.826956Z",
     "iopub.status.busy": "2022-10-30T06:56:35.826221Z",
     "iopub.status.idle": "2022-10-30T06:57:58.082197Z",
     "shell.execute_reply": "2022-10-30T06:57:58.081501Z",
     "shell.execute_reply.started": "2022-10-22T08:01:00.732858Z"
    },
    "papermill": {
     "duration": 82.295095,
     "end_time": "2022-10-30T06:57:58.082385",
     "exception": false,
     "start_time": "2022-10-30T06:56:35.787290",
     "status": "completed"
    },
    "tags": []
   },
   "outputs": [],
   "source": [
    "w2v_model = KeyedVectors.load_word2vec_format('../input/googlenewsvectorsnegative300/GoogleNews-vectors-negative300.bin', binary=True)"
   ]
  },
  {
   "cell_type": "code",
   "execution_count": 17,
   "id": "eafdb3c0",
   "metadata": {
    "execution": {
     "iopub.execute_input": "2022-10-30T06:57:58.154112Z",
     "iopub.status.busy": "2022-10-30T06:57:58.152942Z",
     "iopub.status.idle": "2022-10-30T06:57:58.272448Z",
     "shell.execute_reply": "2022-10-30T06:57:58.271700Z",
     "shell.execute_reply.started": "2022-10-22T08:14:52.054864Z"
    },
    "papermill": {
     "duration": 0.157189,
     "end_time": "2022-10-30T06:57:58.272603",
     "exception": false,
     "start_time": "2022-10-30T06:57:58.115414",
     "status": "completed"
    },
    "tags": []
   },
   "outputs": [
    {
     "data": {
      "text/plain": [
       "(10124, 300)"
      ]
     },
     "execution_count": 17,
     "metadata": {},
     "output_type": "execute_result"
    }
   ],
   "source": [
    "embedding_matrix = np.zeros((vocab_size, 300))\n",
    "for word, i in tokens.word_index.items():\n",
    "    try:\n",
    "        embedding_vector = w2v_model[word]\n",
    "    except:\n",
    "        embedding_vector = [0]*300\n",
    "    \n",
    "    if embedding_vector is not None:\n",
    "        embedding_matrix[i] = embedding_vector\n",
    "        \n",
    "embedding_matrix.shape"
   ]
  },
  {
   "cell_type": "code",
   "execution_count": 18,
   "id": "b11c7b9c",
   "metadata": {
    "execution": {
     "iopub.execute_input": "2022-10-30T06:57:58.397022Z",
     "iopub.status.busy": "2022-10-30T06:57:58.396002Z",
     "iopub.status.idle": "2022-10-30T06:57:58.399374Z",
     "shell.execute_reply": "2022-10-30T06:57:58.398816Z",
     "shell.execute_reply.started": "2022-10-22T08:14:52.335309Z"
    },
    "papermill": {
     "duration": 0.093753,
     "end_time": "2022-10-30T06:57:58.399523",
     "exception": false,
     "start_time": "2022-10-30T06:57:58.305770",
     "status": "completed"
    },
    "tags": []
   },
   "outputs": [],
   "source": [
    "def recall_m(y_true, y_pred):\n",
    "        true_positives     = K.sum(K.round(K.clip(y_true * y_pred, 0, 1)))\n",
    "        possible_positives = K.sum(K.round(K.clip(y_true, 0, 1)))\n",
    "        recall             = true_positives / (possible_positives + K.epsilon())\n",
    "        return recall\n",
    "\n",
    "def precision_m(y_true, y_pred):\n",
    "        true_positives      = K.sum(K.round(K.clip(y_true * y_pred, 0, 1)))\n",
    "        predicted_positives = K.sum(K.round(K.clip(y_pred, 0, 1)))\n",
    "        precision           = true_positives / (predicted_positives + K.epsilon())\n",
    "        return precision\n",
    "\n",
    "def f1_m(y_true, y_pred):\n",
    "    precision = precision_m(y_true, y_pred)\n",
    "    recall    = recall_m(y_true, y_pred)\n",
    "    return    2*((precision*recall)/(precision+recall+K.epsilon()))"
   ]
  },
  {
   "cell_type": "code",
   "execution_count": 19,
   "id": "44cf4964",
   "metadata": {
    "execution": {
     "iopub.execute_input": "2022-10-30T06:57:58.471863Z",
     "iopub.status.busy": "2022-10-30T06:57:58.471099Z",
     "iopub.status.idle": "2022-10-30T06:57:58.696837Z",
     "shell.execute_reply": "2022-10-30T06:57:58.697720Z",
     "shell.execute_reply.started": "2022-10-22T08:14:52.623207Z"
    },
    "papermill": {
     "duration": 0.266772,
     "end_time": "2022-10-30T06:57:58.698051",
     "exception": false,
     "start_time": "2022-10-30T06:57:58.431279",
     "status": "completed"
    },
    "tags": []
   },
   "outputs": [
    {
     "name": "stdout",
     "output_type": "stream",
     "text": [
      "Model: \"Baseline_Model\"\n",
      "_________________________________________________________________\n",
      "Layer (type)                 Output Shape              Param #   \n",
      "=================================================================\n",
      "Train_Set (InputLayer)       [(None, 200)]             0         \n",
      "_________________________________________________________________\n",
      "Word2Vec_Embedding (Embeddin (None, 200, 300)          3037200   \n",
      "_________________________________________________________________\n",
      "Convolutional1D_1 (Conv1D)   (None, 197, 50)           60050     \n",
      "_________________________________________________________________\n",
      "MaxPooling_1 (MaxPooling1D)  (None, 98, 50)            0         \n",
      "_________________________________________________________________\n",
      "Convolutional1D_2 (Conv1D)   (None, 96, 100)           15100     \n",
      "_________________________________________________________________\n",
      "MaxPooling_2 (MaxPooling1D)  (None, 48, 100)           0         \n",
      "_________________________________________________________________\n",
      "Flatten_Layer (Flatten)      (None, 4800)              0         \n",
      "_________________________________________________________________\n",
      "Fully_Connected_Layer (Dense (None, 100)               480100    \n",
      "_________________________________________________________________\n",
      "Output_Layer (Dense)         (None, 3)                 303       \n",
      "=================================================================\n",
      "Total params: 3,592,753\n",
      "Trainable params: 555,553\n",
      "Non-trainable params: 3,037,200\n",
      "_________________________________________________________________\n",
      "None\n"
     ]
    },
    {
     "name": "stderr",
     "output_type": "stream",
     "text": [
      "\n",
      "User settings:\n",
      "\n",
      "   KMP_AFFINITY=granularity=fine,noverbose,compact,1,0\n",
      "   KMP_BLOCKTIME=0\n",
      "   KMP_DUPLICATE_LIB_OK=True\n",
      "   KMP_INIT_AT_FORK=FALSE\n",
      "   KMP_SETTINGS=1\n",
      "   KMP_WARNINGS=0\n",
      "\n",
      "Effective settings:\n",
      "\n",
      "   KMP_ABORT_DELAY=0\n",
      "   KMP_ADAPTIVE_LOCK_PROPS='1,1024'\n",
      "   KMP_ALIGN_ALLOC=64\n",
      "   KMP_ALL_THREADPRIVATE=128\n",
      "   KMP_ATOMIC_MODE=2\n",
      "   KMP_BLOCKTIME=0\n",
      "   KMP_CPUINFO_FILE: value is not defined\n",
      "   KMP_DETERMINISTIC_REDUCTION=false\n",
      "   KMP_DEVICE_THREAD_LIMIT=2147483647\n",
      "   KMP_DISP_NUM_BUFFERS=7\n",
      "   KMP_DUPLICATE_LIB_OK=true\n",
      "   KMP_ENABLE_TASK_THROTTLING=true\n",
      "   KMP_FORCE_REDUCTION: value is not defined\n",
      "   KMP_FOREIGN_THREADS_THREADPRIVATE=true\n",
      "   KMP_FORKJOIN_BARRIER='2,2'\n",
      "   KMP_FORKJOIN_BARRIER_PATTERN='hyper,hyper'\n",
      "   KMP_GTID_MODE=3\n",
      "   KMP_HANDLE_SIGNALS=false\n",
      "   KMP_HOT_TEAMS_MAX_LEVEL=1\n",
      "   KMP_HOT_TEAMS_MODE=0\n",
      "   KMP_INIT_AT_FORK=true\n",
      "   KMP_LIBRARY=throughput\n",
      "   KMP_LOCK_KIND=queuing\n",
      "   KMP_MALLOC_POOL_INCR=1M\n",
      "   KMP_NUM_LOCKS_IN_BLOCK=1\n",
      "   KMP_PLAIN_BARRIER='2,2'\n",
      "   KMP_PLAIN_BARRIER_PATTERN='hyper,hyper'\n",
      "   KMP_REDUCTION_BARRIER='1,1'\n",
      "   KMP_REDUCTION_BARRIER_PATTERN='hyper,hyper'\n",
      "   KMP_SCHEDULE='static,balanced;guided,iterative'\n",
      "   KMP_SETTINGS=true\n",
      "   KMP_SPIN_BACKOFF_PARAMS='4096,100'\n",
      "   KMP_STACKOFFSET=64\n",
      "   KMP_STACKPAD=0\n",
      "   KMP_STACKSIZE=8M\n",
      "   KMP_STORAGE_MAP=false\n",
      "   KMP_TASKING=2\n",
      "   KMP_TASKLOOP_MIN_TASKS=0\n",
      "   KMP_TASK_STEALING_CONSTRAINT=1\n",
      "   KMP_TEAMS_THREAD_LIMIT=4\n",
      "   KMP_TOPOLOGY_METHOD=all\n",
      "   KMP_USE_YIELD=1\n",
      "   KMP_VERSION=false\n",
      "   KMP_WARNINGS=false\n",
      "   OMP_AFFINITY_FORMAT='OMP: pid %P tid %i thread %n bound to OS proc set {%A}'\n",
      "   OMP_ALLOCATOR=omp_default_mem_alloc\n",
      "   OMP_CANCELLATION=false\n",
      "   OMP_DEFAULT_DEVICE=0\n",
      "   OMP_DISPLAY_AFFINITY=false\n",
      "   OMP_DISPLAY_ENV=false\n",
      "   OMP_DYNAMIC=false\n",
      "   OMP_MAX_ACTIVE_LEVELS=1\n",
      "   OMP_MAX_TASK_PRIORITY=0\n",
      "   OMP_NESTED: deprecated; max-active-levels-var=1\n",
      "   OMP_NUM_THREADS: value is not defined\n",
      "   OMP_PLACES: value is not defined\n",
      "   OMP_PROC_BIND='intel'\n",
      "   OMP_SCHEDULE='static'\n",
      "   OMP_STACKSIZE=8M\n",
      "   OMP_TARGET_OFFLOAD=DEFAULT\n",
      "   OMP_THREAD_LIMIT=2147483647\n",
      "   OMP_WAIT_POLICY=PASSIVE\n",
      "   KMP_AFFINITY='noverbose,warnings,respect,granularity=fine,compact,1,0'\n",
      "\n",
      "2022-10-30 06:57:58.522367: I tensorflow/core/common_runtime/process_util.cc:146] Creating new thread pool with default inter op setting: 2. Tune using inter_op_parallelism_threads for best performance.\n"
     ]
    }
   ],
   "source": [
    "input_data        = Input(shape = (max_length, ), name = 'Train_Set')\n",
    "embedding_layer   = Embedding(vocab_size, 300, weights = [embedding_matrix], trainable = False, name = 'Word2Vec_Embedding')(input_data)\n",
    "conv_1            = Conv1D(filters=50, kernel_size=4, activation='relu',name='Convolutional1D_1')(embedding_layer)\n",
    "max_1             = MaxPooling1D(pool_size=2,name='MaxPooling_1')(conv_1)\n",
    "conv_2            = Conv1D(filters=100, kernel_size=3, activation='relu',name='Convolutional1D_2')(max_1)\n",
    "max_2             = MaxPooling1D(pool_size=2,name='MaxPooling_2')(conv_2)\n",
    "flatten           = Flatten(name='Flatten_Layer')(max_2)\n",
    "dense             = Dense(100, activation='relu', name='Fully_Connected_Layer')(flatten)\n",
    "out               = Dense(3, activation='softmax',name='Output_Layer')(dense)\n",
    "baseline_model   = Model(inputs=[input_data], outputs=[out], name = 'Baseline_Model')\n",
    "# feature_extractor = Model(inputs=[input_data], outputs=[flatten], name = 'Feature_Extracter' )\n",
    "\n",
    "print(baseline_model.summary())"
   ]
  },
  {
   "cell_type": "code",
   "execution_count": 20,
   "id": "84e27e68",
   "metadata": {
    "execution": {
     "iopub.execute_input": "2022-10-30T06:57:58.771122Z",
     "iopub.status.busy": "2022-10-30T06:57:58.770294Z",
     "iopub.status.idle": "2022-10-30T06:58:00.187659Z",
     "shell.execute_reply": "2022-10-30T06:58:00.186895Z",
     "shell.execute_reply.started": "2022-10-22T08:15:00.824117Z"
    },
    "papermill": {
     "duration": 1.455784,
     "end_time": "2022-10-30T06:58:00.187839",
     "exception": false,
     "start_time": "2022-10-30T06:57:58.732055",
     "status": "completed"
    },
    "tags": []
   },
   "outputs": [
    {
     "data": {
      "image/png": "[encoded data removed]",
      "text/plain": [
       "<IPython.core.display.Image object>"
      ]
     },
     "execution_count": 20,
     "metadata": {},
     "output_type": "execute_result"
    }
   ],
   "source": [
    "keras.utils.vis_utils.pydot = pyd\n",
    "plot_model(baseline_model, to_file='baseline_model.png')"
   ]
  },
  {
   "cell_type": "code",
   "execution_count": 21,
   "id": "0caf369d",
   "metadata": {
    "execution": {
     "iopub.execute_input": "2022-10-30T06:58:00.266596Z",
     "iopub.status.busy": "2022-10-30T06:58:00.265683Z",
     "iopub.status.idle": "2022-10-30T06:58:00.276028Z",
     "shell.execute_reply": "2022-10-30T06:58:00.275387Z",
     "shell.execute_reply.started": "2022-10-22T08:15:01.201492Z"
    },
    "papermill": {
     "duration": 0.054292,
     "end_time": "2022-10-30T06:58:00.276195",
     "exception": false,
     "start_time": "2022-10-30T06:58:00.221903",
     "status": "completed"
    },
    "tags": []
   },
   "outputs": [
    {
     "name": "stderr",
     "output_type": "stream",
     "text": [
      "2022-10-30 06:58:00.267136: I tensorflow/core/profiler/lib/profiler_session.cc:131] Profiler session initializing.\n",
      "2022-10-30 06:58:00.267424: I tensorflow/core/profiler/lib/profiler_session.cc:146] Profiler session started.\n",
      "2022-10-30 06:58:00.268709: I tensorflow/core/profiler/lib/profiler_session.cc:164] Profiler session tear down.\n"
     ]
    }
   ],
   "source": [
    "tensorboard = TensorBoard(log_dir='baseline_model')\n",
    "\n",
    "reduce_lr = ReduceLROnPlateau(monitor='val_f1_m', \n",
    "                              mode = 'max', \n",
    "                              factor=0.5, \n",
    "                              patience=5, \n",
    "                              min_lr=0.0001, \n",
    "                              verbose=10)\n",
    "\n",
    "checkpoint = ModelCheckpoint(\"baseline_model.h5\", \n",
    "                               monitor=\"val_f1_m\", \n",
    "                               mode=\"max\", \n",
    "                               save_best_only = True, \n",
    "                               verbose=1)\n",
    "\n",
    "earlystop = EarlyStopping(monitor = 'val_f1_m', \n",
    "                            mode=\"max\", \n",
    "                            min_delta = 0, \n",
    "                            patience = 5,\n",
    "                            verbose=1)"
   ]
  },
  {
   "cell_type": "code",
   "execution_count": 22,
   "id": "fc069a4f",
   "metadata": {
    "execution": {
     "iopub.execute_input": "2022-10-30T06:58:00.361988Z",
     "iopub.status.busy": "2022-10-30T06:58:00.360884Z",
     "iopub.status.idle": "2022-10-30T07:00:13.442118Z",
     "shell.execute_reply": "2022-10-30T07:00:13.442699Z",
     "shell.execute_reply.started": "2022-10-22T08:15:01.638452Z"
    },
    "papermill": {
     "duration": 133.131318,
     "end_time": "2022-10-30T07:00:13.442926",
     "exception": false,
     "start_time": "2022-10-30T06:58:00.311608",
     "status": "completed"
    },
    "tags": []
   },
   "outputs": [
    {
     "name": "stderr",
     "output_type": "stream",
     "text": [
      "2022-10-30 06:58:00.455048: I tensorflow/compiler/mlir/mlir_graph_optimization_pass.cc:185] None of the MLIR Optimization Passes are enabled (registered 2)\n"
     ]
    },
    {
     "name": "stdout",
     "output_type": "stream",
     "text": [
      "Epoch 1/50\n",
      "61/61 [==============================] - 6s 77ms/step - loss: 0.9830 - f1_m: 0.3102 - acc: 0.5632 - recall_m: 0.2853 - precision_m: 0.3795 - val_loss: 0.9285 - val_f1_m: 0.5757 - val_acc: 0.5928 - val_recall_m: 0.5635 - val_precision_m: 0.5889\n",
      "\n",
      "Epoch 00001: val_f1_m improved from -inf to 0.57575, saving model to baseline_model.h5\n",
      "Epoch 2/50\n",
      "61/61 [==============================] - 5s 84ms/step - loss: 0.8872 - f1_m: 0.5969 - acc: 0.5965 - recall_m: 0.5668 - precision_m: 0.6331 - val_loss: 0.8824 - val_f1_m: 0.6138 - val_acc: 0.6041 - val_recall_m: 0.5766 - val_precision_m: 0.6569\n",
      "\n",
      "Epoch 00002: val_f1_m improved from 0.57575 to 0.61382, saving model to baseline_model.h5\n",
      "Epoch 3/50\n",
      "61/61 [==============================] - 4s 71ms/step - loss: 0.8334 - f1_m: 0.6067 - acc: 0.6267 - recall_m: 0.5458 - precision_m: 0.6849 - val_loss: 0.8318 - val_f1_m: 0.6089 - val_acc: 0.6474 - val_recall_m: 0.5469 - val_precision_m: 0.6877\n",
      "\n",
      "Epoch 00003: val_f1_m did not improve from 0.61382\n",
      "Epoch 4/50\n",
      "61/61 [==============================] - 4s 70ms/step - loss: 0.7773 - f1_m: 0.6235 - acc: 0.6517 - recall_m: 0.5566 - precision_m: 0.7107 - val_loss: 0.7828 - val_f1_m: 0.6425 - val_acc: 0.6732 - val_recall_m: 0.5883 - val_precision_m: 0.7095\n",
      "\n",
      "Epoch 00004: val_f1_m improved from 0.61382 to 0.64254, saving model to baseline_model.h5\n",
      "Epoch 5/50\n",
      "61/61 [==============================] - 4s 71ms/step - loss: 0.7184 - f1_m: 0.6572 - acc: 0.6788 - recall_m: 0.5841 - precision_m: 0.7527 - val_loss: 0.7282 - val_f1_m: 0.6574 - val_acc: 0.6948 - val_recall_m: 0.5922 - val_precision_m: 0.7411\n",
      "\n",
      "Epoch 00005: val_f1_m improved from 0.64254 to 0.65738, saving model to baseline_model.h5\n",
      "Epoch 6/50\n",
      "61/61 [==============================] - 4s 70ms/step - loss: 0.6573 - f1_m: 0.6953 - acc: 0.7095 - recall_m: 0.6329 - precision_m: 0.7739 - val_loss: 0.6923 - val_f1_m: 0.6747 - val_acc: 0.7041 - val_recall_m: 0.6059 - val_precision_m: 0.7629\n",
      "\n",
      "Epoch 00006: val_f1_m improved from 0.65738 to 0.67467, saving model to baseline_model.h5\n",
      "Epoch 7/50\n",
      "61/61 [==============================] - 4s 73ms/step - loss: 0.6056 - f1_m: 0.7275 - acc: 0.7466 - recall_m: 0.6668 - precision_m: 0.8023 - val_loss: 0.6627 - val_f1_m: 0.6921 - val_acc: 0.7093 - val_recall_m: 0.6346 - val_precision_m: 0.7624\n",
      "\n",
      "Epoch 00007: val_f1_m improved from 0.67467 to 0.69206, saving model to baseline_model.h5\n",
      "Epoch 8/50\n",
      "61/61 [==============================] - 4s 70ms/step - loss: 0.5553 - f1_m: 0.7554 - acc: 0.7704 - recall_m: 0.7040 - precision_m: 0.8158 - val_loss: 0.6429 - val_f1_m: 0.7021 - val_acc: 0.7072 - val_recall_m: 0.6580 - val_precision_m: 0.7537\n",
      "\n",
      "Epoch 00008: val_f1_m improved from 0.69206 to 0.70210, saving model to baseline_model.h5\n",
      "Epoch 9/50\n",
      "61/61 [==============================] - 5s 82ms/step - loss: 0.5151 - f1_m: 0.7789 - acc: 0.7913 - recall_m: 0.7343 - precision_m: 0.8304 - val_loss: 0.6243 - val_f1_m: 0.7164 - val_acc: 0.7144 - val_recall_m: 0.6775 - val_precision_m: 0.7606\n",
      "\n",
      "Epoch 00009: val_f1_m improved from 0.70210 to 0.71640, saving model to baseline_model.h5\n",
      "Epoch 10/50\n",
      "61/61 [==============================] - 4s 72ms/step - loss: 0.4734 - f1_m: 0.8013 - acc: 0.8148 - recall_m: 0.7615 - precision_m: 0.8463 - val_loss: 0.6076 - val_f1_m: 0.7177 - val_acc: 0.7351 - val_recall_m: 0.6785 - val_precision_m: 0.7623\n",
      "\n",
      "Epoch 00010: val_f1_m improved from 0.71640 to 0.71770, saving model to baseline_model.h5\n",
      "Epoch 11/50\n",
      "61/61 [==============================] - 4s 70ms/step - loss: 0.4387 - f1_m: 0.8246 - acc: 0.8346 - recall_m: 0.7918 - precision_m: 0.8605 - val_loss: 0.6088 - val_f1_m: 0.7245 - val_acc: 0.7227 - val_recall_m: 0.6941 - val_precision_m: 0.7580\n",
      "\n",
      "Epoch 00011: val_f1_m improved from 0.71770 to 0.72453, saving model to baseline_model.h5\n",
      "Epoch 12/50\n",
      "61/61 [==============================] - 4s 71ms/step - loss: 0.4025 - f1_m: 0.8417 - acc: 0.8488 - recall_m: 0.8140 - precision_m: 0.8718 - val_loss: 0.5888 - val_f1_m: 0.7371 - val_acc: 0.7381 - val_recall_m: 0.7117 - val_precision_m: 0.7646\n",
      "\n",
      "Epoch 00012: val_f1_m improved from 0.72453 to 0.73705, saving model to baseline_model.h5\n",
      "Epoch 13/50\n",
      "61/61 [==============================] - 4s 71ms/step - loss: 0.3784 - f1_m: 0.8569 - acc: 0.8633 - recall_m: 0.8323 - precision_m: 0.8834 - val_loss: 0.5728 - val_f1_m: 0.7506 - val_acc: 0.7567 - val_recall_m: 0.7244 - val_precision_m: 0.7795\n",
      "\n",
      "Epoch 00013: val_f1_m improved from 0.73705 to 0.75064, saving model to baseline_model.h5\n",
      "Epoch 14/50\n",
      "61/61 [==============================] - 4s 73ms/step - loss: 0.3424 - f1_m: 0.8783 - acc: 0.8826 - recall_m: 0.8558 - precision_m: 0.9023 - val_loss: 0.5820 - val_f1_m: 0.7457 - val_acc: 0.7567 - val_recall_m: 0.7264 - val_precision_m: 0.7665\n",
      "\n",
      "Epoch 00014: val_f1_m did not improve from 0.75064\n",
      "Epoch 15/50\n",
      "61/61 [==============================] - 4s 71ms/step - loss: 0.3166 - f1_m: 0.8908 - acc: 0.8942 - recall_m: 0.8726 - precision_m: 0.9099 - val_loss: 0.5677 - val_f1_m: 0.7590 - val_acc: 0.7608 - val_recall_m: 0.7414 - val_precision_m: 0.7780\n",
      "\n",
      "Epoch 00015: val_f1_m improved from 0.75064 to 0.75901, saving model to baseline_model.h5\n",
      "Epoch 16/50\n",
      "61/61 [==============================] - 5s 83ms/step - loss: 0.2915 - f1_m: 0.9017 - acc: 0.9035 - recall_m: 0.8853 - precision_m: 0.9191 - val_loss: 0.5904 - val_f1_m: 0.7545 - val_acc: 0.7629 - val_recall_m: 0.7381 - val_precision_m: 0.7719\n",
      "\n",
      "Epoch 00016: val_f1_m did not improve from 0.75901\n",
      "Epoch 17/50\n",
      "61/61 [==============================] - 4s 72ms/step - loss: 0.2697 - f1_m: 0.9130 - acc: 0.9154 - recall_m: 0.8989 - precision_m: 0.9277 - val_loss: 0.5847 - val_f1_m: 0.7541 - val_acc: 0.7546 - val_recall_m: 0.7381 - val_precision_m: 0.7711\n",
      "\n",
      "Epoch 00017: val_f1_m did not improve from 0.75901\n",
      "Epoch 18/50\n",
      "61/61 [==============================] - 4s 70ms/step - loss: 0.2461 - f1_m: 0.9206 - acc: 0.9226 - recall_m: 0.9087 - precision_m: 0.9330 - val_loss: 0.5884 - val_f1_m: 0.7623 - val_acc: 0.7670 - val_recall_m: 0.7482 - val_precision_m: 0.7775\n",
      "\n",
      "Epoch 00018: val_f1_m improved from 0.75901 to 0.76234, saving model to baseline_model.h5\n",
      "Epoch 19/50\n",
      "61/61 [==============================] - 4s 71ms/step - loss: 0.2270 - f1_m: 0.9321 - acc: 0.9342 - recall_m: 0.9222 - precision_m: 0.9423 - val_loss: 0.5716 - val_f1_m: 0.7654 - val_acc: 0.7649 - val_recall_m: 0.7531 - val_precision_m: 0.7784\n",
      "\n",
      "Epoch 00019: val_f1_m improved from 0.76234 to 0.76538, saving model to baseline_model.h5\n",
      "Epoch 20/50\n",
      "61/61 [==============================] - 5s 75ms/step - loss: 0.2018 - f1_m: 0.9440 - acc: 0.9448 - recall_m: 0.9355 - precision_m: 0.9527 - val_loss: 0.5772 - val_f1_m: 0.7695 - val_acc: 0.7670 - val_recall_m: 0.7570 - val_precision_m: 0.7827\n",
      "\n",
      "Epoch 00020: val_f1_m improved from 0.76538 to 0.76949, saving model to baseline_model.h5\n",
      "Epoch 21/50\n",
      "61/61 [==============================] - 4s 71ms/step - loss: 0.1835 - f1_m: 0.9495 - acc: 0.9520 - recall_m: 0.9407 - precision_m: 0.9586 - val_loss: 0.5842 - val_f1_m: 0.7675 - val_acc: 0.7670 - val_recall_m: 0.7580 - val_precision_m: 0.7775\n",
      "\n",
      "Epoch 00021: val_f1_m did not improve from 0.76949\n",
      "Epoch 22/50\n",
      "61/61 [==============================] - 4s 73ms/step - loss: 0.1658 - f1_m: 0.9578 - acc: 0.9590 - recall_m: 0.9509 - precision_m: 0.9650 - val_loss: 0.5839 - val_f1_m: 0.7777 - val_acc: 0.7722 - val_recall_m: 0.7652 - val_precision_m: 0.7910\n",
      "\n",
      "Epoch 00022: val_f1_m improved from 0.76949 to 0.77774, saving model to baseline_model.h5\n",
      "Epoch 23/50\n",
      "61/61 [==============================] - 5s 84ms/step - loss: 0.1489 - f1_m: 0.9637 - acc: 0.9652 - recall_m: 0.9587 - precision_m: 0.9688 - val_loss: 0.5945 - val_f1_m: 0.7750 - val_acc: 0.7711 - val_recall_m: 0.7658 - val_precision_m: 0.7847\n",
      "\n",
      "Epoch 00023: val_f1_m did not improve from 0.77774\n",
      "Epoch 24/50\n",
      "61/61 [==============================] - 4s 72ms/step - loss: 0.1336 - f1_m: 0.9711 - acc: 0.9711 - recall_m: 0.9667 - precision_m: 0.9757 - val_loss: 0.5985 - val_f1_m: 0.7832 - val_acc: 0.7763 - val_recall_m: 0.7750 - val_precision_m: 0.7917\n",
      "\n",
      "Epoch 00024: val_f1_m improved from 0.77774 to 0.78316, saving model to baseline_model.h5\n",
      "Epoch 25/50\n",
      "61/61 [==============================] - 4s 70ms/step - loss: 0.1183 - f1_m: 0.9772 - acc: 0.9786 - recall_m: 0.9722 - precision_m: 0.9824 - val_loss: 0.6249 - val_f1_m: 0.7723 - val_acc: 0.7711 - val_recall_m: 0.7639 - val_precision_m: 0.7812\n",
      "\n",
      "Epoch 00025: val_f1_m did not improve from 0.78316\n",
      "Epoch 26/50\n",
      "61/61 [==============================] - 4s 70ms/step - loss: 0.1073 - f1_m: 0.9803 - acc: 0.9791 - recall_m: 0.9773 - precision_m: 0.9833 - val_loss: 0.6172 - val_f1_m: 0.7772 - val_acc: 0.7680 - val_recall_m: 0.7682 - val_precision_m: 0.7867\n",
      "\n",
      "Epoch 00026: val_f1_m did not improve from 0.78316\n",
      "Epoch 27/50\n",
      "61/61 [==============================] - 5s 81ms/step - loss: 0.0942 - f1_m: 0.9851 - acc: 0.9837 - recall_m: 0.9822 - precision_m: 0.9882 - val_loss: 0.6248 - val_f1_m: 0.7787 - val_acc: 0.7753 - val_recall_m: 0.7697 - val_precision_m: 0.7880\n",
      "\n",
      "Epoch 00027: val_f1_m did not improve from 0.78316\n",
      "Epoch 28/50\n",
      "61/61 [==============================] - 4s 72ms/step - loss: 0.0859 - f1_m: 0.9869 - acc: 0.9868 - recall_m: 0.9847 - precision_m: 0.9893 - val_loss: 0.6318 - val_f1_m: 0.7770 - val_acc: 0.7753 - val_recall_m: 0.7697 - val_precision_m: 0.7845\n",
      "\n",
      "Epoch 00028: val_f1_m did not improve from 0.78316\n",
      "Epoch 29/50\n",
      "61/61 [==============================] - 4s 73ms/step - loss: 0.0751 - f1_m: 0.9910 - acc: 0.9910 - recall_m: 0.9890 - precision_m: 0.9931 - val_loss: 0.6511 - val_f1_m: 0.7713 - val_acc: 0.7701 - val_recall_m: 0.7648 - val_precision_m: 0.7780\n",
      "\n",
      "Epoch 00029: val_f1_m did not improve from 0.78316\n",
      "Epoch 00029: early stopping\n"
     ]
    }
   ],
   "source": [
    "adam_optimizer = tf.keras.optimizers.Adam(learning_rate = 0.0001)\n",
    "\n",
    "baseline_model.compile(optimizer = adam_optimizer, loss='categorical_crossentropy', metrics=[f1_m,'acc',recall_m,precision_m])\n",
    "history = baseline_model.fit(X_train, y_train, \n",
    "               batch_size=64, \n",
    "               epochs=50, \n",
    "               verbose=1, \n",
    "               callbacks=[checkpoint, earlystop, reduce_lr], \n",
    "               validation_data=(X_test, y_test))"
   ]
  },
  {
   "cell_type": "code",
   "execution_count": 23,
   "id": "3b8db714",
   "metadata": {
    "execution": {
     "iopub.execute_input": "2022-10-30T07:00:14.553951Z",
     "iopub.status.busy": "2022-10-30T07:00:14.553217Z",
     "iopub.status.idle": "2022-10-30T07:00:14.609595Z",
     "shell.execute_reply": "2022-10-30T07:00:14.608923Z"
    },
    "papermill": {
     "duration": 0.615517,
     "end_time": "2022-10-30T07:00:14.609777",
     "exception": false,
     "start_time": "2022-10-30T07:00:13.994260",
     "status": "completed"
    },
    "tags": []
   },
   "outputs": [],
   "source": [
    "baseline_model.save(f'./cnn.h5')"
   ]
  },
  {
   "cell_type": "code",
   "execution_count": 24,
   "id": "248c3c26",
   "metadata": {
    "execution": {
     "iopub.execute_input": "2022-10-30T07:00:15.709965Z",
     "iopub.status.busy": "2022-10-30T07:00:15.709242Z",
     "iopub.status.idle": "2022-10-30T07:00:24.325582Z",
     "shell.execute_reply": "2022-10-30T07:00:24.324839Z",
     "shell.execute_reply.started": "2022-10-22T08:15:18.340818Z"
    },
    "papermill": {
     "duration": 9.167236,
     "end_time": "2022-10-30T07:00:24.325759",
     "exception": false,
     "start_time": "2022-10-30T07:00:15.158523",
     "status": "completed"
    },
    "tags": []
   },
   "outputs": [
    {
     "name": "stdout",
     "output_type": "stream",
     "text": [
      "31/31 [==============================] - 0s 14ms/step - loss: 0.6511 - f1_m: 0.7703 - acc: 0.7701 - recall_m: 0.7637 - precision_m: 0.7772\n"
     ]
    }
   ],
   "source": [
    "score = baseline_model.evaluate(X_test, y_test)"
   ]
  },
  {
   "cell_type": "code",
   "execution_count": 25,
   "id": "a86ab4fe",
   "metadata": {
    "execution": {
     "iopub.execute_input": "2022-10-30T07:00:25.442183Z",
     "iopub.status.busy": "2022-10-30T07:00:25.441402Z",
     "iopub.status.idle": "2022-10-30T07:00:25.444339Z",
     "shell.execute_reply": "2022-10-30T07:00:25.445062Z",
     "shell.execute_reply.started": "2022-10-22T08:15:22.968431Z"
    },
    "papermill": {
     "duration": 0.564844,
     "end_time": "2022-10-30T07:00:25.445259",
     "exception": false,
     "start_time": "2022-10-30T07:00:24.880415",
     "status": "completed"
    },
    "tags": []
   },
   "outputs": [
    {
     "name": "stdout",
     "output_type": "stream",
     "text": [
      "+-----------------+--------------------+\n",
      "|    Parameters   |       Value        |\n",
      "+-----------------+--------------------+\n",
      "|    Loss Score   | 0.6510633826255798 |\n",
      "|     F1 Score    | 0.7702782154083252 |\n",
      "|  Accuracy Score | 0.7701030969619751 |\n",
      "|   Recall Score  | 0.7637096643447876 |\n",
      "| Precision Score | 0.7772195339202881 |\n",
      "+-----------------+--------------------+\n"
     ]
    }
   ],
   "source": [
    "pretty_table = PrettyTable()\n",
    "pretty_table.field_names = ['Parameters','Value']\n",
    "pretty_table.add_row(['Loss Score'                     ,score[0]])\n",
    "pretty_table.add_row(['F1 Score'                       ,score[1]])\n",
    "pretty_table.add_row(['Accuracy Score'                 ,score[2]])\n",
    "pretty_table.add_row(['Recall Score'                   ,score[3]])\n",
    "pretty_table.add_row(['Precision Score'                ,score[4]])\n",
    "\n",
    "print(pretty_table)"
   ]
  },
  {
   "cell_type": "code",
   "execution_count": 26,
   "id": "fb4a0ab1",
   "metadata": {
    "execution": {
     "iopub.execute_input": "2022-10-30T07:00:26.555277Z",
     "iopub.status.busy": "2022-10-30T07:00:26.554527Z",
     "iopub.status.idle": "2022-10-30T07:00:27.410331Z",
     "shell.execute_reply": "2022-10-30T07:00:27.410842Z",
     "shell.execute_reply.started": "2022-10-22T08:15:22.979378Z"
    },
    "papermill": {
     "duration": 1.409868,
     "end_time": "2022-10-30T07:00:27.411109",
     "exception": false,
     "start_time": "2022-10-30T07:00:26.001241",
     "status": "completed"
    },
    "tags": []
   },
   "outputs": [
    {
     "name": "stdout",
     "output_type": "stream",
     "text": [
      "[[ 77  27  24]\n",
      " [ 14 483  78]\n",
      " [ 11  69 187]]\n"
     ]
    },
    {
     "data": {
      "image/png": "[encoded data removed]",
      "text/plain": [
       "<Figure size 432x288 with 2 Axes>"
      ]
     },
     "metadata": {
      "needs_background": "light"
     },
     "output_type": "display_data"
    }
   ],
   "source": [
    "cnf_mat = confusion_matrix(np.argmax(y_test, axis=1), np.argmax(baseline_model.predict(X_test), axis=1))\n",
    "\n",
    "print(cnf_mat)\n",
    "labels = [0,1,2]\n",
    "ax= plt.subplot()\n",
    "# labels, title and ticks\n",
    "sns.heatmap(cnf_mat, annot=True, fmt='g', ax=ax);  #annot=True to annotate cells, ftm='g' to disable scientific notation\n",
    "ax.set_xlabel('Predicted labels');ax.set_ylabel('True labels'); \n",
    "ax.set_title('Confusion Matrix'); \n",
    "ax.xaxis.set_ticklabels(labels); ax.yaxis.set_ticklabels(labels);\n"
   ]
  },
  {
   "cell_type": "code",
   "execution_count": 27,
   "id": "a2da86ce",
   "metadata": {
    "execution": {
     "iopub.execute_input": "2022-10-30T07:00:28.515135Z",
     "iopub.status.busy": "2022-10-30T07:00:28.514400Z",
     "iopub.status.idle": "2022-10-30T07:00:29.106801Z",
     "shell.execute_reply": "2022-10-30T07:00:29.107387Z",
     "shell.execute_reply.started": "2022-10-22T08:15:23.886799Z"
    },
    "papermill": {
     "duration": 1.142916,
     "end_time": "2022-10-30T07:00:29.107600",
     "exception": false,
     "start_time": "2022-10-30T07:00:27.964684",
     "status": "completed"
    },
    "tags": []
   },
   "outputs": [
    {
     "data": {
      "image/png": "[encoded data removed]",
      "text/plain": [
       "<Figure size 432x288 with 1 Axes>"
      ]
     },
     "metadata": {
      "needs_background": "light"
     },
     "output_type": "display_data"
    }
   ],
   "source": [
    "plt.plot(history.history['precision_m'][1:])\n",
    "plt.plot(history.history['val_precision_m'][1:])\n",
    "plt.title('Model Precision')\n",
    "plt.ylabel('Precision')\n",
    "plt.xlabel('Epochs')\n",
    "# plt.ylim([0.7, 0.8])\n",
    "plt.legend(['train','Validation'], loc='upper left')\n",
    "plt.savefig('Model_Precision.png' , dpi = 300 , transparent = 'true')\n",
    "plt.show()"
   ]
  },
  {
   "cell_type": "code",
   "execution_count": 28,
   "id": "78ae6b57",
   "metadata": {
    "execution": {
     "iopub.execute_input": "2022-10-30T07:00:30.216721Z",
     "iopub.status.busy": "2022-10-30T07:00:30.215647Z",
     "iopub.status.idle": "2022-10-30T07:00:30.813481Z",
     "shell.execute_reply": "2022-10-30T07:00:30.814215Z",
     "shell.execute_reply.started": "2022-10-22T08:10:04.198533Z"
    },
    "papermill": {
     "duration": 1.15874,
     "end_time": "2022-10-30T07:00:30.814417",
     "exception": false,
     "start_time": "2022-10-30T07:00:29.655677",
     "status": "completed"
    },
    "tags": []
   },
   "outputs": [
    {
     "data": {
      "image/png": "[encoded data removed]",
      "text/plain": [
       "<Figure size 432x288 with 1 Axes>"
      ]
     },
     "metadata": {
      "needs_background": "light"
     },
     "output_type": "display_data"
    }
   ],
   "source": [
    "plt.plot(history.history['f1_m'][1:])\n",
    "plt.plot(history.history['val_f1_m'][1:])\n",
    "plt.title('Model F1 Score')\n",
    "plt.ylabel('F1 Score')\n",
    "plt.xlabel('Epochs')\n",
    "# plt.ylim([0.7, 0.8])\n",
    "plt.legend(['train','Validation'], loc='upper left')\n",
    "plt.savefig('Model_F1Score.png' , dpi = 300 , transparent = 'true')\n",
    "plt.show()"
   ]
  },
  {
   "cell_type": "code",
   "execution_count": 29,
   "id": "5c8a48d3",
   "metadata": {
    "execution": {
     "iopub.execute_input": "2022-10-30T07:00:31.924172Z",
     "iopub.status.busy": "2022-10-30T07:00:31.923384Z",
     "iopub.status.idle": "2022-10-30T07:00:32.509599Z",
     "shell.execute_reply": "2022-10-30T07:00:32.510141Z",
     "shell.execute_reply.started": "2022-10-22T08:10:07.424471Z"
    },
    "papermill": {
     "duration": 1.142493,
     "end_time": "2022-10-30T07:00:32.510340",
     "exception": false,
     "start_time": "2022-10-30T07:00:31.367847",
     "status": "completed"
    },
    "tags": []
   },
   "outputs": [
    {
     "data": {
      "image/png": "[encoded data removed]",
      "text/plain": [
       "<Figure size 432x288 with 1 Axes>"
      ]
     },
     "metadata": {
      "needs_background": "light"
     },
     "output_type": "display_data"
    }
   ],
   "source": [
    "plt.plot(history.history['loss'][1:])\n",
    "plt.plot(history.history['val_loss'][1:])\n",
    "plt.title('Model Loss')\n",
    "plt.ylabel('Loss')\n",
    "plt.xlabel('Epochs')\n",
    "# plt.ylim([0.5, 0.6])\n",
    "plt.legend(['train','Validation'], loc='upper left')\n",
    "plt.savefig('Model_Loss.png' , dpi = 300 , transparent = 'true')\n",
    "plt.show()"
   ]
  },
  {
   "cell_type": "code",
   "execution_count": 30,
   "id": "4116b182",
   "metadata": {
    "execution": {
     "iopub.execute_input": "2022-10-30T07:00:33.674439Z",
     "iopub.status.busy": "2022-10-30T07:00:33.673170Z",
     "iopub.status.idle": "2022-10-30T07:00:34.216643Z",
     "shell.execute_reply": "2022-10-30T07:00:34.217247Z",
     "shell.execute_reply.started": "2022-10-22T08:10:08.566234Z"
    },
    "papermill": {
     "duration": 1.151242,
     "end_time": "2022-10-30T07:00:34.217470",
     "exception": false,
     "start_time": "2022-10-30T07:00:33.066228",
     "status": "completed"
    },
    "tags": []
   },
   "outputs": [
    {
     "data": {
      "image/png": "[encoded data removed]",
      "text/plain": [
       "<Figure size 432x288 with 1 Axes>"
      ]
     },
     "metadata": {
      "needs_background": "light"
     },
     "output_type": "display_data"
    }
   ],
   "source": [
    "plt.plot(history.history['recall_m'][1:])\n",
    "plt.plot(history.history['val_recall_m'][1:])\n",
    "plt.title('Model Recall')\n",
    "plt.ylabel('Recall')\n",
    "plt.xlabel('Epochs')\n",
    "# plt.ylim([0.7, 0.8])\n",
    "plt.legend(['train','Validation'], loc='upper left')\n",
    "plt.savefig('Model_Recall.png' , dpi = 300 , transparent = 'true')\n",
    "plt.show()"
   ]
  },
  {
   "cell_type": "code",
   "execution_count": 31,
   "id": "5cd9b790",
   "metadata": {
    "execution": {
     "iopub.execute_input": "2022-10-30T07:00:35.348683Z",
     "iopub.status.busy": "2022-10-30T07:00:35.347630Z",
     "iopub.status.idle": "2022-10-30T07:00:35.944336Z",
     "shell.execute_reply": "2022-10-30T07:00:35.945045Z",
     "shell.execute_reply.started": "2022-10-22T08:10:09.933912Z"
    },
    "papermill": {
     "duration": 1.171472,
     "end_time": "2022-10-30T07:00:35.945254",
     "exception": false,
     "start_time": "2022-10-30T07:00:34.773782",
     "status": "completed"
    },
    "tags": []
   },
   "outputs": [
    {
     "data": {
      "image/png": "[encoded data removed]",
      "text/plain": [
       "<Figure size 432x288 with 1 Axes>"
      ]
     },
     "metadata": {
      "needs_background": "light"
     },
     "output_type": "display_data"
    }
   ],
   "source": [
    "plt.plot(history.history['acc'][1:])\n",
    "plt.plot(history.history['val_acc'][1:])\n",
    "plt.title('Model Accuracy')\n",
    "plt.ylabel('Accuracy')\n",
    "plt.xlabel('Epochs')\n",
    "# plt.ylim([0.7, 0.8])\n",
    "plt.legend(['train','Validation'], loc='upper left')\n",
    "plt.savefig('Model_Accuracy.png' , dpi = 300 , transparent = 'true')\n",
    "plt.show()"
   ]
  }
 ],
 "metadata": {
  "kernelspec": {
   "display_name": "Python 3",
   "language": "python",
   "name": "python3"
  },
  "language_info": {
   "codemirror_mode": {
    "name": "ipython",
    "version": 3
   },
   "file_extension": ".py",
   "mimetype": "text/x-python",
   "name": "python",
   "nbconvert_exporter": "python",
   "pygments_lexer": "ipython3",
   "version": "3.7.12"
  },
  "papermill": {
   "default_parameters": {},
   "duration": 279.071865,
   "end_time": "2022-10-30T07:00:39.734630",
   "environment_variables": {},
   "exception": null,
   "input_path": "__notebook__.ipynb",
   "output_path": "__notebook__.ipynb",
   "parameters": {},
   "start_time": "2022-10-30T06:56:00.662765",
   "version": "2.3.3"
  }
 },
 "nbformat": 4,
 "nbformat_minor": 5
}
