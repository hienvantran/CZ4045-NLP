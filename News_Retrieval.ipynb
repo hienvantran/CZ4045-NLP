{
 "cells": [
  {
   "cell_type": "code",
   "execution_count": 17,
   "id": "060badf9",
   "metadata": {},
   "outputs": [],
   "source": [
    "import pandas as pd\n",
    "import json\n",
    "import http.client, urllib.parse"
   ]
  },
  {
   "cell_type": "code",
   "execution_count": 18,
   "id": "ca4f5f58",
   "metadata": {},
   "outputs": [],
   "source": [
    "import voila"
   ]
  },
  {
   "cell_type": "code",
   "execution_count": 19,
   "id": "4a3ff1b6",
   "metadata": {},
   "outputs": [
    {
     "name": "stdout",
     "output_type": "stream",
     "text": [
      "Today's date: 2022-11-05\n"
     ]
    }
   ],
   "source": [
    "from datetime import date\n",
    "\n",
    "today = date.today()\n",
    "print(\"Today's date:\", today)"
   ]
  },
  {
   "cell_type": "code",
   "execution_count": 20,
   "id": "1654024a",
   "metadata": {},
   "outputs": [],
   "source": [
    "# !jupyter serverextension enable voila --sys-prefix"
   ]
  },
  {
   "cell_type": "code",
   "execution_count": 21,
   "id": "ba7f6d6b",
   "metadata": {},
   "outputs": [],
   "source": [
    "# for x in dict_data['data']:\n",
    "#     df = pd.DataFrame.from_dict(x, orient='index',\n",
    "#                        columns=['author', 'title', 'description', 'url','source','image','category','language','country','published_at'])"
   ]
  },
  {
   "cell_type": "code",
   "execution_count": 22,
   "id": "f7f3e975",
   "metadata": {},
   "outputs": [],
   "source": [
    "import warnings\n",
    "warnings.filterwarnings('ignore')\n",
    "\n",
    "import ipywidgets as widgets\n",
    "from IPython.display import display, clear_output"
   ]
  },
  {
   "cell_type": "code",
   "execution_count": 23,
   "id": "d9bd4800",
   "metadata": {},
   "outputs": [],
   "source": [
    "# Image Widget\n",
    "\n",
    "file = open(\"download.png\", \"rb\")\n",
    "image = file.read()\n",
    "\n",
    "image_headline = widgets.Image(\n",
    "                    value=image,\n",
    "                    format='jpg',\n",
    "                    width='300'\n",
    "                )\n",
    "\n",
    "label_headline = widgets.Label(\n",
    "                    value='Image by Iconka',\n",
    "                    style={'description_width': 'initial'}\n",
    "                )\n",
    "\n",
    "vbox_headline = widgets.VBox([image_headline, label_headline])"
   ]
  },
  {
   "cell_type": "code",
   "execution_count": 25,
   "id": "009b1b2e",
   "metadata": {},
   "outputs": [],
   "source": [
    "# news source\n",
    "\n",
    "source = widgets.Dropdown(\n",
    "    options=[('General',''),('BBC', 'bbc'), ('CNN', 'cnn'), ('ESPN', 'espn')],\n",
    "    value='',\n",
    "    description='Source:',\n",
    ")"
   ]
  },
  {
   "cell_type": "code",
   "execution_count": 26,
   "id": "4401e741",
   "metadata": {},
   "outputs": [],
   "source": [
    "# category\n",
    "\n",
    "category = widgets.Dropdown(\n",
    "    options=[('General', 'general'), ('Business', 'business'),('Entertainment','entertainment'),('Health', 'health'),('Science','science'),('Technology','technology')],\n",
    "    value='general',\n",
    "    description='Category:',\n",
    ")"
   ]
  },
  {
   "cell_type": "code",
   "execution_count": 27,
   "id": "935c52e9",
   "metadata": {},
   "outputs": [],
   "source": [
    "fill = widgets.Text(\n",
    "    value='',\n",
    "    placeholder='Enter Keyword(s)',\n",
    "    description='Keyword:',\n",
    "    disabled=False\n",
    ")"
   ]
  },
  {
   "cell_type": "code",
   "execution_count": 28,
   "id": "2283082c",
   "metadata": {},
   "outputs": [],
   "source": [
    "#Date picker\n",
    "\n",
    "date_start = widgets.DatePicker(value = today, description='Pick a Start')\n",
    "date_end = widgets.DatePicker(value = today,description='Pick an End')"
   ]
  },
  {
   "cell_type": "code",
   "execution_count": 47,
   "id": "7d440210",
   "metadata": {},
   "outputs": [],
   "source": [
    "button_send = widgets.Button(\n",
    "                description='Confirm',\n",
    "                tooltip='Send',\n",
    "                style={'description_width': 'initial'}\n",
    "            )\n",
    "\n",
    "output = widgets.Output()\n",
    "\n",
    "def on_button_clicked(event):\n",
    "    with output:\n",
    "        clear_output()\n",
    "        print(\"Loading...\")\n",
    "        if(fill.value == ''):\n",
    "            print(\"Analysing\" ,category.value, \"news from\", date_start.value,\"to\",date_end.value)\n",
    "        elif(fill.value != ''):\n",
    "            print(\"Analysing\" ,category.value, \"news\", \"with\",fill.value, \"as a keyword from\", date_start.value,\"to\",date_end.value)\n",
    "        temp_start = date_start.value.strftime('%Y-%m-%d')\n",
    "        temp_end = date_end.value.strftime('%Y-%m-%d')\n",
    "        parsed_date = temp_start +','+temp_end\n",
    "        ACCESS_KEY = '243247ebaf607124b6b062d06e319452'\n",
    "\n",
    "        conn = http.client.HTTPConnection('api.mediastack.com')\n",
    "\n",
    "        params = urllib.parse.urlencode({\n",
    "    'access_key': ACCESS_KEY,\n",
    "    'languages' : 'en',\n",
    "    'limit' : '100',\n",
    "    'date' : parsed_date,\n",
    "    'categories' : category.value,\n",
    "    'keywords' : fill.value,\n",
    "    'sources' : source.value,\n",
    "    'sort' : 'published_desc'\n",
    "    })\n",
    "\n",
    "        conn.request('GET', '/v1/news?{}'.format(params))\n",
    "\n",
    "        res = conn.getresponse()\n",
    "        data = res.read()\n",
    "        dict_data = json.loads(data.decode('utf-8'))\n",
    "        if(dict_data['pagination']['count'] != 0):\n",
    "            df = pd.DataFrame()\n",
    "            for x in dict_data['data']:\n",
    "                df = df.append(x, ignore_index=True)\n",
    "            title_df = df['title']\n",
    "            title_df\n",
    "            print(\"Done!\")\n",
    "            display(title_df)\n",
    "        elif (dict_data['pagination']['count'] == 0):\n",
    "            print(\"Not enough data for these parameters. Please try again!\")\n",
    "        \n",
    "        \n",
    "        \n",
    "button_send.on_click(on_button_clicked)\n",
    "\n",
    "vbox_result = widgets.VBox([button_send, output])"
   ]
  },
  {
   "cell_type": "code",
   "execution_count": 48,
   "id": "a8a9e5e2",
   "metadata": {},
   "outputs": [],
   "source": [
    "vbox_text = widgets.VBox([source, category, fill, date_start, date_end, vbox_result])"
   ]
  },
  {
   "cell_type": "code",
   "execution_count": 49,
   "id": "898944f4",
   "metadata": {},
   "outputs": [
    {
     "data": {
      "application/vnd.jupyter.widget-view+json": {
       "model_id": "4b4fba308c5647e1986f603a28214233",
       "version_major": 2,
       "version_minor": 0
      },
      "text/plain": [
       "HBox(children=(VBox(children=(Image(value=b'\\x89PNG\\r\\n\\x1a\\n\\x00\\x00\\x00\\rIHDR\\x00\\x00\\x00\\xe1\\x00\\x00\\x00\\xe…"
      ]
     },
     "metadata": {},
     "output_type": "display_data"
    }
   ],
   "source": [
    "page = widgets.HBox([vbox_headline, vbox_text])\n",
    "display(page)"
   ]
  },
  {
   "cell_type": "code",
   "execution_count": null,
   "id": "080cc7dd",
   "metadata": {},
   "outputs": [],
   "source": []
  },
  {
   "cell_type": "code",
   "execution_count": null,
   "id": "a707df98",
   "metadata": {},
   "outputs": [],
   "source": []
  },
  {
   "cell_type": "code",
   "execution_count": null,
   "id": "67ecdefd",
   "metadata": {},
   "outputs": [],
   "source": []
  },
  {
   "cell_type": "code",
   "execution_count": null,
   "id": "b012b8c0",
   "metadata": {},
   "outputs": [],
   "source": []
  },
  {
   "cell_type": "code",
   "execution_count": null,
   "id": "3b783b25",
   "metadata": {},
   "outputs": [],
   "source": []
  },
  {
   "cell_type": "code",
   "execution_count": null,
   "id": "d3b62c54",
   "metadata": {},
   "outputs": [],
   "source": []
  }
 ],
 "metadata": {
  "kernelspec": {
   "display_name": "Python 3 (ipykernel)",
   "language": "python",
   "name": "python3"
  },
  "language_info": {
   "codemirror_mode": {
    "name": "ipython",
    "version": 3
   },
   "file_extension": ".py",
   "mimetype": "text/x-python",
   "name": "python",
   "nbconvert_exporter": "python",
   "pygments_lexer": "ipython3",
   "version": "3.9.12"
  }
 },
 "nbformat": 4,
 "nbformat_minor": 5
}
