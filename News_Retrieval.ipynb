{
 "cells": [
  {
   "cell_type": "code",
   "execution_count": 5,
   "id": "060badf9",
   "metadata": {},
   "outputs": [],
   "source": [
    "import pandas as pd\n",
    "import json\n",
    "import http.client, urllib.parse\n",
    "# import nbconvert\n",
    "import torch\n",
    "import torch.nn as nn\n",
    "import torch.nn.functional as F\n",
    "from transformers import pipeline"
   ]
  },
  {
   "cell_type": "code",
   "execution_count": 6,
   "id": "ca4f5f58",
   "metadata": {},
   "outputs": [],
   "source": [
    "import voila\n",
    "from transformers import AutoTokenizer, AutoModelForSequenceClassification"
   ]
  },
  {
   "cell_type": "code",
   "execution_count": 7,
   "id": "4a3ff1b6",
   "metadata": {},
   "outputs": [
    {
     "name": "stdout",
     "output_type": "stream",
     "text": [
      "Today's date: 2022-11-06\n"
     ]
    }
   ],
   "source": [
    "from datetime import date\n",
    "\n",
    "today = date.today()\n",
    "print(\"Today's date:\", today)"
   ]
  },
  {
   "cell_type": "code",
   "execution_count": 8,
   "id": "1654024a",
   "metadata": {},
   "outputs": [],
   "source": [
    "# !jupyter serverextension enable voila --sys-prefix"
   ]
  },
  {
   "cell_type": "code",
   "execution_count": 9,
   "id": "ba7f6d6b",
   "metadata": {},
   "outputs": [],
   "source": [
    "model_name = \"finbert_finetuned_train_on_kg.bin\"\n",
    "model = AutoModelForSequenceClassification.from_pretrained(model_name)\n",
    "tokenizer = AutoTokenizer.from_pretrained(model_name)\n",
    "classifier = pipeline(\"sentiment-analysis\", model=model, tokenizer=tokenizer)"
   ]
  },
  {
   "cell_type": "code",
   "execution_count": 10,
   "id": "f7f3e975",
   "metadata": {},
   "outputs": [],
   "source": [
    "import warnings\n",
    "warnings.filterwarnings('ignore')\n",
    "\n",
    "import ipywidgets as widgets\n",
    "from IPython.display import display, clear_output"
   ]
  },
  {
   "cell_type": "code",
   "execution_count": 11,
   "id": "d9bd4800",
   "metadata": {},
   "outputs": [],
   "source": [
    "# Image Widget\n",
    "\n",
    "file = open(\"download.png\", \"rb\")\n",
    "image = file.read()\n",
    "\n",
    "image_headline = widgets.Image(\n",
    "                    value=image,\n",
    "                    format='jpg',\n",
    "                    width='300'\n",
    "                )\n",
    "\n",
    "label_headline = widgets.Label(\n",
    "                    value='Image by Iconka',\n",
    "                    style={'description_width': 'initial'}\n",
    "                )\n",
    "\n",
    "vbox_headline = widgets.VBox([image_headline, label_headline])"
   ]
  },
  {
   "cell_type": "code",
   "execution_count": 12,
   "id": "009b1b2e",
   "metadata": {},
   "outputs": [],
   "source": [
    "# news source\n",
    "\n",
    "source = widgets.Dropdown(\n",
    "    options=[('General',''),('BBC', 'bbc'), ('CNN', 'cnn'), ('ESPN', 'espn')],\n",
    "    value='',\n",
    "    description='Source:',\n",
    ")"
   ]
  },
  {
   "cell_type": "code",
   "execution_count": 13,
   "id": "4401e741",
   "metadata": {},
   "outputs": [],
   "source": [
    "# category\n",
    "\n",
    "category = widgets.Dropdown(\n",
    "    options=[('General', 'general'), ('Business', 'business'),('Entertainment','entertainment'),('Health', 'health'),('Science','science'),('Technology','technology')],\n",
    "    value='general',\n",
    "    description='Category:',\n",
    ")"
   ]
  },
  {
   "cell_type": "code",
   "execution_count": 14,
   "id": "935c52e9",
   "metadata": {},
   "outputs": [],
   "source": [
    "fill = widgets.Text(\n",
    "    value='',\n",
    "    placeholder='Enter Keyword(s)',\n",
    "    description='Keyword:',\n",
    "    disabled=False\n",
    ")"
   ]
  },
  {
   "cell_type": "code",
   "execution_count": 15,
   "id": "2283082c",
   "metadata": {},
   "outputs": [],
   "source": [
    "#Date picker\n",
    "\n",
    "date_start = widgets.DatePicker(value = today, description='Pick a Start')\n",
    "date_end = widgets.DatePicker(value = today,description='Pick an End')"
   ]
  },
  {
   "cell_type": "code",
   "execution_count": 73,
   "id": "7d440210",
   "metadata": {},
   "outputs": [],
   "source": [
    "button_send = widgets.Button(\n",
    "                description='Confirm',\n",
    "                tooltip='Send',\n",
    "                style={'description_width': 'initial'}\n",
    "            )\n",
    "\n",
    "output = widgets.Output()\n",
    "\n",
    "def on_button_clicked(event):\n",
    "    with output:\n",
    "        clear_output()\n",
    "        \n",
    "        if(fill.value == ''):\n",
    "            print(\"Analysing\" ,category.value, \"news from\", date_start.value,\"to\",date_end.value)\n",
    "        elif(fill.value != ''):\n",
    "            print(\"Analysing\" ,category.value, \"news\", \"with\",fill.value, \"as a keyword from\", date_start.value,\"to\",date_end.value)\n",
    "        temp_start = date_start.value.strftime('%Y-%m-%d')\n",
    "        temp_end = date_end.value.strftime('%Y-%m-%d')\n",
    "        parsed_date = temp_start +','+temp_end\n",
    "        ACCESS_KEY = '243247ebaf607124b6b062d06e319452'\n",
    "\n",
    "        conn = http.client.HTTPConnection('api.mediastack.com')\n",
    "\n",
    "        params = urllib.parse.urlencode({\n",
    "    'access_key': ACCESS_KEY,\n",
    "    'languages' : 'en',\n",
    "    'limit' : '100',\n",
    "    'date' : parsed_date,\n",
    "    'categories' : category.value,\n",
    "    'keywords' : fill.value,\n",
    "    'sources' : source.value,\n",
    "    'sort' : 'published_desc'\n",
    "    })\n",
    "\n",
    "        conn.request('GET', '/v1/news?{}'.format(params))\n",
    "\n",
    "        res = conn.getresponse()\n",
    "        data = res.read()\n",
    "        dict_data = json.loads(data.decode('utf-8'))\n",
    "        if(dict_data['pagination']['count'] != 0):\n",
    "            df = pd.DataFrame()\n",
    "            for x in dict_data['data']:\n",
    "                df = df.append(x, ignore_index=True)\n",
    "            title_df = df['title']\n",
    "            title_df\n",
    "            display(title_df)\n",
    "            print(\"Loading...\")\n",
    "            tabulation_df = pd.DataFrame()\n",
    "            neg_count = 0\n",
    "            pos_count = 0\n",
    "            for i in title_df:\n",
    "                if(classifier(i)[0]['label'] == 'negative'):\n",
    "                    neg_count+= 1\n",
    "                    \n",
    "                elif(classifier(i)[0]['label'] == 'positive'):\n",
    "                    pos_count+= 1\n",
    "            print('Analysis complete!')        \n",
    "            print('The ratio of negative to positive is:' ,neg_count,'-',pos_count)\n",
    "            if(neg_count>pos_count):\n",
    "                print('Therefore, the general sentiment is negative.')\n",
    "            else:\n",
    "                print('Therefore, the general sentiment is positive.')\n",
    "                \n",
    "            \n",
    "        elif (dict_data['pagination']['count'] == 0):\n",
    "            print(\"Not enough data for these parameters. Please try again!\")\n",
    "        \n",
    "        \n",
    "        \n",
    "button_send.on_click(on_button_clicked)\n",
    "\n",
    "vbox_result = widgets.VBox([button_send, output])"
   ]
  },
  {
   "cell_type": "code",
   "execution_count": 74,
   "id": "a8a9e5e2",
   "metadata": {},
   "outputs": [],
   "source": [
    "vbox_text = widgets.VBox([source, category, fill, date_start, date_end, vbox_result])"
   ]
  },
  {
   "cell_type": "code",
   "execution_count": 75,
   "id": "898944f4",
   "metadata": {},
   "outputs": [
    {
     "data": {
      "application/vnd.jupyter.widget-view+json": {
       "model_id": "0b21cf02ee6f4722b5a6d33506999a9a",
       "version_major": 2,
       "version_minor": 0
      },
      "text/plain": [
       "HBox(children=(VBox(children=(Image(value=b'\\x89PNG\\r\\n\\x1a\\n\\x00\\x00\\x00\\rIHDR\\x00\\x00\\x00\\xe1\\x00\\x00\\x00\\xe…"
      ]
     },
     "metadata": {},
     "output_type": "display_data"
    }
   ],
   "source": [
    "page = widgets.HBox([vbox_headline, vbox_text])\n",
    "display(page)"
   ]
  },
  {
   "cell_type": "code",
   "execution_count": null,
   "id": "3b783b25",
   "metadata": {},
   "outputs": [],
   "source": []
  },
  {
   "cell_type": "code",
   "execution_count": null,
   "id": "d3b62c54",
   "metadata": {},
   "outputs": [],
   "source": []
  }
 ],
 "metadata": {
  "kernelspec": {
   "display_name": "Python 3 (ipykernel)",
   "language": "python",
   "name": "python3"
  },
  "language_info": {
   "codemirror_mode": {
    "name": "ipython",
    "version": 3
   },
   "file_extension": ".py",
   "mimetype": "text/x-python",
   "name": "python",
   "nbconvert_exporter": "python",
   "pygments_lexer": "ipython3",
   "version": "3.9.12"
  }
 },
 "nbformat": 4,
 "nbformat_minor": 5
}
