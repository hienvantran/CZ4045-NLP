{
 "cells": [
  {
   "cell_type": "code",
   "execution_count": 1,
   "id": "2a66d409",
   "metadata": {
    "execution": {
     "iopub.execute_input": "2022-11-03T19:20:55.481537Z",
     "iopub.status.busy": "2022-11-03T19:20:55.481055Z",
     "iopub.status.idle": "2022-11-03T19:20:55.487412Z",
     "shell.execute_reply": "2022-11-03T19:20:55.486239Z"
    },
    "papermill": {
     "duration": 0.023954,
     "end_time": "2022-11-03T19:20:55.489720",
     "exception": false,
     "start_time": "2022-11-03T19:20:55.465766",
     "status": "completed"
    },
    "tags": []
   },
   "outputs": [],
   "source": [
    "# !python -m spacy download en_core_web_sm"
   ]
  },
  {
   "cell_type": "code",
   "execution_count": 2,
   "id": "0d6f1570",
   "metadata": {
    "execution": {
     "iopub.execute_input": "2022-11-03T19:20:55.516540Z",
     "iopub.status.busy": "2022-11-03T19:20:55.516127Z",
     "iopub.status.idle": "2022-11-03T19:21:08.635034Z",
     "shell.execute_reply": "2022-11-03T19:21:08.633509Z"
    },
    "papermill": {
     "duration": 13.136158,
     "end_time": "2022-11-03T19:21:08.637824",
     "exception": false,
     "start_time": "2022-11-03T19:20:55.501666",
     "status": "completed"
    },
    "tags": []
   },
   "outputs": [],
   "source": [
    "#Others required libraries \n",
    "import numpy as np\n",
    "import pandas as pd\n",
    "import seaborn as sns\n",
    "import matplotlib.pyplot as plt\n",
    "from prettytable import PrettyTable"
   ]
  },
  {
   "cell_type": "code",
   "execution_count": 3,
   "id": "5c88876c",
   "metadata": {
    "execution": {
     "iopub.execute_input": "2022-11-03T19:21:08.662846Z",
     "iopub.status.busy": "2022-11-03T19:21:08.661930Z",
     "iopub.status.idle": "2022-11-03T19:21:08.820687Z",
     "shell.execute_reply": "2022-11-03T19:21:08.819450Z"
    },
    "papermill": {
     "duration": 0.174526,
     "end_time": "2022-11-03T19:21:08.823708",
     "exception": false,
     "start_time": "2022-11-03T19:21:08.649182",
     "status": "completed"
    },
    "tags": []
   },
   "outputs": [],
   "source": [
    "training_headline_df = pd.read_csv('../input/reddit-fin-headlines-data/2k_new_labelled.csv')[['sentiment', 'title']]\n",
    "serving_headline_df = pd.read_csv('../input/reddit-fin-headlines-data/8k-labelled-vader.csv')[['sentiment','title']]\n",
    "\n",
    "kaggle_headline_df = pd.read_csv('../input/sentiment-analysis-for-financial-news/all-data.csv', sep=',', encoding='latin-1',names = [\"sentiment\",\"title\"])\n",
    "combined_df = pd.concat([training_headline_df, kaggle_headline_df]).sample(frac=1)"
   ]
  },
  {
   "cell_type": "markdown",
   "id": "d017792e",
   "metadata": {
    "papermill": {
     "duration": 0.011653,
     "end_time": "2022-11-03T19:21:10.673066",
     "exception": false,
     "start_time": "2022-11-03T19:21:10.661413",
     "status": "completed"
    },
    "tags": []
   },
   "source": [
    "# Deep Learning"
   ]
  },
  {
   "cell_type": "code",
   "execution_count": 13,
   "id": "5e2e8d3e",
   "metadata": {
    "execution": {
     "iopub.execute_input": "2022-11-03T19:21:10.698516Z",
     "iopub.status.busy": "2022-11-03T19:21:10.697880Z",
     "iopub.status.idle": "2022-11-03T19:21:11.803240Z",
     "shell.execute_reply": "2022-11-03T19:21:11.801801Z"
    },
    "papermill": {
     "duration": 1.121375,
     "end_time": "2022-11-03T19:21:11.806302",
     "exception": false,
     "start_time": "2022-11-03T19:21:10.684927",
     "status": "completed"
    },
    "tags": []
   },
   "outputs": [],
   "source": [
    "#Sklearn \n",
    "from sklearn.metrics import confusion_matrix, accuracy_score, f1_score\n",
    "from sklearn.model_selection import train_test_split\n",
    "from sklearn.preprocessing import LabelEncoder\n",
    "\n",
    "#tensorflow\n",
    "import keras\n",
    "import tensorflow as tf\n",
    "from keras import backend as K\n",
    "from tensorflow.keras import optimizers\n",
    "from keras.models import Model, load_model\n",
    "from keras.models import Sequential\n",
    "from keras.layers import Dense\n",
    "from keras.preprocessing.text import Tokenizer\n",
    "from keras.preprocessing.sequence import pad_sequences\n",
    "from tensorflow.keras.utils import to_categorical,plot_model"
   ]
  },
  {
   "cell_type": "code",
   "execution_count": 14,
   "id": "16ad1b4b",
   "metadata": {
    "execution": {
     "iopub.execute_input": "2022-11-03T19:21:11.831311Z",
     "iopub.status.busy": "2022-11-03T19:21:11.830880Z",
     "iopub.status.idle": "2022-11-03T19:21:11.836092Z",
     "shell.execute_reply": "2022-11-03T19:21:11.834721Z"
    },
    "papermill": {
     "duration": 0.020412,
     "end_time": "2022-11-03T19:21:11.838507",
     "exception": false,
     "start_time": "2022-11-03T19:21:11.818095",
     "status": "completed"
    },
    "tags": []
   },
   "outputs": [],
   "source": [
    "finbert = \"../input/finbert/\"\n",
    "cnnlstm = \"../input/cnnlstm-weight/\""
   ]
  },
  {
   "cell_type": "code",
   "execution_count": 15,
   "id": "579fb813",
   "metadata": {
    "execution": {
     "iopub.execute_input": "2022-11-03T19:21:11.863400Z",
     "iopub.status.busy": "2022-11-03T19:21:11.862983Z",
     "iopub.status.idle": "2022-11-03T19:21:11.868154Z",
     "shell.execute_reply": "2022-11-03T19:21:11.867017Z"
    },
    "papermill": {
     "duration": 0.020523,
     "end_time": "2022-11-03T19:21:11.870495",
     "exception": false,
     "start_time": "2022-11-03T19:21:11.849972",
     "status": "completed"
    },
    "tags": []
   },
   "outputs": [],
   "source": [
    "model_names = [\n",
    "    \"train_on_reddit\",\n",
    "    \"transfer_learning_on_reddit\",\n",
    "    \"combined_data\" ]\n"
   ]
  },
  {
   "cell_type": "code",
   "execution_count": 16,
   "id": "f1274b9a",
   "metadata": {
    "execution": {
     "iopub.execute_input": "2022-11-03T19:21:11.895426Z",
     "iopub.status.busy": "2022-11-03T19:21:11.895002Z",
     "iopub.status.idle": "2022-11-03T19:21:11.900887Z",
     "shell.execute_reply": "2022-11-03T19:21:11.899603Z"
    },
    "papermill": {
     "duration": 0.021097,
     "end_time": "2022-11-03T19:21:11.903514",
     "exception": false,
     "start_time": "2022-11-03T19:21:11.882417",
     "status": "completed"
    },
    "tags": []
   },
   "outputs": [],
   "source": [
    "# Split training_headline_df into training and test with ratio 9:1\n",
    "train_df = training_headline_df.iloc[:1842]\n",
    "test_df = training_headline_df.iloc[1842:]"
   ]
  },
  {
   "cell_type": "code",
   "execution_count": 17,
   "id": "4f21ef98",
   "metadata": {
    "execution": {
     "iopub.execute_input": "2022-11-03T19:21:11.928350Z",
     "iopub.status.busy": "2022-11-03T19:21:11.927940Z",
     "iopub.status.idle": "2022-11-03T19:21:11.933548Z",
     "shell.execute_reply": "2022-11-03T19:21:11.932233Z"
    },
    "papermill": {
     "duration": 0.020554,
     "end_time": "2022-11-03T19:21:11.935857",
     "exception": false,
     "start_time": "2022-11-03T19:21:11.915303",
     "status": "completed"
    },
    "tags": []
   },
   "outputs": [],
   "source": [
    "model_name = model_names[-1]\n",
    "cnn_cpt =  f\"{cnnlstm}cnn_{model_name}.h5\"\n",
    "lstm_cpt =  f\"{cnnlstm}lstm_{model_name}.h5\"\n",
    "bert_cpt = f\"../input/finbert/finbert_finetuned_{model_name}.bin\""
   ]
  },
  {
   "cell_type": "code",
   "execution_count": 18,
   "id": "3972165e",
   "metadata": {
    "execution": {
     "iopub.execute_input": "2022-11-03T19:21:11.961203Z",
     "iopub.status.busy": "2022-11-03T19:21:11.960790Z",
     "iopub.status.idle": "2022-11-03T19:21:11.967321Z",
     "shell.execute_reply": "2022-11-03T19:21:11.966108Z"
    },
    "papermill": {
     "duration": 0.022411,
     "end_time": "2022-11-03T19:21:11.969767",
     "exception": false,
     "start_time": "2022-11-03T19:21:11.947356",
     "status": "completed"
    },
    "tags": []
   },
   "outputs": [],
   "source": [
    "id2label = {\n",
    "    0: \"positive\",\n",
    "    1: \"negative\",\n",
    "    2: \"neutral\"\n",
    "  }\n",
    "\n",
    "cnn_lstm_id2label = {\n",
    "    0: \"positive\",\n",
    "    1: \"neutral\",\n",
    "    2: \"negative\"\n",
    "  }\n",
    "\n",
    "bert2cnn = {\n",
    "    0: 0,\n",
    "    1: 2,\n",
    "    2: 1\n",
    "  }"
   ]
  },
  {
   "cell_type": "markdown",
   "id": "5e0ecbff",
   "metadata": {
    "execution": {
     "iopub.execute_input": "2022-11-03T17:56:13.588414Z",
     "iopub.status.busy": "2022-11-03T17:56:13.587601Z",
     "iopub.status.idle": "2022-11-03T17:56:13.597455Z",
     "shell.execute_reply": "2022-11-03T17:56:13.596308Z",
     "shell.execute_reply.started": "2022-11-03T17:56:13.588366Z"
    },
    "papermill": {
     "duration": 0.011306,
     "end_time": "2022-11-03T19:21:11.992349",
     "exception": false,
     "start_time": "2022-11-03T19:21:11.981043",
     "status": "completed"
    },
    "tags": []
   },
   "source": [
    "### Loading Keras models: CNN, LSTM"
   ]
  },
  {
   "cell_type": "code",
   "execution_count": 19,
   "id": "78ca6058",
   "metadata": {
    "execution": {
     "iopub.execute_input": "2022-11-03T19:21:12.017397Z",
     "iopub.status.busy": "2022-11-03T19:21:12.016910Z",
     "iopub.status.idle": "2022-11-03T19:21:12.025679Z",
     "shell.execute_reply": "2022-11-03T19:21:12.024477Z"
    },
    "papermill": {
     "duration": 0.023844,
     "end_time": "2022-11-03T19:21:12.027899",
     "exception": false,
     "start_time": "2022-11-03T19:21:12.004055",
     "status": "completed"
    },
    "tags": []
   },
   "outputs": [],
   "source": [
    "def recall_m(y_true, y_pred):\n",
    "        true_positives     = K.sum(K.round(K.clip(y_true * y_pred, 0, 1)))\n",
    "        possible_positives = K.sum(K.round(K.clip(y_true, 0, 1)))\n",
    "        recall             = true_positives / (possible_positives + K.epsilon())\n",
    "        return recall\n",
    "\n",
    "def precision_m(y_true, y_pred):\n",
    "        true_positives      = K.sum(K.round(K.clip(y_true * y_pred, 0, 1)))\n",
    "        predicted_positives = K.sum(K.round(K.clip(y_pred, 0, 1)))\n",
    "        precision           = true_positives / (predicted_positives + K.epsilon())\n",
    "        return precision\n",
    "\n",
    "def f1_m(y_true, y_pred):\n",
    "    precision = precision_m(y_true, y_pred)\n",
    "    recall    = recall_m(y_true, y_pred)\n",
    "    return    2*(precision*recall)/(precision+recall+K.epsilon())"
   ]
  },
  {
   "cell_type": "code",
   "execution_count": 20,
   "id": "1341deb4",
   "metadata": {
    "execution": {
     "iopub.execute_input": "2022-11-03T19:21:12.052181Z",
     "iopub.status.busy": "2022-11-03T19:21:12.051732Z",
     "iopub.status.idle": "2022-11-03T19:21:12.058190Z",
     "shell.execute_reply": "2022-11-03T19:21:12.056988Z"
    },
    "papermill": {
     "duration": 0.021373,
     "end_time": "2022-11-03T19:21:12.060469",
     "exception": false,
     "start_time": "2022-11-03T19:21:12.039096",
     "status": "completed"
    },
    "tags": []
   },
   "outputs": [],
   "source": [
    "tokens = Tokenizer(oov_token = '<OOV>', lower=True, split=' ')\n",
    "def get_vocab_size(df):\n",
    "    tokens.fit_on_texts(df['title'].values)\n",
    "    vocab_size = len(tokens.word_index) + 1\n",
    "    return vocab_size, tokens"
   ]
  },
  {
   "cell_type": "code",
   "execution_count": 21,
   "id": "0b834d08",
   "metadata": {
    "execution": {
     "iopub.execute_input": "2022-11-03T19:21:12.085500Z",
     "iopub.status.busy": "2022-11-03T19:21:12.085058Z",
     "iopub.status.idle": "2022-11-03T19:21:12.092413Z",
     "shell.execute_reply": "2022-11-03T19:21:12.091447Z"
    },
    "papermill": {
     "duration": 0.022272,
     "end_time": "2022-11-03T19:21:12.094624",
     "exception": false,
     "start_time": "2022-11-03T19:21:12.072352",
     "status": "completed"
    },
    "tags": []
   },
   "outputs": [],
   "source": [
    "def prepare_data(headline_df):\n",
    "\n",
    "    le = LabelEncoder()\n",
    "    le.fit_transform(headline_df['title'])\n",
    "    vocab_size, tokens = get_vocab_size(headline_df)\n",
    "    headline_df['title'] = headline_df['title'].astype(str)\n",
    "    encoded_train = tokens.texts_to_sequences(headline_df['title'])\n",
    "    padded_train = pad_sequences(encoded_train, maxlen=200, padding='post', truncating='post')\n",
    "    \n",
    "    #label encoding\n",
    "    le = LabelEncoder()\n",
    "    headline_df['encoded_category'] = le.fit_transform(headline_df['sentiment'])\n",
    "    y = headline_df[\"encoded_category\"].values\n",
    "    y = to_categorical(y, num_classes=3)\n",
    "\n",
    "    return le, padded_train, y"
   ]
  },
  {
   "cell_type": "code",
   "execution_count": 22,
   "id": "72ca59c8",
   "metadata": {
    "execution": {
     "iopub.execute_input": "2022-11-03T19:21:12.121311Z",
     "iopub.status.busy": "2022-11-03T19:21:12.119921Z",
     "iopub.status.idle": "2022-11-03T19:21:12.127616Z",
     "shell.execute_reply": "2022-11-03T19:21:12.126254Z"
    },
    "papermill": {
     "duration": 0.023757,
     "end_time": "2022-11-03T19:21:12.130250",
     "exception": false,
     "start_time": "2022-11-03T19:21:12.106493",
     "status": "completed"
    },
    "tags": []
   },
   "outputs": [],
   "source": [
    "def get_keras_pred(model_name, X_train):\n",
    "    cnn_cpt = f\"../input/cnnlstm-weight/cnn_{model_name}.h5\"\n",
    "    lstm_cpt = f\"../input/cnnlstm-weight/lstm_{model_name}.h5\"\n",
    "\n",
    "    cnn_model = keras.models.load_model(cnn_cpt, custom_objects={\"f1_m\": f1_m, \"precision_m\": precision_m, \"recall_m\": recall_m})\n",
    "    cnn_preds = cnn_model.predict(X_train)\n",
    "\n",
    "    lstm_model = keras.models.load_model(lstm_cpt, custom_objects={\"f1_m\": f1_m, \"precision_m\": precision_m, \"recall_m\": recall_m})\n",
    "    lstm_preds = lstm_model.predict(X_train)\n",
    "    \n",
    "    return (cnn_preds, lstm_preds)"
   ]
  },
  {
   "cell_type": "code",
   "execution_count": 23,
   "id": "a2e24006",
   "metadata": {
    "execution": {
     "iopub.execute_input": "2022-11-03T19:21:12.156225Z",
     "iopub.status.busy": "2022-11-03T19:21:12.155113Z",
     "iopub.status.idle": "2022-11-03T19:21:12.162320Z",
     "shell.execute_reply": "2022-11-03T19:21:12.160766Z"
    },
    "papermill": {
     "duration": 0.023122,
     "end_time": "2022-11-03T19:21:12.165103",
     "exception": false,
     "start_time": "2022-11-03T19:21:12.141981",
     "status": "completed"
    },
    "tags": []
   },
   "outputs": [],
   "source": [
    "def get_cnn_lstm_train_test_pred(train_df, test_df):\n",
    "\n",
    "    le_train, padded_train, y = prepare_data(train_df)\n",
    "    (cnn_preds, lstm_preds) = get_keras_pred(model_name, padded_train)\n",
    "\n",
    "    le_test, padded_test, y_test = prepare_data(test_df)\n",
    "    (test_cnn_preds, test_lstm_preds) = get_keras_pred(model_name, padded_test)\n",
    "    \n",
    "    return (cnn_preds, lstm_preds), (test_cnn_preds, test_lstm_preds), (y, y_test)"
   ]
  },
  {
   "cell_type": "code",
   "execution_count": 24,
   "id": "c6b7ab91",
   "metadata": {
    "execution": {
     "iopub.execute_input": "2022-11-03T19:21:12.191370Z",
     "iopub.status.busy": "2022-11-03T19:21:12.190020Z",
     "iopub.status.idle": "2022-11-03T19:21:12.198255Z",
     "shell.execute_reply": "2022-11-03T19:21:12.197319Z"
    },
    "papermill": {
     "duration": 0.024311,
     "end_time": "2022-11-03T19:21:12.200861",
     "exception": false,
     "start_time": "2022-11-03T19:21:12.176550",
     "status": "completed"
    },
    "tags": []
   },
   "outputs": [],
   "source": [
    "def get_cnn_lstm_serving_pred(headline_df):\n",
    "\n",
    "    le = LabelEncoder()\n",
    "    le.fit_transform(headline_df['title'])\n",
    "    vocab_size, tokens = get_vocab_size(headline_df)\n",
    "    headline_df['title'] = headline_df['title'].astype(str)\n",
    "    encoded_train = tokens.texts_to_sequences(headline_df['title'])\n",
    "    padded_train = pad_sequences(encoded_train, maxlen=200, padding='post', truncating='post')\n",
    "    \n",
    "    (cnn_preds, lstm_preds) = get_keras_pred(model_name, padded_train)\n",
    "    \n",
    "    return (cnn_preds.argmax(axis=-1), lstm_preds.argmax(axis=-1))"
   ]
  },
  {
   "cell_type": "markdown",
   "id": "fda359ff",
   "metadata": {
    "execution": {
     "iopub.execute_input": "2022-11-03T17:56:21.700680Z",
     "iopub.status.busy": "2022-11-03T17:56:21.699567Z",
     "iopub.status.idle": "2022-11-03T17:56:24.708180Z",
     "shell.execute_reply": "2022-11-03T17:56:24.707086Z",
     "shell.execute_reply.started": "2022-11-03T17:56:21.700643Z"
    },
    "papermill": {
     "duration": 0.011193,
     "end_time": "2022-11-03T19:21:12.223957",
     "exception": false,
     "start_time": "2022-11-03T19:21:12.212764",
     "status": "completed"
    },
    "tags": []
   },
   "source": [
    "### Loading FinBERT"
   ]
  },
  {
   "cell_type": "code",
   "execution_count": 25,
   "id": "b3aa8b9b",
   "metadata": {
    "execution": {
     "iopub.execute_input": "2022-11-03T19:21:12.250974Z",
     "iopub.status.busy": "2022-11-03T19:21:12.249924Z",
     "iopub.status.idle": "2022-11-03T19:21:14.592828Z",
     "shell.execute_reply": "2022-11-03T19:21:14.591535Z"
    },
    "papermill": {
     "duration": 2.359705,
     "end_time": "2022-11-03T19:21:14.595747",
     "exception": false,
     "start_time": "2022-11-03T19:21:12.236042",
     "status": "completed"
    },
    "tags": []
   },
   "outputs": [],
   "source": [
    "from transformers import (\n",
    "    AutoTokenizer, \n",
    "    DataCollatorWithPadding,\n",
    "    TrainingArguments,\n",
    "    Trainer,\n",
    "    AutoModelForSequenceClassification,\n",
    ")\n",
    "\n",
    "from datasets import Dataset, load_metric\n",
    "\n",
    "import torch\n",
    "import torch.nn as nn\n",
    "from tqdm.auto import tqdm\n",
    "\n",
    "from scipy.optimize import differential_evolution\n",
    "from tensorflow.keras import layers\n",
    "from keras.callbacks import ModelCheckpoint, TensorBoard, EarlyStopping, ReduceLROnPlateau\n",
    "from tensorflow.keras.utils import to_categorical,plot_model"
   ]
  },
  {
   "cell_type": "code",
   "execution_count": 26,
   "id": "cc7cac3d",
   "metadata": {
    "execution": {
     "iopub.execute_input": "2022-11-03T19:21:14.621286Z",
     "iopub.status.busy": "2022-11-03T19:21:14.619959Z",
     "iopub.status.idle": "2022-11-03T19:21:14.628005Z",
     "shell.execute_reply": "2022-11-03T19:21:14.626475Z"
    },
    "papermill": {
     "duration": 0.02336,
     "end_time": "2022-11-03T19:21:14.630544",
     "exception": false,
     "start_time": "2022-11-03T19:21:14.607184",
     "status": "completed"
    },
    "tags": []
   },
   "outputs": [],
   "source": [
    "from sklearn.metrics import accuracy_score, precision_recall_fscore_support\n",
    "\n",
    "def compute_metrics(pred):\n",
    "    labels = pred.label_ids\n",
    "    preds = pred.predictions.argmax(-1)\n",
    "    precision, recall, f1, _ = precision_recall_fscore_support(labels, preds, average='macro')\n",
    "    acc = accuracy_score(labels, preds)\n",
    "    return {\n",
    "        'accuracy': acc,\n",
    "        'f1': f1,\n",
    "        'precision': precision,\n",
    "        'recall': recall}"
   ]
  },
  {
   "cell_type": "code",
   "execution_count": 27,
   "id": "cced23a7",
   "metadata": {
    "execution": {
     "iopub.execute_input": "2022-11-03T19:21:14.656390Z",
     "iopub.status.busy": "2022-11-03T19:21:14.655906Z",
     "iopub.status.idle": "2022-11-03T19:21:14.663426Z",
     "shell.execute_reply": "2022-11-03T19:21:14.662111Z"
    },
    "papermill": {
     "duration": 0.023581,
     "end_time": "2022-11-03T19:21:14.666012",
     "exception": false,
     "start_time": "2022-11-03T19:21:14.642431",
     "status": "completed"
    },
    "tags": []
   },
   "outputs": [],
   "source": [
    "def prep_testing_data(headline_df, tokenizer):\n",
    "\n",
    "    def tokenize_fn(examples):\n",
    "        return tokenizer(examples['text'], truncation=True)\n",
    "\n",
    "    headline_df['sentiment'] = LabelEncoder().fit_transform(headline_df['sentiment'])\n",
    "    X, y = headline_df['title'].values, headline_df['sentiment'].values\n",
    "    \n",
    "    \n",
    "    dataset_raw = Dataset.from_dict({'text':X, 'labels': y})\n",
    "    dataset = dataset_raw.map(tokenize_fn, batched=True)\n",
    "    \n",
    "    return dataset"
   ]
  },
  {
   "cell_type": "code",
   "execution_count": 28,
   "id": "b788df1c",
   "metadata": {
    "execution": {
     "iopub.execute_input": "2022-11-03T19:21:14.690725Z",
     "iopub.status.busy": "2022-11-03T19:21:14.690296Z",
     "iopub.status.idle": "2022-11-03T19:21:14.697778Z",
     "shell.execute_reply": "2022-11-03T19:21:14.696439Z"
    },
    "papermill": {
     "duration": 0.022939,
     "end_time": "2022-11-03T19:21:14.700367",
     "exception": false,
     "start_time": "2022-11-03T19:21:14.677428",
     "status": "completed"
    },
    "tags": []
   },
   "outputs": [],
   "source": [
    "def get_pred(model, dataset, tokenizer):\n",
    "    data_collator = DataCollatorWithPadding(tokenizer)\n",
    "    \n",
    "    # arguments for Trainer\n",
    "    test_args = TrainingArguments(\n",
    "        output_dir = bert_cpt,\n",
    "        do_train = False,\n",
    "        do_predict = True,\n",
    "        per_device_eval_batch_size = 64,   \n",
    "        dataloader_drop_last = False    \n",
    "    )\n",
    "\n",
    "    # init trainer\n",
    "    trainer = Trainer(\n",
    "                  model = model, \n",
    "                  args = test_args, \n",
    "                  data_collator=data_collator,\n",
    "                  compute_metrics = compute_metrics)\n",
    "    \n",
    "    test_results = trainer.predict(dataset)\n",
    "    \n",
    "    return test_results"
   ]
  },
  {
   "cell_type": "code",
   "execution_count": 29,
   "id": "b771fba2",
   "metadata": {
    "execution": {
     "iopub.execute_input": "2022-11-03T19:21:14.726316Z",
     "iopub.status.busy": "2022-11-03T19:21:14.725889Z",
     "iopub.status.idle": "2022-11-03T19:21:14.733956Z",
     "shell.execute_reply": "2022-11-03T19:21:14.732448Z"
    },
    "papermill": {
     "duration": 0.024112,
     "end_time": "2022-11-03T19:21:14.736664",
     "exception": false,
     "start_time": "2022-11-03T19:21:14.712552",
     "status": "completed"
    },
    "tags": []
   },
   "outputs": [],
   "source": [
    "def get_bert_train_test_pred(train_df, test_df):\n",
    "    model = AutoModelForSequenceClassification.from_pretrained(bert_cpt)\n",
    "    tokenizer = AutoTokenizer.from_pretrained(bert_cpt)\n",
    "\n",
    "    train_dataset = prep_testing_data(train_df, tokenizer)\n",
    "    train_results = get_pred(model, train_dataset, tokenizer)\n",
    "    bert_preds = train_results.predictions\n",
    "    \n",
    "    test_dataset = prep_testing_data(test_df, tokenizer)\n",
    "    test_results = get_pred(model,test_dataset, tokenizer)\n",
    "    test_bert_preds = test_results.predictions\n",
    "    \n",
    "    return (bert_preds, test_bert_preds)\n",
    "    "
   ]
  },
  {
   "cell_type": "code",
   "execution_count": 30,
   "id": "f5bbc6ee",
   "metadata": {
    "execution": {
     "iopub.execute_input": "2022-11-03T19:21:14.761904Z",
     "iopub.status.busy": "2022-11-03T19:21:14.761487Z",
     "iopub.status.idle": "2022-11-03T19:21:14.769697Z",
     "shell.execute_reply": "2022-11-03T19:21:14.768267Z"
    },
    "papermill": {
     "duration": 0.023748,
     "end_time": "2022-11-03T19:21:14.772191",
     "exception": false,
     "start_time": "2022-11-03T19:21:14.748443",
     "status": "completed"
    },
    "tags": []
   },
   "outputs": [],
   "source": [
    "def get_bert_serve_pred(headline_df):\n",
    "    model = AutoModelForSequenceClassification.from_pretrained(bert_cpt)\n",
    "    tokenizer = AutoTokenizer.from_pretrained(bert_cpt)\n",
    "\n",
    "    def tokenize_fn(examples):\n",
    "        return tokenizer(examples['text'], truncation=True)\n",
    "\n",
    "    X = headline_df['title'].values\n",
    "    \n",
    "    dataset_raw = Dataset.from_dict({'text':X})\n",
    "    dataset = dataset_raw.map(tokenize_fn, batched=True)\n",
    "    \n",
    "    train_results = get_pred(model, dataset, tokenizer)\n",
    "    bert_preds = train_results.predictions.argmax(axis=-1)\n",
    "    \n",
    "    return bert_preds\n",
    "    "
   ]
  },
  {
   "cell_type": "code",
   "execution_count": 31,
   "id": "08af60c9",
   "metadata": {
    "execution": {
     "iopub.execute_input": "2022-11-03T19:21:14.798571Z",
     "iopub.status.busy": "2022-11-03T19:21:14.798123Z",
     "iopub.status.idle": "2022-11-03T19:21:14.806300Z",
     "shell.execute_reply": "2022-11-03T19:21:14.805098Z"
    },
    "papermill": {
     "duration": 0.024728,
     "end_time": "2022-11-03T19:21:14.809065",
     "exception": false,
     "start_time": "2022-11-03T19:21:14.784337",
     "status": "completed"
    },
    "tags": []
   },
   "outputs": [],
   "source": [
    "def prediction_df(cnn_preds, lstm_preds, bert_preds, y):\n",
    "    train_cnn_preds, train_lstm_preds, train_bert_preds, y_train = cnn_preds.argmax(axis=-1), lstm_preds.argmax(axis=-1), bert_preds.argmax(axis=-1), y.argmax(axis=-1)\n",
    "    train_bert2cnn_preds = np.vectorize(bert2cnn.get)(train_bert_preds)\n",
    "    preds_df = pd.DataFrame()\n",
    "    preds_df['cnn'], preds_df['lstm'], preds_df['bert'], preds_df['label'] = train_cnn_preds, train_lstm_preds, train_bert2cnn_preds, y_train\n",
    "    \n",
    "    return preds_df"
   ]
  },
  {
   "cell_type": "code",
   "execution_count": 32,
   "id": "8bf4fd6c",
   "metadata": {
    "execution": {
     "iopub.execute_input": "2022-11-03T19:21:14.833714Z",
     "iopub.status.busy": "2022-11-03T19:21:14.833251Z",
     "iopub.status.idle": "2022-11-03T19:21:14.839732Z",
     "shell.execute_reply": "2022-11-03T19:21:14.838608Z"
    },
    "papermill": {
     "duration": 0.021835,
     "end_time": "2022-11-03T19:21:14.842267",
     "exception": false,
     "start_time": "2022-11-03T19:21:14.820432",
     "status": "completed"
    },
    "tags": []
   },
   "outputs": [],
   "source": [
    "def dataframe_to_dataset(dataframe):\n",
    "    dataframe = dataframe.copy()\n",
    "    labels = dataframe.pop(\"label\")\n",
    "    y = to_categorical(labels, num_classes=3)\n",
    "    ds = tf.data.Dataset.from_tensor_slices((dict(dataframe), y))\n",
    "    ds = ds.shuffle(buffer_size=len(dataframe))\n",
    "    return ds"
   ]
  },
  {
   "cell_type": "code",
   "execution_count": 33,
   "id": "1a0bc804",
   "metadata": {
    "execution": {
     "iopub.execute_input": "2022-11-03T19:21:14.866928Z",
     "iopub.status.busy": "2022-11-03T19:21:14.866538Z",
     "iopub.status.idle": "2022-11-03T19:21:14.874531Z",
     "shell.execute_reply": "2022-11-03T19:21:14.873217Z"
    },
    "papermill": {
     "duration": 0.023334,
     "end_time": "2022-11-03T19:21:14.876910",
     "exception": false,
     "start_time": "2022-11-03T19:21:14.853576",
     "status": "completed"
    },
    "tags": []
   },
   "outputs": [],
   "source": [
    "from tensorflow.keras.layers import IntegerLookup\n",
    "from tensorflow.keras.layers import StringLookup\n",
    "\n",
    "def encode_categorical_feature(feature, name, dataset, is_string):\n",
    "    lookup_class = StringLookup if is_string else IntegerLookup\n",
    "    # Create a lookup layer which will turn strings into integer indices\n",
    "    lookup = lookup_class(output_mode=\"binary\")\n",
    "\n",
    "    # Prepare a Dataset that only yields our feature\n",
    "    feature_ds = dataset.map(lambda x, y: x[name])\n",
    "    feature_ds = feature_ds.map(lambda x: tf.expand_dims(x, -1))\n",
    "\n",
    "    # Learn the set of possible string values and assign them a fixed integer index\n",
    "    lookup.adapt(feature_ds)\n",
    "\n",
    "    # Turn the string input into integer indices\n",
    "    encoded_feature = lookup(feature)\n",
    "    return encoded_feature\n"
   ]
  },
  {
   "cell_type": "code",
   "execution_count": 34,
   "id": "651f427c",
   "metadata": {
    "execution": {
     "iopub.execute_input": "2022-11-03T19:21:14.902581Z",
     "iopub.status.busy": "2022-11-03T19:21:14.901457Z",
     "iopub.status.idle": "2022-11-03T19:21:14.909262Z",
     "shell.execute_reply": "2022-11-03T19:21:14.907877Z"
    },
    "papermill": {
     "duration": 0.023305,
     "end_time": "2022-11-03T19:21:14.911970",
     "exception": false,
     "start_time": "2022-11-03T19:21:14.888665",
     "status": "completed"
    },
    "tags": []
   },
   "outputs": [],
   "source": [
    "def create_callbacks():\n",
    "    reduce_lr = ReduceLROnPlateau(monitor='val_f1_m', \n",
    "                                  mode = 'max', \n",
    "                                  factor=0.5, \n",
    "                                  patience=5, \n",
    "                                  min_lr=0.0001, \n",
    "                                  verbose=10)\n",
    "\n",
    "    checkpoint = ModelCheckpoint(f\"ensemble_training\", \n",
    "                                   monitor=\"val_loss\", \n",
    "                                   mode=\"min\", \n",
    "                                   save_best_only = True, \n",
    "                                   verbose=1)\n",
    "\n",
    "    earlystop = EarlyStopping(monitor = 'val_loss', \n",
    "                                mode=\"min\", \n",
    "                                min_delta = 0, \n",
    "                                patience = 5,\n",
    "                                verbose=1)\n",
    "    callbacks = [reduce_lr, checkpoint, earlystop]\n",
    "    return callbacks"
   ]
  },
  {
   "cell_type": "code",
   "execution_count": 35,
   "id": "c6aac501",
   "metadata": {
    "execution": {
     "iopub.execute_input": "2022-11-03T19:21:14.937633Z",
     "iopub.status.busy": "2022-11-03T19:21:14.936312Z",
     "iopub.status.idle": "2022-11-03T19:21:14.943451Z",
     "shell.execute_reply": "2022-11-03T19:21:14.942575Z"
    },
    "papermill": {
     "duration": 0.022474,
     "end_time": "2022-11-03T19:21:14.945954",
     "exception": false,
     "start_time": "2022-11-03T19:21:14.923480",
     "status": "completed"
    },
    "tags": []
   },
   "outputs": [],
   "source": [
    "def return_train_val_test_ds(preds_df, test_preds_df):\n",
    "    testing_df = preds_df.sample(frac=0.1)\n",
    "    training_df = preds_df.drop(testing_df.index)\n",
    "    train_ds = dataframe_to_dataset(training_df).batch(64)\n",
    "    val_ds = dataframe_to_dataset(testing_df).batch(64)\n",
    "    test_ds = dataframe_to_dataset(test_preds_df).batch(64)   \n",
    "    \n",
    "    return (train_ds, val_ds, test_ds)"
   ]
  },
  {
   "cell_type": "code",
   "execution_count": 36,
   "id": "96c8bc51",
   "metadata": {
    "execution": {
     "iopub.execute_input": "2022-11-03T19:21:14.971511Z",
     "iopub.status.busy": "2022-11-03T19:21:14.970464Z",
     "iopub.status.idle": "2022-11-03T19:21:14.978807Z",
     "shell.execute_reply": "2022-11-03T19:21:14.977906Z"
    },
    "papermill": {
     "duration": 0.023693,
     "end_time": "2022-11-03T19:21:14.981088",
     "exception": false,
     "start_time": "2022-11-03T19:21:14.957395",
     "status": "completed"
    },
    "tags": []
   },
   "outputs": [],
   "source": [
    "def encode_features_input(train_ds):\n",
    "    # Categorical features encoded as integers\n",
    "    cnn_preds_input = keras.Input(shape=(1,), name=\"cnn\", dtype=\"int64\")\n",
    "    lstm_preds_input = keras.Input(shape=(1,), name=\"lstm\", dtype=\"int64\")\n",
    "    bert2cnn_preds_input = keras.Input(shape=(1,), name=\"bert\", dtype=\"int64\")\n",
    "\n",
    "    all_inputs = [cnn_preds_input, lstm_preds_input, bert2cnn_preds_input]\n",
    "\n",
    "    # Integer categorical features\n",
    "    cnn_preds_encoded = encode_categorical_feature(cnn_preds_input, \"cnn\", train_ds, False)\n",
    "    lstm_preds_encoded = encode_categorical_feature(lstm_preds_input, \"lstm\", train_ds, False)\n",
    "    bert2cnn_preds_encoded = encode_categorical_feature(bert2cnn_preds_input, \"bert\", train_ds, False)\n",
    "\n",
    "    all_features = layers.concatenate(\n",
    "        [ cnn_preds_encoded, lstm_preds_encoded, bert2cnn_preds_encoded]\n",
    "    )\n",
    "    \n",
    "    return all_inputs, all_features"
   ]
  },
  {
   "cell_type": "code",
   "execution_count": 37,
   "id": "a2b142e1",
   "metadata": {
    "execution": {
     "iopub.execute_input": "2022-11-03T19:21:15.005437Z",
     "iopub.status.busy": "2022-11-03T19:21:15.005021Z",
     "iopub.status.idle": "2022-11-03T19:21:15.012621Z",
     "shell.execute_reply": "2022-11-03T19:21:15.011434Z"
    },
    "papermill": {
     "duration": 0.022995,
     "end_time": "2022-11-03T19:21:15.015343",
     "exception": false,
     "start_time": "2022-11-03T19:21:14.992348",
     "status": "completed"
    },
    "tags": []
   },
   "outputs": [],
   "source": [
    "def ensembler(all_inputs, all_features):\n",
    "    x = layers.Dense(64, activation=\"relu\")(all_features)\n",
    "    x = layers.Dropout(0.5)(x)\n",
    "\n",
    "    x = layers.Dense(32, activation=\"relu\")(all_features)\n",
    "    x = layers.Dropout(0.5)(x)\n",
    "\n",
    "    output = layers.Dense(3, activation='softmax')(x)\n",
    "    model = keras.Model(all_inputs, output)\n",
    "\n",
    "    opt = tf.keras.optimizers.Adam(learning_rate = 0.001)\n",
    "    model.compile(loss='categorical_crossentropy', optimizer=opt, metrics=[f1_m, 'acc', precision_m, recall_m])\n",
    "    \n",
    "    return model"
   ]
  },
  {
   "cell_type": "code",
   "execution_count": 38,
   "id": "89a190d8",
   "metadata": {
    "execution": {
     "iopub.execute_input": "2022-11-03T19:21:15.040742Z",
     "iopub.status.busy": "2022-11-03T19:21:15.040303Z",
     "iopub.status.idle": "2022-11-03T19:21:15.047355Z",
     "shell.execute_reply": "2022-11-03T19:21:15.045941Z"
    },
    "papermill": {
     "duration": 0.022862,
     "end_time": "2022-11-03T19:21:15.049782",
     "exception": false,
     "start_time": "2022-11-03T19:21:15.026920",
     "status": "completed"
    },
    "tags": []
   },
   "outputs": [],
   "source": [
    "def plot_metric(score):\n",
    "    pretty_table = PrettyTable()\n",
    "    pretty_table.field_names = ['Parameters','Value']\n",
    "    pretty_table.add_row(['Loss Score'                     ,score[0]])\n",
    "    pretty_table.add_row(['F1 Score'                       ,score[1]])\n",
    "    pretty_table.add_row(['Accuracy Score'                 ,score[2]])\n",
    "    pretty_table.add_row(['Recall Score'                   ,score[3]])\n",
    "    pretty_table.add_row(['Precision Score'                ,score[4]])\n",
    "\n",
    "    print(pretty_table)"
   ]
  },
  {
   "cell_type": "code",
   "execution_count": 39,
   "id": "96a9facc",
   "metadata": {
    "execution": {
     "iopub.execute_input": "2022-11-03T19:21:15.075545Z",
     "iopub.status.busy": "2022-11-03T19:21:15.074355Z",
     "iopub.status.idle": "2022-11-03T19:25:33.970062Z",
     "shell.execute_reply": "2022-11-03T19:25:33.968353Z"
    },
    "papermill": {
     "duration": 258.913597,
     "end_time": "2022-11-03T19:25:33.975245",
     "exception": false,
     "start_time": "2022-11-03T19:21:15.061648",
     "status": "completed"
    },
    "tags": []
   },
   "outputs": [
    {
     "name": "stderr",
     "output_type": "stream",
     "text": [
      "/opt/conda/lib/python3.7/site-packages/ipykernel_launcher.py:6: SettingWithCopyWarning: \n",
      "A value is trying to be set on a copy of a slice from a DataFrame.\n",
      "Try using .loc[row_indexer,col_indexer] = value instead\n",
      "\n",
      "See the caveats in the documentation: https://pandas.pydata.org/pandas-docs/stable/user_guide/indexing.html#returning-a-view-versus-a-copy\n",
      "  \n",
      "/opt/conda/lib/python3.7/site-packages/ipykernel_launcher.py:12: SettingWithCopyWarning: \n",
      "A value is trying to be set on a copy of a slice from a DataFrame.\n",
      "Try using .loc[row_indexer,col_indexer] = value instead\n",
      "\n",
      "See the caveats in the documentation: https://pandas.pydata.org/pandas-docs/stable/user_guide/indexing.html#returning-a-view-versus-a-copy\n",
      "  if sys.path[0] == \"\":\n",
      "2022-11-03 19:21:15.259249: I tensorflow/core/common_runtime/process_util.cc:146] Creating new thread pool with default inter op setting: 2. Tune using inter_op_parallelism_threads for best performance.\n",
      "2022-11-03 19:21:15.860108: I tensorflow/compiler/mlir/mlir_graph_optimization_pass.cc:185] None of the MLIR Optimization Passes are enabled (registered 2)\n"
     ]
    },
    {
     "data": {
      "application/vnd.jupyter.widget-view+json": {
       "model_id": "2fe039d8de33458785d6d48732fcb257",
       "version_major": 2,
       "version_minor": 0
      },
      "text/plain": [
       "  0%|          | 0/2 [00:00<?, ?ba/s]"
      ]
     },
     "metadata": {},
     "output_type": "display_data"
    },
    {
     "name": "stderr",
     "output_type": "stream",
     "text": [
      "The following columns in the test set don't have a corresponding argument in `BertForSequenceClassification.forward` and have been ignored: text. If text are not expected by `BertForSequenceClassification.forward`,  you can safely ignore this message.\n",
      "***** Running Prediction *****\n",
      "  Num examples = 1842\n",
      "  Batch size = 64\n"
     ]
    },
    {
     "data": {
      "text/html": [
       "\n",
       "    <div>\n",
       "      \n",
       "      <progress value='29' max='29' style='width:300px; height:20px; vertical-align: middle;'></progress>\n",
       "      [29/29 02:50]\n",
       "    </div>\n",
       "    "
      ],
      "text/plain": [
       "<IPython.core.display.HTML object>"
      ]
     },
     "metadata": {},
     "output_type": "display_data"
    },
    {
     "name": "stderr",
     "output_type": "stream",
     "text": [
      "/opt/conda/lib/python3.7/site-packages/ipykernel_launcher.py:6: SettingWithCopyWarning: \n",
      "A value is trying to be set on a copy of a slice from a DataFrame.\n",
      "Try using .loc[row_indexer,col_indexer] = value instead\n",
      "\n",
      "See the caveats in the documentation: https://pandas.pydata.org/pandas-docs/stable/user_guide/indexing.html#returning-a-view-versus-a-copy\n",
      "  \n"
     ]
    },
    {
     "data": {
      "application/vnd.jupyter.widget-view+json": {
       "model_id": "3ae8e2b9ebb646cba45f2628ca2f8d07",
       "version_major": 2,
       "version_minor": 0
      },
      "text/plain": [
       "  0%|          | 0/1 [00:00<?, ?ba/s]"
      ]
     },
     "metadata": {},
     "output_type": "display_data"
    },
    {
     "name": "stderr",
     "output_type": "stream",
     "text": [
      "PyTorch: setting up devices\n",
      "The default value for the training argument `--report_to` will change in v5 (from all installed integrations to none). In v5, you will need to use `--report_to all` to get the same behavior as now. You should start updating your code and make this info disappear :-).\n",
      "The following columns in the test set don't have a corresponding argument in `BertForSequenceClassification.forward` and have been ignored: text. If text are not expected by `BertForSequenceClassification.forward`,  you can safely ignore this message.\n",
      "***** Running Prediction *****\n",
      "  Num examples = 205\n",
      "  Batch size = 64\n"
     ]
    },
    {
     "data": {
      "text/html": [
       "\n",
       "    <div>\n",
       "      \n",
       "      <progress value='4' max='4' style='width:300px; height:20px; vertical-align: middle;'></progress>\n",
       "      [4/4 00:15]\n",
       "    </div>\n",
       "    "
      ],
      "text/plain": [
       "<IPython.core.display.HTML object>"
      ]
     },
     "metadata": {},
     "output_type": "display_data"
    },
    {
     "name": "stdout",
     "output_type": "stream",
     "text": [
      "\n",
      "Epoch 00001: val_loss improved from inf to 0.98484, saving model to ensemble_training\n"
     ]
    },
    {
     "name": "stderr",
     "output_type": "stream",
     "text": [
      "2022-11-03 19:24:52.297315: W tensorflow/python/util/util.cc:348] Sets are not currently considered sequences, but this may change in the future, so consider avoiding using them.\n"
     ]
    },
    {
     "name": "stdout",
     "output_type": "stream",
     "text": [
      "\n",
      "Epoch 00002: val_loss improved from 0.98484 to 0.88715, saving model to ensemble_training\n",
      "\n",
      "Epoch 00003: val_loss improved from 0.88715 to 0.81677, saving model to ensemble_training\n",
      "\n",
      "Epoch 00004: val_loss improved from 0.81677 to 0.76114, saving model to ensemble_training\n",
      "\n",
      "Epoch 00005: val_loss improved from 0.76114 to 0.70907, saving model to ensemble_training\n",
      "\n",
      "Epoch 00006: val_loss improved from 0.70907 to 0.67046, saving model to ensemble_training\n",
      "\n",
      "Epoch 00007: val_loss improved from 0.67046 to 0.64566, saving model to ensemble_training\n",
      "\n",
      "Epoch 00008: val_loss improved from 0.64566 to 0.63191, saving model to ensemble_training\n",
      "\n",
      "Epoch 00009: val_loss improved from 0.63191 to 0.62467, saving model to ensemble_training\n",
      "\n",
      "Epoch 00010: val_loss improved from 0.62467 to 0.62112, saving model to ensemble_training\n",
      "\n",
      "Epoch 00011: val_loss improved from 0.62112 to 0.61905, saving model to ensemble_training\n",
      "\n",
      "Epoch 00012: val_loss improved from 0.61905 to 0.61767, saving model to ensemble_training\n",
      "\n",
      "Epoch 00013: val_loss did not improve from 0.61767\n",
      "\n",
      "Epoch 00014: ReduceLROnPlateau reducing learning rate to 0.0005000000237487257.\n",
      "\n",
      "Epoch 00014: val_loss improved from 0.61767 to 0.61736, saving model to ensemble_training\n",
      "\n",
      "Epoch 00015: val_loss improved from 0.61736 to 0.61733, saving model to ensemble_training\n",
      "\n",
      "Epoch 00016: val_loss improved from 0.61733 to 0.61718, saving model to ensemble_training\n",
      "\n",
      "Epoch 00017: val_loss did not improve from 0.61718\n",
      "\n",
      "Epoch 00018: val_loss improved from 0.61718 to 0.61684, saving model to ensemble_training\n",
      "\n",
      "Epoch 00019: ReduceLROnPlateau reducing learning rate to 0.0002500000118743628.\n",
      "\n",
      "Epoch 00019: val_loss improved from 0.61684 to 0.61607, saving model to ensemble_training\n",
      "\n",
      "Epoch 00020: val_loss did not improve from 0.61607\n",
      "\n",
      "Epoch 00021: val_loss did not improve from 0.61607\n",
      "\n",
      "Epoch 00022: val_loss did not improve from 0.61607\n",
      "\n",
      "Epoch 00023: val_loss did not improve from 0.61607\n",
      "\n",
      "Epoch 00024: ReduceLROnPlateau reducing learning rate to 0.0001250000059371814.\n",
      "\n",
      "Epoch 00024: val_loss did not improve from 0.61607\n",
      "Epoch 00024: early stopping\n",
      "4/4 [==============================] - 0s 3ms/step - loss: 0.2537 - f1_m: 0.9573 - acc: 0.9659 - precision_m: 0.9573 - recall_m: 0.9573\n",
      "---------------------------------------------------\n",
      "Test Metric\n",
      "+-----------------+--------------------+\n",
      "|    Parameters   |       Value        |\n",
      "+-----------------+--------------------+\n",
      "|    Loss Score   | 0.2537039816379547 |\n",
      "|     F1 Score    | 0.957331657409668  |\n",
      "|  Accuracy Score | 0.9658536314964294 |\n",
      "|   Recall Score  | 0.9573317170143127 |\n",
      "| Precision Score | 0.9573317170143127 |\n",
      "+-----------------+--------------------+\n"
     ]
    }
   ],
   "source": [
    "(cnn_preds, lstm_preds), (test_cnn_preds, test_lstm_preds), (y, y_test) = get_cnn_lstm_train_test_pred(train_df, test_df)\n",
    "(bert_preds, test_bert_preds) = get_bert_train_test_pred(train_df, test_df)\n",
    "train_preds_df = prediction_df(cnn_preds, lstm_preds, bert_preds, y)\n",
    "test_preds_df = prediction_df(test_cnn_preds, test_lstm_preds, test_bert_preds, y_test)\n",
    "\n",
    "(train_ds, val_ds, test_ds) = return_train_val_test_ds(train_preds_df, test_preds_df)\n",
    "all_inputs, all_features = encode_features_input(train_ds)\n",
    "model = ensembler(all_inputs, all_features)\n",
    "model.fit(train_ds, epochs=50, callbacks=create_callbacks(), validation_data=val_ds, verbose = 0)\n",
    "score = model.evaluate(test_ds)\n",
    "print(\"---------------------------------------------------\")\n",
    "print(\"Test Metric\")\n",
    "plot_metric(score)"
   ]
  },
  {
   "cell_type": "code",
   "execution_count": 40,
   "id": "28c6e54c",
   "metadata": {
    "execution": {
     "iopub.execute_input": "2022-11-03T19:25:34.017788Z",
     "iopub.status.busy": "2022-11-03T19:25:34.016872Z",
     "iopub.status.idle": "2022-11-03T19:25:36.184789Z",
     "shell.execute_reply": "2022-11-03T19:25:36.183592Z"
    },
    "papermill": {
     "duration": 2.195501,
     "end_time": "2022-11-03T19:25:36.187541",
     "exception": false,
     "start_time": "2022-11-03T19:25:33.992040",
     "status": "completed"
    },
    "tags": []
   },
   "outputs": [],
   "source": [
    "model.save(f\"ensemble_{model_name}\")"
   ]
  },
  {
   "cell_type": "code",
   "execution_count": 41,
   "id": "83f1d462",
   "metadata": {
    "execution": {
     "iopub.execute_input": "2022-11-03T19:25:36.217396Z",
     "iopub.status.busy": "2022-11-03T19:25:36.216978Z",
     "iopub.status.idle": "2022-11-03T19:37:49.428790Z",
     "shell.execute_reply": "2022-11-03T19:37:49.427758Z"
    },
    "papermill": {
     "duration": 733.229913,
     "end_time": "2022-11-03T19:37:49.431428",
     "exception": false,
     "start_time": "2022-11-03T19:25:36.201515",
     "status": "completed"
    },
    "tags": []
   },
   "outputs": [
    {
     "name": "stderr",
     "output_type": "stream",
     "text": [
      "loading configuration file ../input/finbert/finbert_finetuned_combined_data.bin/config.json\n",
      "Model config BertConfig {\n",
      "  \"_name_or_path\": \"../input/finbert/finbert_finetuned_combined_data.bin\",\n",
      "  \"architectures\": [\n",
      "    \"BertForSequenceClassification\"\n",
      "  ],\n",
      "  \"attention_probs_dropout_prob\": 0.1,\n",
      "  \"classifier_dropout\": null,\n",
      "  \"gradient_checkpointing\": false,\n",
      "  \"hidden_act\": \"gelu\",\n",
      "  \"hidden_dropout_prob\": 0.1,\n",
      "  \"hidden_size\": 768,\n",
      "  \"id2label\": {\n",
      "    \"0\": \"positive\",\n",
      "    \"1\": \"negative\",\n",
      "    \"2\": \"neutral\"\n",
      "  },\n",
      "  \"initializer_range\": 0.02,\n",
      "  \"intermediate_size\": 3072,\n",
      "  \"label2id\": {\n",
      "    \"negative\": 1,\n",
      "    \"neutral\": 2,\n",
      "    \"positive\": 0\n",
      "  },\n",
      "  \"layer_norm_eps\": 1e-12,\n",
      "  \"max_position_embeddings\": 512,\n",
      "  \"model_type\": \"bert\",\n",
      "  \"num_attention_heads\": 12,\n",
      "  \"num_hidden_layers\": 12,\n",
      "  \"pad_token_id\": 0,\n",
      "  \"position_embedding_type\": \"absolute\",\n",
      "  \"problem_type\": \"single_label_classification\",\n",
      "  \"torch_dtype\": \"float32\",\n",
      "  \"transformers_version\": \"4.20.1\",\n",
      "  \"type_vocab_size\": 2,\n",
      "  \"use_cache\": true,\n",
      "  \"vocab_size\": 30522\n",
      "}\n",
      "\n",
      "loading weights file ../input/finbert/finbert_finetuned_combined_data.bin/pytorch_model.bin\n",
      "All model checkpoint weights were used when initializing BertForSequenceClassification.\n",
      "\n",
      "All the weights of BertForSequenceClassification were initialized from the model checkpoint at ../input/finbert/finbert_finetuned_combined_data.bin.\n",
      "If your task is similar to the task the model of the checkpoint was trained on, you can already use BertForSequenceClassification for predictions without further training.\n",
      "Didn't find file ../input/finbert/finbert_finetuned_combined_data.bin/added_tokens.json. We won't load it.\n",
      "loading file ../input/finbert/finbert_finetuned_combined_data.bin/vocab.txt\n",
      "loading file ../input/finbert/finbert_finetuned_combined_data.bin/tokenizer.json\n",
      "loading file None\n",
      "loading file ../input/finbert/finbert_finetuned_combined_data.bin/special_tokens_map.json\n",
      "loading file ../input/finbert/finbert_finetuned_combined_data.bin/tokenizer_config.json\n"
     ]
    },
    {
     "data": {
      "application/vnd.jupyter.widget-view+json": {
       "model_id": "7593019632d0420cb1c13f70ec25a59d",
       "version_major": 2,
       "version_minor": 0
      },
      "text/plain": [
       "  0%|          | 0/9 [00:00<?, ?ba/s]"
      ]
     },
     "metadata": {},
     "output_type": "display_data"
    },
    {
     "name": "stderr",
     "output_type": "stream",
     "text": [
      "PyTorch: setting up devices\n",
      "The default value for the training argument `--report_to` will change in v5 (from all installed integrations to none). In v5, you will need to use `--report_to all` to get the same behavior as now. You should start updating your code and make this info disappear :-).\n",
      "The following columns in the test set don't have a corresponding argument in `BertForSequenceClassification.forward` and have been ignored: text. If text are not expected by `BertForSequenceClassification.forward`,  you can safely ignore this message.\n",
      "***** Running Prediction *****\n",
      "  Num examples = 8409\n",
      "  Batch size = 64\n"
     ]
    },
    {
     "data": {
      "text/html": [
       "\n",
       "    <div>\n",
       "      \n",
       "      <progress value='132' max='132' style='width:300px; height:20px; vertical-align: middle;'></progress>\n",
       "      [132/132 11:39]\n",
       "    </div>\n",
       "    "
      ],
      "text/plain": [
       "<IPython.core.display.HTML object>"
      ]
     },
     "metadata": {},
     "output_type": "display_data"
    },
    {
     "data": {
      "text/html": [
       "<div>\n",
       "<style scoped>\n",
       "    .dataframe tbody tr th:only-of-type {\n",
       "        vertical-align: middle;\n",
       "    }\n",
       "\n",
       "    .dataframe tbody tr th {\n",
       "        vertical-align: top;\n",
       "    }\n",
       "\n",
       "    .dataframe thead th {\n",
       "        text-align: right;\n",
       "    }\n",
       "</style>\n",
       "<table border=\"1\" class=\"dataframe\">\n",
       "  <thead>\n",
       "    <tr style=\"text-align: right;\">\n",
       "      <th></th>\n",
       "      <th>cnn</th>\n",
       "      <th>lstm</th>\n",
       "      <th>bert</th>\n",
       "    </tr>\n",
       "  </thead>\n",
       "  <tbody>\n",
       "    <tr>\n",
       "      <th>0</th>\n",
       "      <td>1</td>\n",
       "      <td>1</td>\n",
       "      <td>2</td>\n",
       "    </tr>\n",
       "    <tr>\n",
       "      <th>1</th>\n",
       "      <td>1</td>\n",
       "      <td>1</td>\n",
       "      <td>0</td>\n",
       "    </tr>\n",
       "    <tr>\n",
       "      <th>2</th>\n",
       "      <td>0</td>\n",
       "      <td>1</td>\n",
       "      <td>2</td>\n",
       "    </tr>\n",
       "    <tr>\n",
       "      <th>3</th>\n",
       "      <td>1</td>\n",
       "      <td>1</td>\n",
       "      <td>2</td>\n",
       "    </tr>\n",
       "    <tr>\n",
       "      <th>4</th>\n",
       "      <td>2</td>\n",
       "      <td>2</td>\n",
       "      <td>2</td>\n",
       "    </tr>\n",
       "  </tbody>\n",
       "</table>\n",
       "</div>"
      ],
      "text/plain": [
       "   cnn  lstm  bert\n",
       "0    1     1     2\n",
       "1    1     1     0\n",
       "2    0     1     2\n",
       "3    1     1     2\n",
       "4    2     2     2"
      ]
     },
     "execution_count": 41,
     "metadata": {},
     "output_type": "execute_result"
    }
   ],
   "source": [
    "serve_df = serving_headline_df\n",
    "(serve_cnn_preds, serve_lstm_preds) = get_cnn_lstm_serving_pred(serve_df)\n",
    "serve_bert_preds = get_bert_serve_pred(serve_df)\n",
    "serve_bert2cnn_preds = np.vectorize(bert2cnn.get)(serve_bert_preds)\n",
    "\n",
    "serve_preds_df = pd.DataFrame()\n",
    "serve_preds_df['cnn'], serve_preds_df['lstm'], serve_preds_df['bert'] = serve_cnn_preds, serve_lstm_preds, serve_bert2cnn_preds\n",
    "le = LabelEncoder()\n",
    "serve_preds_df['label'] = le.fit_transform(serve_preds_df['label'])\n",
    "serve_preds_df.head()"
   ]
  },
  {
   "cell_type": "code",
   "execution_count": 43,
   "id": "4f9a7e26",
   "metadata": {
    "execution": {
     "iopub.execute_input": "2022-11-03T19:37:49.706951Z",
     "iopub.status.busy": "2022-11-03T19:37:49.705743Z",
     "iopub.status.idle": "2022-11-03T19:37:49.718424Z",
     "shell.execute_reply": "2022-11-03T19:37:49.717232Z"
    },
    "papermill": {
     "duration": 0.032253,
     "end_time": "2022-11-03T19:37:49.721022",
     "exception": false,
     "start_time": "2022-11-03T19:37:49.688769",
     "status": "completed"
    },
    "tags": []
   },
   "outputs": [],
   "source": [
    "serve_ds = dataframe_to_dataset(serve_preds_df).batch(64)\n",
    "le = LabelEncoder()\n",
    "le.fit_transform(test_df['sentiment'])\n",
    "predictions = model.predict(serve_ds)\n",
    "submission = pd.DataFrame()\n",
    "submission['title'] = serve_df['title']\n",
    "submission['sentiment'] = serve_df['sentiment']\n",
    "submission['prediction'] = le.inverse_transform(predictions.argmax(axis=-1))\n",
    "submission.to_csv(f'ensemble_{model_name}_serving.csv', index=False)"
   ]
  },
  {
   "cell_type": "code",
   "execution_count": null,
   "id": "4efd5ffb",
   "metadata": {
    "papermill": {
     "duration": 0.01499,
     "end_time": "2022-11-03T19:37:49.752235",
     "exception": false,
     "start_time": "2022-11-03T19:37:49.737245",
     "status": "completed"
    },
    "tags": []
   },
   "outputs": [],
   "source": []
  }
 ],
 "metadata": {
  "kernelspec": {
   "display_name": "Python 3.10.5 64-bit",
   "language": "python",
   "name": "python3"
  },
  "language_info": {
   "codemirror_mode": {
    "name": "ipython",
    "version": 3
   },
   "file_extension": ".py",
   "mimetype": "text/x-python",
   "name": "python",
   "nbconvert_exporter": "python",
   "pygments_lexer": "ipython3",
   "version": "3.10.5"
  },
  "papermill": {
   "default_parameters": {},
   "duration": 1026.716112,
   "end_time": "2022-11-03T19:37:53.431827",
   "environment_variables": {},
   "exception": null,
   "input_path": "__notebook__.ipynb",
   "output_path": "__notebook__.ipynb",
   "parameters": {},
   "start_time": "2022-11-03T19:20:46.715715",
   "version": "2.3.4"
  },
  "vscode": {
   "interpreter": {
    "hash": "369f2c481f4da34e4445cda3fffd2e751bd1c4d706f27375911949ba6bb62e1c"
   }
  },
  "widgets": {
   "application/vnd.jupyter.widget-state+json": {
    "state": {
     "09bf86783fea4261bae972e441dce90d": {
      "model_module": "@jupyter-widgets/base",
      "model_module_version": "1.2.0",
      "model_name": "LayoutModel",
      "state": {
       "_model_module": "@jupyter-widgets/base",
       "_model_module_version": "1.2.0",
       "_model_name": "LayoutModel",
       "_view_count": null,
       "_view_module": "@jupyter-widgets/base",
       "_view_module_version": "1.2.0",
       "_view_name": "LayoutView",
       "align_content": null,
       "align_items": null,
       "align_self": null,
       "border": null,
       "bottom": null,
       "display": null,
       "flex": null,
       "flex_flow": null,
       "grid_area": null,
       "grid_auto_columns": null,
       "grid_auto_flow": null,
       "grid_auto_rows": null,
       "grid_column": null,
       "grid_gap": null,
       "grid_row": null,
       "grid_template_areas": null,
       "grid_template_columns": null,
       "grid_template_rows": null,
       "height": null,
       "justify_content": null,
       "justify_items": null,
       "left": null,
       "margin": null,
       "max_height": null,
       "max_width": null,
       "min_height": null,
       "min_width": null,
       "object_fit": null,
       "object_position": null,
       "order": null,
       "overflow": null,
       "overflow_x": null,
       "overflow_y": null,
       "padding": null,
       "right": null,
       "top": null,
       "visibility": null,
       "width": null
      }
     },
     "1f5b26aa815c4806b6842c79aaa13edf": {
      "model_module": "@jupyter-widgets/controls",
      "model_module_version": "1.5.0",
      "model_name": "DescriptionStyleModel",
      "state": {
       "_model_module": "@jupyter-widgets/controls",
       "_model_module_version": "1.5.0",
       "_model_name": "DescriptionStyleModel",
       "_view_count": null,
       "_view_module": "@jupyter-widgets/base",
       "_view_module_version": "1.2.0",
       "_view_name": "StyleView",
       "description_width": ""
      }
     },
     "2246e0e0f5b145e09141cf19d451f2c0": {
      "model_module": "@jupyter-widgets/controls",
      "model_module_version": "1.5.0",
      "model_name": "DescriptionStyleModel",
      "state": {
       "_model_module": "@jupyter-widgets/controls",
       "_model_module_version": "1.5.0",
       "_model_name": "DescriptionStyleModel",
       "_view_count": null,
       "_view_module": "@jupyter-widgets/base",
       "_view_module_version": "1.2.0",
       "_view_name": "StyleView",
       "description_width": ""
      }
     },
     "269d1d45c7644aa0a0c1e2d964ff1a47": {
      "model_module": "@jupyter-widgets/controls",
      "model_module_version": "1.5.0",
      "model_name": "DescriptionStyleModel",
      "state": {
       "_model_module": "@jupyter-widgets/controls",
       "_model_module_version": "1.5.0",
       "_model_name": "DescriptionStyleModel",
       "_view_count": null,
       "_view_module": "@jupyter-widgets/base",
       "_view_module_version": "1.2.0",
       "_view_name": "StyleView",
       "description_width": ""
      }
     },
     "28093c55e8da4e94a9cc9934356c67cc": {
      "model_module": "@jupyter-widgets/base",
      "model_module_version": "1.2.0",
      "model_name": "LayoutModel",
      "state": {
       "_model_module": "@jupyter-widgets/base",
       "_model_module_version": "1.2.0",
       "_model_name": "LayoutModel",
       "_view_count": null,
       "_view_module": "@jupyter-widgets/base",
       "_view_module_version": "1.2.0",
       "_view_name": "LayoutView",
       "align_content": null,
       "align_items": null,
       "align_self": null,
       "border": null,
       "bottom": null,
       "display": null,
       "flex": null,
       "flex_flow": null,
       "grid_area": null,
       "grid_auto_columns": null,
       "grid_auto_flow": null,
       "grid_auto_rows": null,
       "grid_column": null,
       "grid_gap": null,
       "grid_row": null,
       "grid_template_areas": null,
       "grid_template_columns": null,
       "grid_template_rows": null,
       "height": null,
       "justify_content": null,
       "justify_items": null,
       "left": null,
       "margin": null,
       "max_height": null,
       "max_width": null,
       "min_height": null,
       "min_width": null,
       "object_fit": null,
       "object_position": null,
       "order": null,
       "overflow": null,
       "overflow_x": null,
       "overflow_y": null,
       "padding": null,
       "right": null,
       "top": null,
       "visibility": null,
       "width": null
      }
     },
     "2c1bddc0d7ff4733b823e5630082d459": {
      "model_module": "@jupyter-widgets/controls",
      "model_module_version": "1.5.0",
      "model_name": "ProgressStyleModel",
      "state": {
       "_model_module": "@jupyter-widgets/controls",
       "_model_module_version": "1.5.0",
       "_model_name": "ProgressStyleModel",
       "_view_count": null,
       "_view_module": "@jupyter-widgets/base",
       "_view_module_version": "1.2.0",
       "_view_name": "StyleView",
       "bar_color": null,
       "description_width": ""
      }
     },
     "2eea86b8f06e477da830f150e8fa1d5c": {
      "model_module": "@jupyter-widgets/controls",
      "model_module_version": "1.5.0",
      "model_name": "DescriptionStyleModel",
      "state": {
       "_model_module": "@jupyter-widgets/controls",
       "_model_module_version": "1.5.0",
       "_model_name": "DescriptionStyleModel",
       "_view_count": null,
       "_view_module": "@jupyter-widgets/base",
       "_view_module_version": "1.2.0",
       "_view_name": "StyleView",
       "description_width": ""
      }
     },
     "2fe039d8de33458785d6d48732fcb257": {
      "model_module": "@jupyter-widgets/controls",
      "model_module_version": "1.5.0",
      "model_name": "HBoxModel",
      "state": {
       "_dom_classes": [],
       "_model_module": "@jupyter-widgets/controls",
       "_model_module_version": "1.5.0",
       "_model_name": "HBoxModel",
       "_view_count": null,
       "_view_module": "@jupyter-widgets/controls",
       "_view_module_version": "1.5.0",
       "_view_name": "HBoxView",
       "box_style": "",
       "children": [
        "IPY_MODEL_d52eb8e7d24d473b9a0fd226375f8248",
        "IPY_MODEL_6a594353e5d343c6b05a5c1c8f22e4c5",
        "IPY_MODEL_5e180e9aa2b54eefba5009ee4f1002f3"
       ],
       "layout": "IPY_MODEL_a53f585713754818b816d864ae3bea96"
      }
     },
     "3ae8e2b9ebb646cba45f2628ca2f8d07": {
      "model_module": "@jupyter-widgets/controls",
      "model_module_version": "1.5.0",
      "model_name": "HBoxModel",
      "state": {
       "_dom_classes": [],
       "_model_module": "@jupyter-widgets/controls",
       "_model_module_version": "1.5.0",
       "_model_name": "HBoxModel",
       "_view_count": null,
       "_view_module": "@jupyter-widgets/controls",
       "_view_module_version": "1.5.0",
       "_view_name": "HBoxView",
       "box_style": "",
       "children": [
        "IPY_MODEL_cc55eb3d635249ae94b660ea2105dbd1",
        "IPY_MODEL_c8c675c51fa94a5b8acdfa3cb4355ef9",
        "IPY_MODEL_e0df31ee51a8429e9f2a9a83d878c431"
       ],
       "layout": "IPY_MODEL_3dea72ee0a4f46d3b7e18992e3878aa8"
      }
     },
     "3dea72ee0a4f46d3b7e18992e3878aa8": {
      "model_module": "@jupyter-widgets/base",
      "model_module_version": "1.2.0",
      "model_name": "LayoutModel",
      "state": {
       "_model_module": "@jupyter-widgets/base",
       "_model_module_version": "1.2.0",
       "_model_name": "LayoutModel",
       "_view_count": null,
       "_view_module": "@jupyter-widgets/base",
       "_view_module_version": "1.2.0",
       "_view_name": "LayoutView",
       "align_content": null,
       "align_items": null,
       "align_self": null,
       "border": null,
       "bottom": null,
       "display": null,
       "flex": null,
       "flex_flow": null,
       "grid_area": null,
       "grid_auto_columns": null,
       "grid_auto_flow": null,
       "grid_auto_rows": null,
       "grid_column": null,
       "grid_gap": null,
       "grid_row": null,
       "grid_template_areas": null,
       "grid_template_columns": null,
       "grid_template_rows": null,
       "height": null,
       "justify_content": null,
       "justify_items": null,
       "left": null,
       "margin": null,
       "max_height": null,
       "max_width": null,
       "min_height": null,
       "min_width": null,
       "object_fit": null,
       "object_position": null,
       "order": null,
       "overflow": null,
       "overflow_x": null,
       "overflow_y": null,
       "padding": null,
       "right": null,
       "top": null,
       "visibility": null,
       "width": null
      }
     },
     "463bd3ad56c3473089045805ce4aa70f": {
      "model_module": "@jupyter-widgets/controls",
      "model_module_version": "1.5.0",
      "model_name": "DescriptionStyleModel",
      "state": {
       "_model_module": "@jupyter-widgets/controls",
       "_model_module_version": "1.5.0",
       "_model_name": "DescriptionStyleModel",
       "_view_count": null,
       "_view_module": "@jupyter-widgets/base",
       "_view_module_version": "1.2.0",
       "_view_name": "StyleView",
       "description_width": ""
      }
     },
     "53648510c8aa4680a1cd1fef9a85e0ad": {
      "model_module": "@jupyter-widgets/controls",
      "model_module_version": "1.5.0",
      "model_name": "ProgressStyleModel",
      "state": {
       "_model_module": "@jupyter-widgets/controls",
       "_model_module_version": "1.5.0",
       "_model_name": "ProgressStyleModel",
       "_view_count": null,
       "_view_module": "@jupyter-widgets/base",
       "_view_module_version": "1.2.0",
       "_view_name": "StyleView",
       "bar_color": null,
       "description_width": ""
      }
     },
     "58646aee3cd4445bac49b9f6e236fbf3": {
      "model_module": "@jupyter-widgets/controls",
      "model_module_version": "1.5.0",
      "model_name": "HTMLModel",
      "state": {
       "_dom_classes": [],
       "_model_module": "@jupyter-widgets/controls",
       "_model_module_version": "1.5.0",
       "_model_name": "HTMLModel",
       "_view_count": null,
       "_view_module": "@jupyter-widgets/controls",
       "_view_module_version": "1.5.0",
       "_view_name": "HTMLView",
       "description": "",
       "description_tooltip": null,
       "layout": "IPY_MODEL_95f7be5bba3541e0806da06ee1561de9",
       "placeholder": "​",
       "style": "IPY_MODEL_e47b4b1597e84114a73af2c2b5c6eeca",
       "value": " 9/9 [00:00&lt;00:00, 17.62ba/s]"
      }
     },
     "5e180e9aa2b54eefba5009ee4f1002f3": {
      "model_module": "@jupyter-widgets/controls",
      "model_module_version": "1.5.0",
      "model_name": "HTMLModel",
      "state": {
       "_dom_classes": [],
       "_model_module": "@jupyter-widgets/controls",
       "_model_module_version": "1.5.0",
       "_model_name": "HTMLModel",
       "_view_count": null,
       "_view_module": "@jupyter-widgets/controls",
       "_view_module_version": "1.5.0",
       "_view_name": "HTMLView",
       "description": "",
       "description_tooltip": null,
       "layout": "IPY_MODEL_9dbbf8ab56914cf6bd1d5053e259ba0c",
       "placeholder": "​",
       "style": "IPY_MODEL_463bd3ad56c3473089045805ce4aa70f",
       "value": " 2/2 [00:00&lt;00:00,  5.26ba/s]"
      }
     },
     "63c0e789fc4648bea8b00778c3a27214": {
      "model_module": "@jupyter-widgets/controls",
      "model_module_version": "1.5.0",
      "model_name": "HTMLModel",
      "state": {
       "_dom_classes": [],
       "_model_module": "@jupyter-widgets/controls",
       "_model_module_version": "1.5.0",
       "_model_name": "HTMLModel",
       "_view_count": null,
       "_view_module": "@jupyter-widgets/controls",
       "_view_module_version": "1.5.0",
       "_view_name": "HTMLView",
       "description": "",
       "description_tooltip": null,
       "layout": "IPY_MODEL_b021ed562d4b43d69cc94afa66883d70",
       "placeholder": "​",
       "style": "IPY_MODEL_1f5b26aa815c4806b6842c79aaa13edf",
       "value": "100%"
      }
     },
     "6632daac05ee492494a8cde3194757ef": {
      "model_module": "@jupyter-widgets/base",
      "model_module_version": "1.2.0",
      "model_name": "LayoutModel",
      "state": {
       "_model_module": "@jupyter-widgets/base",
       "_model_module_version": "1.2.0",
       "_model_name": "LayoutModel",
       "_view_count": null,
       "_view_module": "@jupyter-widgets/base",
       "_view_module_version": "1.2.0",
       "_view_name": "LayoutView",
       "align_content": null,
       "align_items": null,
       "align_self": null,
       "border": null,
       "bottom": null,
       "display": null,
       "flex": null,
       "flex_flow": null,
       "grid_area": null,
       "grid_auto_columns": null,
       "grid_auto_flow": null,
       "grid_auto_rows": null,
       "grid_column": null,
       "grid_gap": null,
       "grid_row": null,
       "grid_template_areas": null,
       "grid_template_columns": null,
       "grid_template_rows": null,
       "height": null,
       "justify_content": null,
       "justify_items": null,
       "left": null,
       "margin": null,
       "max_height": null,
       "max_width": null,
       "min_height": null,
       "min_width": null,
       "object_fit": null,
       "object_position": null,
       "order": null,
       "overflow": null,
       "overflow_x": null,
       "overflow_y": null,
       "padding": null,
       "right": null,
       "top": null,
       "visibility": null,
       "width": null
      }
     },
     "6a594353e5d343c6b05a5c1c8f22e4c5": {
      "model_module": "@jupyter-widgets/controls",
      "model_module_version": "1.5.0",
      "model_name": "FloatProgressModel",
      "state": {
       "_dom_classes": [],
       "_model_module": "@jupyter-widgets/controls",
       "_model_module_version": "1.5.0",
       "_model_name": "FloatProgressModel",
       "_view_count": null,
       "_view_module": "@jupyter-widgets/controls",
       "_view_module_version": "1.5.0",
       "_view_name": "ProgressView",
       "bar_style": "success",
       "description": "",
       "description_tooltip": null,
       "layout": "IPY_MODEL_6632daac05ee492494a8cde3194757ef",
       "max": 2,
       "min": 0,
       "orientation": "horizontal",
       "style": "IPY_MODEL_b30a072cf1764be8afeaa5b266a96c9c",
       "value": 2
      }
     },
     "7593019632d0420cb1c13f70ec25a59d": {
      "model_module": "@jupyter-widgets/controls",
      "model_module_version": "1.5.0",
      "model_name": "HBoxModel",
      "state": {
       "_dom_classes": [],
       "_model_module": "@jupyter-widgets/controls",
       "_model_module_version": "1.5.0",
       "_model_name": "HBoxModel",
       "_view_count": null,
       "_view_module": "@jupyter-widgets/controls",
       "_view_module_version": "1.5.0",
       "_view_name": "HBoxView",
       "box_style": "",
       "children": [
        "IPY_MODEL_63c0e789fc4648bea8b00778c3a27214",
        "IPY_MODEL_9008f1fcca4845eb980256c47eb9b796",
        "IPY_MODEL_58646aee3cd4445bac49b9f6e236fbf3"
       ],
       "layout": "IPY_MODEL_fdcbd89eb76446f6834169e344da71d1"
      }
     },
     "7f4cfdf1294047109e25d6f70a87e844": {
      "model_module": "@jupyter-widgets/base",
      "model_module_version": "1.2.0",
      "model_name": "LayoutModel",
      "state": {
       "_model_module": "@jupyter-widgets/base",
       "_model_module_version": "1.2.0",
       "_model_name": "LayoutModel",
       "_view_count": null,
       "_view_module": "@jupyter-widgets/base",
       "_view_module_version": "1.2.0",
       "_view_name": "LayoutView",
       "align_content": null,
       "align_items": null,
       "align_self": null,
       "border": null,
       "bottom": null,
       "display": null,
       "flex": null,
       "flex_flow": null,
       "grid_area": null,
       "grid_auto_columns": null,
       "grid_auto_flow": null,
       "grid_auto_rows": null,
       "grid_column": null,
       "grid_gap": null,
       "grid_row": null,
       "grid_template_areas": null,
       "grid_template_columns": null,
       "grid_template_rows": null,
       "height": null,
       "justify_content": null,
       "justify_items": null,
       "left": null,
       "margin": null,
       "max_height": null,
       "max_width": null,
       "min_height": null,
       "min_width": null,
       "object_fit": null,
       "object_position": null,
       "order": null,
       "overflow": null,
       "overflow_x": null,
       "overflow_y": null,
       "padding": null,
       "right": null,
       "top": null,
       "visibility": null,
       "width": null
      }
     },
     "8f2142d007aa4cda80a5f3f463e22122": {
      "model_module": "@jupyter-widgets/base",
      "model_module_version": "1.2.0",
      "model_name": "LayoutModel",
      "state": {
       "_model_module": "@jupyter-widgets/base",
       "_model_module_version": "1.2.0",
       "_model_name": "LayoutModel",
       "_view_count": null,
       "_view_module": "@jupyter-widgets/base",
       "_view_module_version": "1.2.0",
       "_view_name": "LayoutView",
       "align_content": null,
       "align_items": null,
       "align_self": null,
       "border": null,
       "bottom": null,
       "display": null,
       "flex": null,
       "flex_flow": null,
       "grid_area": null,
       "grid_auto_columns": null,
       "grid_auto_flow": null,
       "grid_auto_rows": null,
       "grid_column": null,
       "grid_gap": null,
       "grid_row": null,
       "grid_template_areas": null,
       "grid_template_columns": null,
       "grid_template_rows": null,
       "height": null,
       "justify_content": null,
       "justify_items": null,
       "left": null,
       "margin": null,
       "max_height": null,
       "max_width": null,
       "min_height": null,
       "min_width": null,
       "object_fit": null,
       "object_position": null,
       "order": null,
       "overflow": null,
       "overflow_x": null,
       "overflow_y": null,
       "padding": null,
       "right": null,
       "top": null,
       "visibility": null,
       "width": null
      }
     },
     "9008f1fcca4845eb980256c47eb9b796": {
      "model_module": "@jupyter-widgets/controls",
      "model_module_version": "1.5.0",
      "model_name": "FloatProgressModel",
      "state": {
       "_dom_classes": [],
       "_model_module": "@jupyter-widgets/controls",
       "_model_module_version": "1.5.0",
       "_model_name": "FloatProgressModel",
       "_view_count": null,
       "_view_module": "@jupyter-widgets/controls",
       "_view_module_version": "1.5.0",
       "_view_name": "ProgressView",
       "bar_style": "success",
       "description": "",
       "description_tooltip": null,
       "layout": "IPY_MODEL_8f2142d007aa4cda80a5f3f463e22122",
       "max": 9,
       "min": 0,
       "orientation": "horizontal",
       "style": "IPY_MODEL_53648510c8aa4680a1cd1fef9a85e0ad",
       "value": 9
      }
     },
     "95f7be5bba3541e0806da06ee1561de9": {
      "model_module": "@jupyter-widgets/base",
      "model_module_version": "1.2.0",
      "model_name": "LayoutModel",
      "state": {
       "_model_module": "@jupyter-widgets/base",
       "_model_module_version": "1.2.0",
       "_model_name": "LayoutModel",
       "_view_count": null,
       "_view_module": "@jupyter-widgets/base",
       "_view_module_version": "1.2.0",
       "_view_name": "LayoutView",
       "align_content": null,
       "align_items": null,
       "align_self": null,
       "border": null,
       "bottom": null,
       "display": null,
       "flex": null,
       "flex_flow": null,
       "grid_area": null,
       "grid_auto_columns": null,
       "grid_auto_flow": null,
       "grid_auto_rows": null,
       "grid_column": null,
       "grid_gap": null,
       "grid_row": null,
       "grid_template_areas": null,
       "grid_template_columns": null,
       "grid_template_rows": null,
       "height": null,
       "justify_content": null,
       "justify_items": null,
       "left": null,
       "margin": null,
       "max_height": null,
       "max_width": null,
       "min_height": null,
       "min_width": null,
       "object_fit": null,
       "object_position": null,
       "order": null,
       "overflow": null,
       "overflow_x": null,
       "overflow_y": null,
       "padding": null,
       "right": null,
       "top": null,
       "visibility": null,
       "width": null
      }
     },
     "9dbbf8ab56914cf6bd1d5053e259ba0c": {
      "model_module": "@jupyter-widgets/base",
      "model_module_version": "1.2.0",
      "model_name": "LayoutModel",
      "state": {
       "_model_module": "@jupyter-widgets/base",
       "_model_module_version": "1.2.0",
       "_model_name": "LayoutModel",
       "_view_count": null,
       "_view_module": "@jupyter-widgets/base",
       "_view_module_version": "1.2.0",
       "_view_name": "LayoutView",
       "align_content": null,
       "align_items": null,
       "align_self": null,
       "border": null,
       "bottom": null,
       "display": null,
       "flex": null,
       "flex_flow": null,
       "grid_area": null,
       "grid_auto_columns": null,
       "grid_auto_flow": null,
       "grid_auto_rows": null,
       "grid_column": null,
       "grid_gap": null,
       "grid_row": null,
       "grid_template_areas": null,
       "grid_template_columns": null,
       "grid_template_rows": null,
       "height": null,
       "justify_content": null,
       "justify_items": null,
       "left": null,
       "margin": null,
       "max_height": null,
       "max_width": null,
       "min_height": null,
       "min_width": null,
       "object_fit": null,
       "object_position": null,
       "order": null,
       "overflow": null,
       "overflow_x": null,
       "overflow_y": null,
       "padding": null,
       "right": null,
       "top": null,
       "visibility": null,
       "width": null
      }
     },
     "a53f585713754818b816d864ae3bea96": {
      "model_module": "@jupyter-widgets/base",
      "model_module_version": "1.2.0",
      "model_name": "LayoutModel",
      "state": {
       "_model_module": "@jupyter-widgets/base",
       "_model_module_version": "1.2.0",
       "_model_name": "LayoutModel",
       "_view_count": null,
       "_view_module": "@jupyter-widgets/base",
       "_view_module_version": "1.2.0",
       "_view_name": "LayoutView",
       "align_content": null,
       "align_items": null,
       "align_self": null,
       "border": null,
       "bottom": null,
       "display": null,
       "flex": null,
       "flex_flow": null,
       "grid_area": null,
       "grid_auto_columns": null,
       "grid_auto_flow": null,
       "grid_auto_rows": null,
       "grid_column": null,
       "grid_gap": null,
       "grid_row": null,
       "grid_template_areas": null,
       "grid_template_columns": null,
       "grid_template_rows": null,
       "height": null,
       "justify_content": null,
       "justify_items": null,
       "left": null,
       "margin": null,
       "max_height": null,
       "max_width": null,
       "min_height": null,
       "min_width": null,
       "object_fit": null,
       "object_position": null,
       "order": null,
       "overflow": null,
       "overflow_x": null,
       "overflow_y": null,
       "padding": null,
       "right": null,
       "top": null,
       "visibility": null,
       "width": null
      }
     },
     "af2877eedd174f7f9de19f2950a5f17a": {
      "model_module": "@jupyter-widgets/base",
      "model_module_version": "1.2.0",
      "model_name": "LayoutModel",
      "state": {
       "_model_module": "@jupyter-widgets/base",
       "_model_module_version": "1.2.0",
       "_model_name": "LayoutModel",
       "_view_count": null,
       "_view_module": "@jupyter-widgets/base",
       "_view_module_version": "1.2.0",
       "_view_name": "LayoutView",
       "align_content": null,
       "align_items": null,
       "align_self": null,
       "border": null,
       "bottom": null,
       "display": null,
       "flex": null,
       "flex_flow": null,
       "grid_area": null,
       "grid_auto_columns": null,
       "grid_auto_flow": null,
       "grid_auto_rows": null,
       "grid_column": null,
       "grid_gap": null,
       "grid_row": null,
       "grid_template_areas": null,
       "grid_template_columns": null,
       "grid_template_rows": null,
       "height": null,
       "justify_content": null,
       "justify_items": null,
       "left": null,
       "margin": null,
       "max_height": null,
       "max_width": null,
       "min_height": null,
       "min_width": null,
       "object_fit": null,
       "object_position": null,
       "order": null,
       "overflow": null,
       "overflow_x": null,
       "overflow_y": null,
       "padding": null,
       "right": null,
       "top": null,
       "visibility": null,
       "width": null
      }
     },
     "b021ed562d4b43d69cc94afa66883d70": {
      "model_module": "@jupyter-widgets/base",
      "model_module_version": "1.2.0",
      "model_name": "LayoutModel",
      "state": {
       "_model_module": "@jupyter-widgets/base",
       "_model_module_version": "1.2.0",
       "_model_name": "LayoutModel",
       "_view_count": null,
       "_view_module": "@jupyter-widgets/base",
       "_view_module_version": "1.2.0",
       "_view_name": "LayoutView",
       "align_content": null,
       "align_items": null,
       "align_self": null,
       "border": null,
       "bottom": null,
       "display": null,
       "flex": null,
       "flex_flow": null,
       "grid_area": null,
       "grid_auto_columns": null,
       "grid_auto_flow": null,
       "grid_auto_rows": null,
       "grid_column": null,
       "grid_gap": null,
       "grid_row": null,
       "grid_template_areas": null,
       "grid_template_columns": null,
       "grid_template_rows": null,
       "height": null,
       "justify_content": null,
       "justify_items": null,
       "left": null,
       "margin": null,
       "max_height": null,
       "max_width": null,
       "min_height": null,
       "min_width": null,
       "object_fit": null,
       "object_position": null,
       "order": null,
       "overflow": null,
       "overflow_x": null,
       "overflow_y": null,
       "padding": null,
       "right": null,
       "top": null,
       "visibility": null,
       "width": null
      }
     },
     "b30a072cf1764be8afeaa5b266a96c9c": {
      "model_module": "@jupyter-widgets/controls",
      "model_module_version": "1.5.0",
      "model_name": "ProgressStyleModel",
      "state": {
       "_model_module": "@jupyter-widgets/controls",
       "_model_module_version": "1.5.0",
       "_model_name": "ProgressStyleModel",
       "_view_count": null,
       "_view_module": "@jupyter-widgets/base",
       "_view_module_version": "1.2.0",
       "_view_name": "StyleView",
       "bar_color": null,
       "description_width": ""
      }
     },
     "c8c675c51fa94a5b8acdfa3cb4355ef9": {
      "model_module": "@jupyter-widgets/controls",
      "model_module_version": "1.5.0",
      "model_name": "FloatProgressModel",
      "state": {
       "_dom_classes": [],
       "_model_module": "@jupyter-widgets/controls",
       "_model_module_version": "1.5.0",
       "_model_name": "FloatProgressModel",
       "_view_count": null,
       "_view_module": "@jupyter-widgets/controls",
       "_view_module_version": "1.5.0",
       "_view_name": "ProgressView",
       "bar_style": "success",
       "description": "",
       "description_tooltip": null,
       "layout": "IPY_MODEL_af2877eedd174f7f9de19f2950a5f17a",
       "max": 1,
       "min": 0,
       "orientation": "horizontal",
       "style": "IPY_MODEL_2c1bddc0d7ff4733b823e5630082d459",
       "value": 1
      }
     },
     "cc55eb3d635249ae94b660ea2105dbd1": {
      "model_module": "@jupyter-widgets/controls",
      "model_module_version": "1.5.0",
      "model_name": "HTMLModel",
      "state": {
       "_dom_classes": [],
       "_model_module": "@jupyter-widgets/controls",
       "_model_module_version": "1.5.0",
       "_model_name": "HTMLModel",
       "_view_count": null,
       "_view_module": "@jupyter-widgets/controls",
       "_view_module_version": "1.5.0",
       "_view_name": "HTMLView",
       "description": "",
       "description_tooltip": null,
       "layout": "IPY_MODEL_28093c55e8da4e94a9cc9934356c67cc",
       "placeholder": "​",
       "style": "IPY_MODEL_2246e0e0f5b145e09141cf19d451f2c0",
       "value": "100%"
      }
     },
     "d52eb8e7d24d473b9a0fd226375f8248": {
      "model_module": "@jupyter-widgets/controls",
      "model_module_version": "1.5.0",
      "model_name": "HTMLModel",
      "state": {
       "_dom_classes": [],
       "_model_module": "@jupyter-widgets/controls",
       "_model_module_version": "1.5.0",
       "_model_name": "HTMLModel",
       "_view_count": null,
       "_view_module": "@jupyter-widgets/controls",
       "_view_module_version": "1.5.0",
       "_view_name": "HTMLView",
       "description": "",
       "description_tooltip": null,
       "layout": "IPY_MODEL_09bf86783fea4261bae972e441dce90d",
       "placeholder": "​",
       "style": "IPY_MODEL_269d1d45c7644aa0a0c1e2d964ff1a47",
       "value": "100%"
      }
     },
     "e0df31ee51a8429e9f2a9a83d878c431": {
      "model_module": "@jupyter-widgets/controls",
      "model_module_version": "1.5.0",
      "model_name": "HTMLModel",
      "state": {
       "_dom_classes": [],
       "_model_module": "@jupyter-widgets/controls",
       "_model_module_version": "1.5.0",
       "_model_name": "HTMLModel",
       "_view_count": null,
       "_view_module": "@jupyter-widgets/controls",
       "_view_module_version": "1.5.0",
       "_view_name": "HTMLView",
       "description": "",
       "description_tooltip": null,
       "layout": "IPY_MODEL_7f4cfdf1294047109e25d6f70a87e844",
       "placeholder": "​",
       "style": "IPY_MODEL_2eea86b8f06e477da830f150e8fa1d5c",
       "value": " 1/1 [00:00&lt;00:00, 22.78ba/s]"
      }
     },
     "e47b4b1597e84114a73af2c2b5c6eeca": {
      "model_module": "@jupyter-widgets/controls",
      "model_module_version": "1.5.0",
      "model_name": "DescriptionStyleModel",
      "state": {
       "_model_module": "@jupyter-widgets/controls",
       "_model_module_version": "1.5.0",
       "_model_name": "DescriptionStyleModel",
       "_view_count": null,
       "_view_module": "@jupyter-widgets/base",
       "_view_module_version": "1.2.0",
       "_view_name": "StyleView",
       "description_width": ""
      }
     },
     "fdcbd89eb76446f6834169e344da71d1": {
      "model_module": "@jupyter-widgets/base",
      "model_module_version": "1.2.0",
      "model_name": "LayoutModel",
      "state": {
       "_model_module": "@jupyter-widgets/base",
       "_model_module_version": "1.2.0",
       "_model_name": "LayoutModel",
       "_view_count": null,
       "_view_module": "@jupyter-widgets/base",
       "_view_module_version": "1.2.0",
       "_view_name": "LayoutView",
       "align_content": null,
       "align_items": null,
       "align_self": null,
       "border": null,
       "bottom": null,
       "display": null,
       "flex": null,
       "flex_flow": null,
       "grid_area": null,
       "grid_auto_columns": null,
       "grid_auto_flow": null,
       "grid_auto_rows": null,
       "grid_column": null,
       "grid_gap": null,
       "grid_row": null,
       "grid_template_areas": null,
       "grid_template_columns": null,
       "grid_template_rows": null,
       "height": null,
       "justify_content": null,
       "justify_items": null,
       "left": null,
       "margin": null,
       "max_height": null,
       "max_width": null,
       "min_height": null,
       "min_width": null,
       "object_fit": null,
       "object_position": null,
       "order": null,
       "overflow": null,
       "overflow_x": null,
       "overflow_y": null,
       "padding": null,
       "right": null,
       "top": null,
       "visibility": null,
       "width": null
      }
     }
    },
    "version_major": 2,
    "version_minor": 0
   }
  }
 },
 "nbformat": 4,
 "nbformat_minor": 5
}
